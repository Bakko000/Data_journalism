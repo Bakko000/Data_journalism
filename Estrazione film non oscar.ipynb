{
 "cells": [
  {
   "cell_type": "code",
   "execution_count": 5,
   "id": "af0354d8",
   "metadata": {},
   "outputs": [],
   "source": [
    "from urllib.request import urlopen as uReq\n",
    "from bs4 import BeautifulSoup as soup\n",
    "import pandas as pdp\n",
    "import requests\n",
    "import random"
   ]
  },
  {
   "cell_type": "code",
   "execution_count": 6,
   "id": "546954c7",
   "metadata": {},
   "outputs": [],
   "source": [
    "import pandas as pd\n",
    "columns = ['Film', 'Anno', 'Genere', 'Ratings']\n",
    "\n",
    "# Crea un DataFrame vuoto utilizzando Pandas\n",
    "dataset = pd.DataFrame(columns=columns)"
   ]
  },
  {
   "cell_type": "code",
   "execution_count": 7,
   "id": "5215e648",
   "metadata": {},
   "outputs": [],
   "source": [
    "## Film\n",
    "erin_b='https://www.imdb.com/title/tt0195685/?ref_=fn_al_tt_1'\n",
    "hotel_r='https://www.imdb.com/title/tt0395169/?ref_=fn_al_tt_1'\n",
    "gran_torino='https://www.imdb.com/title/tt1205489/?ref_=fn_al_tt_1'\n",
    "youth='https://www.imdb.com/title/tt3312830/?ref_=fn_al_tt_1'\n",
    "wonder='https://www.imdb.com/title/tt2543472/?ref_=fn_al_tt_1'\n",
    "saltuburn='https://www.imdb.com/title/tt17351924/?ref_=nv_sr_srsg_0_tt_6_nm_2_in_0_q_saltbu'\n",
    "c_ancora_domani='https://www.imdb.com/title/tt21800162/?ref_=nv_sr_srsg_0_tt_8_nm_0_in_0_q_c%27%25C3%25A8%2520an'"
   ]
  },
  {
   "cell_type": "code",
   "execution_count": 8,
   "id": "8991a8db",
   "metadata": {},
   "outputs": [
    {
     "name": "stdout",
     "output_type": "stream",
     "text": [
      "URL: https://www.imdb.com/title/tt0195685/?ref_=fn_al_tt_1\n"
     ]
    },
    {
     "name": "stderr",
     "output_type": "stream",
     "text": [
      "/var/folders/z1/5d0679sd5qz5vfgmddjjg_sw0000gn/T/ipykernel_4455/2949636694.py:57: FutureWarning: The frame.append method is deprecated and will be removed from pandas in a future version. Use pandas.concat instead.\n",
      "  dataset = dataset.append(dataset_movie, ignore_index=True)\n"
     ]
    },
    {
     "name": "stdout",
     "output_type": "stream",
     "text": [
      "URL: https://www.imdb.com/title/tt0395169/?ref_=fn_al_tt_1\n"
     ]
    },
    {
     "name": "stderr",
     "output_type": "stream",
     "text": [
      "/var/folders/z1/5d0679sd5qz5vfgmddjjg_sw0000gn/T/ipykernel_4455/2949636694.py:57: FutureWarning: The frame.append method is deprecated and will be removed from pandas in a future version. Use pandas.concat instead.\n",
      "  dataset = dataset.append(dataset_movie, ignore_index=True)\n"
     ]
    },
    {
     "name": "stdout",
     "output_type": "stream",
     "text": [
      "URL: https://www.imdb.com/title/tt1205489/?ref_=fn_al_tt_1\n"
     ]
    },
    {
     "name": "stderr",
     "output_type": "stream",
     "text": [
      "/var/folders/z1/5d0679sd5qz5vfgmddjjg_sw0000gn/T/ipykernel_4455/2949636694.py:57: FutureWarning: The frame.append method is deprecated and will be removed from pandas in a future version. Use pandas.concat instead.\n",
      "  dataset = dataset.append(dataset_movie, ignore_index=True)\n"
     ]
    },
    {
     "name": "stdout",
     "output_type": "stream",
     "text": [
      "URL: https://www.imdb.com/title/tt3312830/?ref_=fn_al_tt_1\n"
     ]
    },
    {
     "name": "stderr",
     "output_type": "stream",
     "text": [
      "/var/folders/z1/5d0679sd5qz5vfgmddjjg_sw0000gn/T/ipykernel_4455/2949636694.py:57: FutureWarning: The frame.append method is deprecated and will be removed from pandas in a future version. Use pandas.concat instead.\n",
      "  dataset = dataset.append(dataset_movie, ignore_index=True)\n"
     ]
    },
    {
     "name": "stdout",
     "output_type": "stream",
     "text": [
      "URL: https://www.imdb.com/title/tt2543472/?ref_=fn_al_tt_1\n"
     ]
    },
    {
     "name": "stderr",
     "output_type": "stream",
     "text": [
      "/var/folders/z1/5d0679sd5qz5vfgmddjjg_sw0000gn/T/ipykernel_4455/2949636694.py:57: FutureWarning: The frame.append method is deprecated and will be removed from pandas in a future version. Use pandas.concat instead.\n",
      "  dataset = dataset.append(dataset_movie, ignore_index=True)\n"
     ]
    },
    {
     "name": "stdout",
     "output_type": "stream",
     "text": [
      "URL: https://www.imdb.com/title/tt17351924/?ref_=nv_sr_srsg_0_tt_6_nm_2_in_0_q_saltbu\n"
     ]
    },
    {
     "name": "stderr",
     "output_type": "stream",
     "text": [
      "/var/folders/z1/5d0679sd5qz5vfgmddjjg_sw0000gn/T/ipykernel_4455/2949636694.py:57: FutureWarning: The frame.append method is deprecated and will be removed from pandas in a future version. Use pandas.concat instead.\n",
      "  dataset = dataset.append(dataset_movie, ignore_index=True)\n"
     ]
    },
    {
     "name": "stdout",
     "output_type": "stream",
     "text": [
      "URL: https://www.imdb.com/title/tt21800162/?ref_=nv_sr_srsg_0_tt_8_nm_0_in_0_q_c%27%25C3%25A8%2520an\n"
     ]
    },
    {
     "name": "stderr",
     "output_type": "stream",
     "text": [
      "/var/folders/z1/5d0679sd5qz5vfgmddjjg_sw0000gn/T/ipykernel_4455/2949636694.py:57: FutureWarning: The frame.append method is deprecated and will be removed from pandas in a future version. Use pandas.concat instead.\n",
      "  dataset = dataset.append(dataset_movie, ignore_index=True)\n"
     ]
    }
   ],
   "source": [
    "import re\n",
    "import requests\n",
    "from bs4 import BeautifulSoup\n",
    "import pandas as pd\n",
    "\n",
    "headers = {\n",
    "    'User-Agent': 'Mozilla/5.0 (Windows NT 6.3; Win 64 ; x64) Apple WeKit /537.36(KHTML , like Gecko) Chrome/80.0.3987.162 Safari/537.36'\n",
    "}\n",
    "\n",
    "# Inizializza il DataFrame vuoto utilizzando Pandas\n",
    "columns = ['Film', 'Anno', 'Genere', 'Ratings']\n",
    "dataset = pd.DataFrame(columns=columns)\n",
    "\n",
    "urls = [erin_b, hotel_r, gran_torino, youth, wonder,saltuburn, c_ancora_domani]\n",
    "\n",
    "def prefix_using_split(string, char):\n",
    "    prefix = string.split(char)[0]\n",
    "    return prefix\n",
    "\n",
    "def extract_year_and_return(title):\n",
    "    d = re.findall(r'\\(.*?\\)', title)\n",
    "    if d:\n",
    "        data_1 = d[0]\n",
    "        match = re.search(r'\\d+', data_1)\n",
    "        if match:\n",
    "            extracted_number = int(match.group(0))\n",
    "            return extracted_number\n",
    "    return None\n",
    "\n",
    "def extract_genre(genere):\n",
    "    if ',' in genere:\n",
    "        genere = genere.split(',')\n",
    "        genere = genere[0].strip(\"'\")\n",
    "    return genere\n",
    "\n",
    "for url in urls:\n",
    "    print(\"URL:\", url)\n",
    "    \n",
    "    # Effettua la richiesta GET alla pagina corrente\n",
    "    page = requests.get(url, headers=headers)\n",
    "    \n",
    "    # Verifica che la richiesta sia stata eseguita correttamente\n",
    "    if page.status_code == 200:\n",
    "        soup = BeautifulSoup(page.text, 'html.parser')\n",
    "        \n",
    "        # Trova il titolo e le informazioni necessarie dalla pagina\n",
    "        og_title_meta = soup.find('meta', property='og:title')\n",
    "        if og_title_meta:\n",
    "            titolo = og_title_meta.get('content', '')\n",
    "            t = prefix_using_split(titolo, '(')\n",
    "            data = extract_year_and_return(titolo)\n",
    "            rating = float(og_title_meta['content'].split('⭐')[1].strip().split('|')[0].strip()) if 'content' in og_title_meta.attrs else None\n",
    "            genere = extract_genre(og_title_meta['content'].split('⭐')[1].split('|')[1].strip())\n",
    "            \n",
    "            # Crea il dizionario con le informazioni del film e aggiungi al DataFrame\n",
    "            dataset_movie = {'Film': t, 'Anno': data, 'Genere': genere, 'Ratings': rating}\n",
    "            dataset = dataset.append(dataset_movie, ignore_index=True)"
   ]
  },
  {
   "cell_type": "code",
   "execution_count": 9,
   "id": "2dfd2e9a",
   "metadata": {},
   "outputs": [
    {
     "data": {
      "text/html": [
       "<div>\n",
       "<style scoped>\n",
       "    .dataframe tbody tr th:only-of-type {\n",
       "        vertical-align: middle;\n",
       "    }\n",
       "\n",
       "    .dataframe tbody tr th {\n",
       "        vertical-align: top;\n",
       "    }\n",
       "\n",
       "    .dataframe thead th {\n",
       "        text-align: right;\n",
       "    }\n",
       "</style>\n",
       "<table border=\"1\" class=\"dataframe\">\n",
       "  <thead>\n",
       "    <tr style=\"text-align: right;\">\n",
       "      <th></th>\n",
       "      <th>Film</th>\n",
       "      <th>Anno</th>\n",
       "      <th>Genere</th>\n",
       "      <th>Ratings</th>\n",
       "    </tr>\n",
       "  </thead>\n",
       "  <tbody>\n",
       "    <tr>\n",
       "      <th>0</th>\n",
       "      <td>Erin Brockovich - Forte come la verità</td>\n",
       "      <td>2000</td>\n",
       "      <td>Biography</td>\n",
       "      <td>7.4</td>\n",
       "    </tr>\n",
       "    <tr>\n",
       "      <th>1</th>\n",
       "      <td>Hotel Rwanda</td>\n",
       "      <td>2004</td>\n",
       "      <td>Biography</td>\n",
       "      <td>8.1</td>\n",
       "    </tr>\n",
       "    <tr>\n",
       "      <th>2</th>\n",
       "      <td>Gran Torino</td>\n",
       "      <td>2008</td>\n",
       "      <td>Drama</td>\n",
       "      <td>8.1</td>\n",
       "    </tr>\n",
       "    <tr>\n",
       "      <th>3</th>\n",
       "      <td>Youth - La giovinezza</td>\n",
       "      <td>2015</td>\n",
       "      <td>Comedy</td>\n",
       "      <td>7.3</td>\n",
       "    </tr>\n",
       "    <tr>\n",
       "      <th>4</th>\n",
       "      <td>Wonder</td>\n",
       "      <td>2017</td>\n",
       "      <td>Drama</td>\n",
       "      <td>7.9</td>\n",
       "    </tr>\n",
       "    <tr>\n",
       "      <th>5</th>\n",
       "      <td>Saltburn</td>\n",
       "      <td>2023</td>\n",
       "      <td>Drama</td>\n",
       "      <td>7.0</td>\n",
       "    </tr>\n",
       "    <tr>\n",
       "      <th>6</th>\n",
       "      <td>C'è ancora domani</td>\n",
       "      <td>2023</td>\n",
       "      <td>Comedy</td>\n",
       "      <td>7.7</td>\n",
       "    </tr>\n",
       "  </tbody>\n",
       "</table>\n",
       "</div>"
      ],
      "text/plain": [
       "                                      Film  Anno     Genere  Ratings\n",
       "0  Erin Brockovich - Forte come la verità   2000  Biography      7.4\n",
       "1                            Hotel Rwanda   2004  Biography      8.1\n",
       "2                             Gran Torino   2008      Drama      8.1\n",
       "3                   Youth - La giovinezza   2015     Comedy      7.3\n",
       "4                                  Wonder   2017      Drama      7.9\n",
       "5                                Saltburn   2023      Drama      7.0\n",
       "6                       C'è ancora domani   2023     Comedy      7.7"
      ]
     },
     "execution_count": 9,
     "metadata": {},
     "output_type": "execute_result"
    }
   ],
   "source": [
    "dataset"
   ]
  },
  {
   "cell_type": "code",
   "execution_count": 10,
   "id": "e68891d8",
   "metadata": {},
   "outputs": [],
   "source": [
    "dataset.to_csv('film_no_oscar_generico.csv', index=False)"
   ]
  },
  {
   "cell_type": "code",
   "execution_count": null,
   "id": "981ef937",
   "metadata": {},
   "outputs": [],
   "source": []
  }
 ],
 "metadata": {
  "kernelspec": {
   "display_name": "Python 3 (ipykernel)",
   "language": "python",
   "name": "python3"
  },
  "language_info": {
   "codemirror_mode": {
    "name": "ipython",
    "version": 3
   },
   "file_extension": ".py",
   "mimetype": "text/x-python",
   "name": "python",
   "nbconvert_exporter": "python",
   "pygments_lexer": "ipython3",
   "version": "3.9.19"
  }
 },
 "nbformat": 4,
 "nbformat_minor": 5
}
