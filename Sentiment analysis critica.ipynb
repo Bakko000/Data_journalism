{
 "cells": [
  {
   "cell_type": "code",
   "execution_count": 1,
   "id": "4df7cb1c",
   "metadata": {},
   "outputs": [],
   "source": [
    "import pandas as pd"
   ]
  },
  {
   "cell_type": "code",
   "execution_count": 2,
   "id": "362d8246",
   "metadata": {},
   "outputs": [],
   "source": [
    "import pickle"
   ]
  },
  {
   "cell_type": "markdown",
   "id": "40580c75",
   "metadata": {},
   "source": [
    "## Drama"
   ]
  },
  {
   "cell_type": "code",
   "execution_count": 88,
   "id": "277951d4",
   "metadata": {},
   "outputs": [
    {
     "name": "stdout",
     "output_type": "stream",
     "text": [
      "25\n"
     ]
    }
   ],
   "source": [
    "with open('recensioncritica_all_ovest_niente_di_nuovo.pickle', 'rb') as f:\n",
    "    r_critica_all_ovest_niente_di_nuovo = pickle.load(f)\n",
    "    print(len(r_critica_all_ovest_niente_di_nuovo))\n",
    "    "
   ]
  },
  {
   "cell_type": "code",
   "execution_count": 89,
   "id": "f3d825b0",
   "metadata": {},
   "outputs": [],
   "source": [
    "#r_critica_all_ovest_niente_di_nuovo"
   ]
  },
  {
   "cell_type": "code",
   "execution_count": 90,
   "id": "6837665c",
   "metadata": {},
   "outputs": [
    {
     "name": "stdout",
     "output_type": "stream",
     "text": [
      "19\n"
     ]
    }
   ],
   "source": [
    "with open('recensionicritica_giorni_perduti.pickle', 'rb') as f:\n",
    "    r_critica_giorni_perduti= pickle.load(f)\n",
    "    #print(len(r_critica_giorni_perduti))\n",
    "    r_critica_giorni_perduti = [sottolista for sottolista in r_critica_giorni_perduti if sottolista!=['']]\n",
    "                \n",
    "        \n",
    "    print(len(r_critica_giorni_perduti))"
   ]
  },
  {
   "cell_type": "code",
   "execution_count": 91,
   "id": "61ddd1f1",
   "metadata": {},
   "outputs": [],
   "source": [
    "#r_critica_giorni_perduti"
   ]
  },
  {
   "cell_type": "code",
   "execution_count": 92,
   "id": "a3357869",
   "metadata": {},
   "outputs": [
    {
     "name": "stdout",
     "output_type": "stream",
     "text": [
      "15\n"
     ]
    }
   ],
   "source": [
    "with open('recensioncritica_quinto_potere.pickle', 'rb') as f:\n",
    "    r_critica_quinto_potere = pickle.load(f)\n",
    "    r_critica_quinto_potere=[sottolista for sottolista in r_critica_quinto_potere if sottolista!=['']]\n",
    "    print(len(r_critica_quinto_potere))"
   ]
  },
  {
   "cell_type": "code",
   "execution_count": 93,
   "id": "2083a535",
   "metadata": {},
   "outputs": [
    {
     "name": "stdout",
     "output_type": "stream",
     "text": [
      "38\n"
     ]
    }
   ],
   "source": [
    "with open('recensionicritica_rain_man.pickle', 'rb') as f:\n",
    "    r_critica_rain_man = pickle.load(f)\n",
    "    r_critica_rain_man=[sottolista for sottolista in r_critica_rain_man if sottolista!=['']]\n",
    "    print(len(r_critica_rain_man))"
   ]
  },
  {
   "cell_type": "code",
   "execution_count": 94,
   "id": "2fa04ff8",
   "metadata": {},
   "outputs": [
    {
     "name": "stdout",
     "output_type": "stream",
     "text": [
      "51\n"
     ]
    }
   ],
   "source": [
    "with open('recensionicritica_forrest_gump.pickle', 'rb') as f:\n",
    "    r_critica_forrest_gump = pickle.load(f)\n",
    "    r_critica_forrest_gump=[sottolista for sottolista in r_critica_forrest_gump if sottolista!=['']]\n",
    "    print(len(r_critica_forrest_gump))"
   ]
  },
  {
   "cell_type": "code",
   "execution_count": 95,
   "id": "b06b5552",
   "metadata": {},
   "outputs": [
    {
     "name": "stdout",
     "output_type": "stream",
     "text": [
      "32\n"
     ]
    }
   ],
   "source": [
    "with open('recensionicritica_il_paziente__inglese.pickle', 'rb') as f:\n",
    "    r_critica_il_paziente_inglese= pickle.load(f)\n",
    "    r_critica_il_paziente_inglese=[sottolista for sottolista in r_critica_il_paziente_inglese if sottolista!=['']]\n",
    "    print(len(r_critica_il_paziente_inglese))"
   ]
  },
  {
   "cell_type": "code",
   "execution_count": 96,
   "id": "b8607cca",
   "metadata": {},
   "outputs": [
    {
     "name": "stdout",
     "output_type": "stream",
     "text": [
      "88\n"
     ]
    }
   ],
   "source": [
    "with open('recensionicritica_moonlight.pickle', 'rb') as f:\n",
    "    r_critica_moonlight = pickle.load(f)\n",
    "    r_critica_moonlight=[sottolista for sottolista in r_critica_moonlight if sottolista!=['']]\n",
    "    print(len(r_critica_moonlight))"
   ]
  },
  {
   "cell_type": "code",
   "execution_count": 97,
   "id": "2177814e",
   "metadata": {},
   "outputs": [
    {
     "name": "stdout",
     "output_type": "stream",
     "text": [
      "94\n"
     ]
    }
   ],
   "source": [
    "with open('recensioncritica_la_forma_dellacqua.pickle', 'rb') as f:\n",
    "    r_critica_la_forma_dellacqua = pickle.load(f)\n",
    "    r_critica_la_forma_dellacqua=[sottolista for sottolista in r_critica_la_forma_dellacqua if sottolista!=['']]\n",
    "    print(len(r_critica_la_forma_dellacqua))"
   ]
  },
  {
   "cell_type": "code",
   "execution_count": 98,
   "id": "50f38ad9",
   "metadata": {},
   "outputs": [
    {
     "name": "stdout",
     "output_type": "stream",
     "text": [
      "81\n"
     ]
    }
   ],
   "source": [
    "with open('recensionicritica_parasite.pickle', 'rb') as f:\n",
    "    r_critica_parasite = pickle.load(f)\n",
    "    r_critica_parasite =[sottolista for sottolista in r_critica_parasite if sottolista!=['']]\n",
    "    print(len(r_critica_parasite))"
   ]
  },
  {
   "cell_type": "code",
   "execution_count": 99,
   "id": "a2c51880",
   "metadata": {},
   "outputs": [
    {
     "name": "stdout",
     "output_type": "stream",
     "text": [
      "83\n"
     ]
    }
   ],
   "source": [
    "with open('recensionicritica_nomadland.pickle', 'rb') as f:\n",
    "    r_critica_nomadland = pickle.load(f)\n",
    "    r_critica_nomadland=[sottolista for sottolista in r_critica_nomadland if sottolista!=['']]\n",
    "    print(len(r_critica_nomadland))"
   ]
  },
  {
   "cell_type": "code",
   "execution_count": 100,
   "id": "ebf9c822",
   "metadata": {},
   "outputs": [],
   "source": [
    "recensioni_critica_drama=[]\n",
    "recensioni_critica_drama=[\n",
    "    r_critica_all_ovest_niente_di_nuovo,\n",
    "    r_critica_giorni_perduti, \n",
    "    r_critica_quinto_potere,\n",
    "    r_critica_rain_man, \n",
    "    r_critica_forrest_gump, \n",
    "    r_critica_il_paziente_inglese,\n",
    "    r_critica_moonlight, \n",
    "    r_critica_la_forma_dellacqua, \n",
    "    r_critica_parasite, \n",
    "    r_critica_nomadland    \n",
    "    \n",
    "]"
   ]
  },
  {
   "cell_type": "code",
   "execution_count": 101,
   "id": "9936b5f0",
   "metadata": {},
   "outputs": [],
   "source": [
    "#recensioni_critica_drama"
   ]
  },
  {
   "cell_type": "code",
   "execution_count": 102,
   "id": "5b25dc35",
   "metadata": {},
   "outputs": [
    {
     "data": {
      "text/plain": [
       "526"
      ]
     },
     "execution_count": 102,
     "metadata": {},
     "output_type": "execute_result"
    }
   ],
   "source": [
    " sum(len(lista) for lista in recensioni_critica_drama)"
   ]
  },
  {
   "cell_type": "code",
   "execution_count": 103,
   "id": "03220f8c",
   "metadata": {},
   "outputs": [
    {
     "name": "stderr",
     "output_type": "stream",
     "text": [
      "/Users/isabelsantucci/opt/anaconda3/lib/python3.9/site-packages/scipy/__init__.py:146: UserWarning: A NumPy version >=1.16.5 and <1.23.0 is required for this version of SciPy (detected version 1.24.3\n",
      "  warnings.warn(f\"A NumPy version >={np_minversion} and <{np_maxversion}\"\n"
     ]
    },
    {
     "name": "stdout",
     "output_type": "stream",
     "text": [
      "Mr. Lewis Milestone, the Russian who directed it, has made the most remarkable film I have ever seen. His battles scenes alone are astonishing. 0.4375\n",
      "Here is a photoplay which carries a wallop in every scene. Without doubt, it is as mighty a weapon against war as any infernal machine might be for conflict. After seeing it, there can be few to argue in favor of shedding the blood of any nation's youth. 0.1\n",
      "All Quiet on the Western Front will grip you and leave an indelible mark upon your soul. 0.0\n",
      "How it was passible to attain such remarkable accuracy in the battle episodes is a story in itself. But the delicate and intimate touches in the production are exceptionally fine, and though the story is somber there is the relieving humor here and there. 0.21333333333333332\n",
      "There is not much characterization in the picture. This is another reason why it is not a masterpiece. Many times it seems like a news reel actually taken at the front during 1917. It is this photographic detail which limits it as a work of art. 0.13333333333333333\n",
      "All Quiet on the Western Front is unquestionably the greatest screen document of war and its bitter, terrifying futility that has yet been presented. -0.019999999999999997\n",
      "All Quiet on the Western Front is beautifully photographed, and the difficult trench scenes have been reproduced with distinctness and clearness of detail. 0.0875\n",
      "Too much cannot be said for the acting and direction of All Quiet on the Western Front. It is almost impossible to believe that some of the battle scenes were staged. -0.09333333333333332\n",
      "In the film, as in the book, the most complete portrait is that of Katczinsky, and Mr. Louis Wolhein brilliantly succeeds in making of him the perfect soldier for trench warfare -- brave, steady, crafty, and humorous. 0.5208333333333333\n",
      "The production and photography arc amazingly good, and the acting flawless. 0.5666666666666667\n",
      "Transcending the slaughter, the bursting shells, and the views of a countryside blasted by battle, there rises the human, personal element, which has been developed with a breadth and a passionate intensity that raise the play to the greatness of tragedy. -0.11000000000000001\n",
      "Lewis Milestone's groundbreaking war film is up with La Grande Illusion as one of the finest humanitarian antiwar movies ever made. 0.0\n",
      "The lovely, terrible final image... is as heartbreaking in 1988 as it was a half century ago. -0.16666666666666666\n",
      "The performances are haunting. 0.0\n",
      "So magnificent, so powerful, that it hardly behooves mere words to tell of its heart-rending appeal, of its dramatic fire, its breath-taking battle shots in which men stab and kill each other, for the glory of war. -0.008333333333333331\n",
      "The rawness of the audio eradicates any lingering notion that war is romantic or exciting, and at times suggests the very battered eardrums of those engaged in combat. 0.16666666666666666\n",
      "The despair-and the artistry-is breathtaking. 1.0\n",
      "From such grisly materials the popular cinema is rarely drawn. The film is monumental in the courage that risked its manufacture. 0.3\n",
      "Despite a little dating around the edges this is a truly superb example of its genre and a cinema classic. 0.3263888888888889\n",
      "A harrowing, gruesome, morbid tale of war. -1.0\n",
      "Deserves its reputation as a classic. 0.16666666666666666\n",
      "An ambitious epic of tremendous sweep and scope. 0.22777777777777777\n",
      "The film's strength now derives less from its admittedly powerful but highly simplistic utterances about war as waste, than from a generally excellent set of performances (Ayres especially) and an almost total reluctance to follow normal plot structure. 0.07291666666666667\n",
      "One of the most effective pacifist arguments ever committed to celluloid. It is a torturous vision of death devoid of glory. 0.3333333333333333\n",
      "Messrs. Milestone, Abbott and Anderson in this film have contributed a memorable piece of work to the screen. 0.5\n",
      "The whole thing is short on imaginative resonance; what it has is the Brackett-and-Wilder specialty -- a distinctive cruel (and sometimes cruelly funny) edge. 0.010000000000000009\n",
      "The Lost Week End is magnificent melodrama, a serious study into a disease which too often is delineated in ridiculous guise, and an absorbing attempt to show the misery of drink. 0.04666666666666667\n",
      "If Ray Milland doesn't get the Academy Award for his work in The Lost Week-end it will be a miscarriage of justice. 0.0\n",
      "Jane Wyman, who plays Don's troubled sweetheart, is a revelation in her first dramatic role after her unbroken succession of featherweight comedy parts. -0.22777777777777777\n",
      "Ray Milland makes the central figure hateful, likable, and somehow understandable. His portrayal is a masterpiece of superb control, versatility, and sensitivity. 0.5\n",
      "Whatever may be one's individual reaction to this sordid story of a dipsomaniac's five-day debauch, there is no gainsaying that The Lost Weekend... is a movie masterpiece when considered both as to its daring story and technical treatment. 0.0\n",
      "Compliments must be handed out to the entire supporting cast for acting jobs far above the average in sincerity and power. 0.03333333333333333\n",
      "Few details of this alcoholic nightmare are scamped; and the film must certainly rank among the great ones of our time. -0.11249999999999999\n",
      "Ray Milland is fully equal to the heavy demands which it makes upon him as the central character. He suggests the charm which may persist into the depths of degradation. -0.06666666666666667\n",
      "The Lost [Weekend] is a fascinating, horrifying, and quite honest picture of a few days in the life of a hopeless alcoholic. -0.01000000000000002\n",
      "The \"curse of the drink\" was never more vividly dealt with than in The Lost Weekend. -0.0625\n",
      "One of cinema's earliest and best portraits of drug addiction. 1.0\n",
      "Under Wilder's imaginative direction, Milland has been able to convey just what an uncontrollable craving for liquor does to a man's mind, his body and soul. 0.55\n",
      "Director Billy Wilder's technique of photographing Third Avenue in the grey morning sunlight with a concealed camera to keep the crowds from being self-conscious gives this sequence the shock of reality. -0.025\n",
      "Painfully sincere and uncompromising look at alcoholism for a film released in 1945, with a superb central performance. 0.5\n",
      "It is intense, morbid -- and thrilling. Here is an intelligent dissection of one of society's most rampant evils. 0.4375\n",
      "Today it's less impressive but not without its virtues. 0.4166666666666667\n",
      "What makes the film so gripping is the brilliance with which Wilder uses John F Seitz's camerawork to range from an unvarnished portrait of New York brutally stripped of all glamour. -0.07954545454545454\n",
      "A shatteringly realistic and morbidly fascinating film. 0.4333333333333333\n",
      "Everything about the movie is thrilling and flawless. 0.625\n",
      "Like John Updike, Chayevsky and Lumet are here giving us Memories of the Ford Administration -- only they weren’t memories at the time. This was America as it was happening, suicidal ideations born of a scotch hangover, beamed live into every home. 0.06818181818181818\n",
      "The film looks negligently made; the lighting bleaches the actors' faces, like color TV that needs tuning, and the New York views outside feel like blown-up photographs. 0.06818181818181818\n",
      "No performance is less than brilliant, with Dunaway particularly effective in the film's showiest role. Holden, Finch and Duvall, as always, contribute bed-rock-solid performances. 0.4444444444444445\n",
      "This tale of a failing network that feeds on the mental breakdown of one of its anchors, cannibalising itself for ratings, feels as savagely relevant now as it did when it was released nearly 40 years ago. 0.13333333333333333\n",
      "The plot that Paddy Chayefsky has concocted to prove this point is so crazily preposterous that even in post-Watergate America -- where we know that bats can get loose in the corridors of power -- it is just impossible to accept. -0.4478632478632479\n",
      "The film's never been more timely. 0.5\n",
      "Chayefsky was apparently serious about much of this shrill, self-important 1976 satire about television, interlaced with bile about radicals and pushy career women, and so were some critics at the time. -0.17777777777777778\n",
      "Slick, 'adult', self-congratulatory, and almost entirely hollow. -0.08333333333333333\n",
      "Network can be faulted both for going too far and not far enough, but it's also something that very few commercial films are these days. It's alive. -0.018333333333333337\n",
      "This is a bawdy, stops-out, no-holds-barred story of a TV network that will, quite literally, do anything to get an audience. 0.0\n",
      "So the movie's flawed... That finally doesn't bother me, because what it does accomplish is done so well, is seen so sharply, is presented so unforgivingly, that Network will outlive a lot of tidier movies. -0.20833333333333334\n",
      "Prescient and sharply drawn -0.125\n",
      "The greatest screenplay ever to remain undestroyed by Hollywood. 1.0\n",
      "A very black comedy. -0.21666666666666667\n",
      "Now its portrayal of autism is seen as somewhat crude. However, there is no denying the power of the story and of Dustin Hoffman’s Oscar-winning performance as Raymond Babbitt. -0.7\n",
      "Yet his [Tom Cruise's] charisma is what keeps Barry Levinson’s film running smoothly. 0.4\n",
      "It's the Christmas picture that cares, the UNICEF epic, and that must explain why no one seems to notice, or to care, that from minute to minute. the story itself is second-hand hokum. 0.1\n",
      "The rigidity of Raymond's mind is Hoffman's opening to actor's poetry... He has created an image of disconnection and bafflement almost as memorable as Beckett's. 0.5\n",
      "In every detail -- the superb soundtrack, the rich cinematography, the distinctively edgy editing -- Rain Man reveals itself as a move made with care, smarts and a refreshing refusal to settle for the expected. 0.295\n",
      "The slack, windy script, by Barry Morrow and Ronald Bass, is forever recapitulating the obvious, and the director, Barry Levinson, exercises no discernible control over it or his actors. -0.07500000000000001\n",
      "Mr. Cruise showed enormous promise in his early films, Risky Business and All The Right Moves. But since then, he's been on Cruise control... Here, he's back at work and it shows. In less obvious ways, the younger actor is every bit Mr. Hoffman's equal. 0.027380952380952377\n",
      "What makes the film credible is Barry Levinson’s direction. He is one of the very few Hollywood directors who is an acute observer of human behavior for its own sake. 0.26799999999999996\n",
      "Your affection for Hoffman's character, Raymond Babbitt, grows slowly, but it lingers with a sweet aftertaste. 0.024999999999999967\n",
      "[Dustin Hoffman] enters his character with the stagey-yet-dead-on empathy that creates an affectively deep, full performance. 0.175\n",
      "Hoffman delivers the performance of his career... [And] Tom Cruise is no slouch, either. The box office's hottest leading man of the moment gracefully subordinates his co-lead status to lend supporting ballast to Hoffman's glowing dramatic maturity. -0.09166666666666665\n",
      "The film is rather long at 135 minutes, and starts like any old television problem movie. But it does warm to its task and, in the end, the least you can say of it is that it tells a good story with consummate skill. 0.3333333333333333\n",
      "In a sense, Dustin Hoffman has the easier assignment, one at any rate that offers the infinite scope to the research that suits his temperament as an actor, but there's no doubt that his Raymond is a remarkable achievement. 0.425\n",
      "Director Barry Levinson constantly finds an effective balance between what is funny and what is serious, making us realize they are often one and the same. 0.10333333333333332\n",
      "Barry Levinson and all concerned should be proud of this quiet, complex, subtle movie. They avoid clichés, and instant tears and laughs, and tell a sensitive story honestly and well. 0.12380952380952381\n",
      "Levinson directs with tremendous skill and sympathy, and a rich sense of humor. His fondness for overlapping, scatological dialogue, familiar from his earlier films, is given full rein here, and he helps Dustin Hoffman give the performance of his career. 0.2866666666666666\n",
      "Everything in this movie is fudged ever so humanistically, in a perfunctory, low-pressure way. And the picture has its effectiveness: people are crying at it. Of course they’re crying at it -- it’s a piece of wet kitsch. -0.16666666666666666\n",
      "Rain Man is a buddy movie about two guys who barely connect, and the miracle of the film is how simply -- and powerfully -- it connects with us. 0.11666666666666665\n",
      "As directed by Barry Levinson, the film is touching without sentimentality and funny -- very funny -- without derision or condescension. 0.35833333333333334\n",
      "Barry Levinson directs in masterful style. It is his best effort in what promises to be a distinguished career. 1.0\n",
      "It's Hoffman's most exposed performance in that he must work almost entirely with his character's landlocked interior life. 0.25\n",
      "Everything about the acting and direction of Rain Man is so exquisitely calibrated and so right that it's all too easy to forget how much could have gone wrong. 0.23650793650793647\n",
      "Under Barry Levinson's astringent direction, Hoffman and Cruise evoke honestly earned emotions. Don't pass on this wonderfully funny and touching movie. There's magic in it. 0.4625\n",
      "A fascinating, often very moving, frequently funny film. 0.3833333333333333\n",
      "It's an honorable effort, touched by a certain lightness and grace. 0.21428571428571427\n",
      "What no one can argue is that Rain Man is Cruise's quantum leap, so that it can be said unblushingly that he holds his own with the masterly Hoffman. 0.6\n",
      "The strength of the film is really that of Cruise's performance, his finest since Risky Business. 0.2\n",
      "Rain Man's restraint is, finally, rather like Raymond's gabble. It discourages connections, keeping you out instead of drawing you in. 0.0\n",
      "One of the year's most intriguing film premises is given uneven, slightly off-target treatment in UA's Rain Man. 0.10833333333333336\n",
      "Valeria Golino is appealing as Cruise's girlfriend; Hoffman makes his character pretty believable without milking the part for pathos and tears, and it's nice to see Cruise working for a change in a context that isn't determined by hard sell and hype. 0.31166666666666665\n",
      "There is no story, no motor, and given the nature of the premise, nothing much can happen. 0.2\n",
      "Hoffman and Cruise give signature performances in this thoughtful, and hugely enjoyable, classic. 0.35555555555555557\n",
      "There's a great Jonathan Demme movie waiting to bust out of Rain Man. 0.8\n",
      "Its end effect depends largely on one's susceptibility to the sight of an actor acting nonstop and extremely well, but to no particularly urgent dramatic purpose. -0.08547619047619047\n",
      "The film's greatest achievement is successfully framing the plot around a character incapable of emotional development. 0.5833333333333334\n",
      "Rain Man is so fascinating because it refuses to supply those questions with sentimental but unrealistic answers. -0.01666666666666668\n",
      "Neither Levinson nor Hoffman was able to penetrate the mystery of their subject. 0.16666666666666669\n",
      "Rain Man is far from a washout but you can't help feeling all those missed opportunities raining down on you. -0.02777777777777779\n",
      "Forrest Gump is Hollywood film-making at its most corn-fed, sucrose-enriched and calorific; you’ll need a sweet tooth for it. 0.425\n",
      "Zemeckis has made a fast movie about a slow hero; he transforms Forrest's daffy misconceptions into lyrical flights. Forrest Gump has a softer, more delicate touch and a richer current of feeling than any of the other holy-innocent movies. -0.00416666666666667\n",
      "Hanks' performance [is] a triumph of dignity, decency, and warm-hearted humor... Even more than his Oscar-winning achievement in Philadelphia, this is a role that will be remembered as long as people care about great acting. 0.3125\n",
      "Hanks never strikes a false note, never panders to his mentally slow character nor tries to make him more than he is, despite a script that occasionally calls on him to utter what presumably are intended to be simple profundities. -0.04285714285714288\n",
      "There's an undeniable kick to the idea of recapitulating to the Boomerography as a tale told by an idiot, but the thrill inexorably fades. -0.8\n",
      "Hanks' immersion in character and his convincing interaction with fellow players make Forrest Gump -- gimmicks and all -- a pleasure. 0.5\n",
      "The best art takes the biggest chances, thereby losing people who can't stretch with it. Forrest Gump is worth the effort. 0.65\n",
      "It turns tedious toward the end... But when it's good, it's very good, and the way it blends star Tom Hanks, who plays the title character, into actual historical film footage will tickle you to no end. 0.22199999999999998\n",
      "Forrest Gump manages to examine some of the basic questions of human life and to add perspective to the two most disruptive decades in modern history. 0.175\n",
      "Far more impressive than Zemeckis' techno-sleight-of-hand is the steadying integrity of Hanks' portrayal. His Southern-fried Holy Fool brings the movie into focus, giving it a heart to make up for its lack of brains. 0.5333333333333333\n",
      "By turns silly and sensitive, romantic and ridiculous, schmaltzy and sincere, this biography of a fictional character is entertaining and touching. 0.09583333333333333\n",
      "Forrest Gump doesn't wake people up to their times; it sends them to sleep thinking all is well with them. It makes one feel there's something to be said after all for Oliver Stone. 0.0\n",
      "Hanks pulls another stunning coup as the dim-witted, sweet-natured Gump. Speaking in a thick, gulping Southern accent, Hanks creates a character \"dumb\" enough to be mistreated and ridiculed by other but smart enough to know what's up. -0.0761904761904762\n",
      "The film's attitude is that intellectual deficiency is not something to be treated with understanding: it should be worshipped as the highest quality to which Americans can aspire. 0.3\n",
      "It's part elegy for a nation that likes to gun down its leaders, part Buster Keaton or Harold Lloyd comedy... The mix is kind of irresistible, because comedy with such texture is rare. 0.18611111111111112\n",
      "More of interest for what it says about how Americans wish to regard themselves than for its qualities as comedy or drama. Movies can be a magic mirror, and America has been mightily pleased with what it has seen in this tricksy bit of silvered glass. 0.5\n",
      "Forrest, we twig instantly, will be as free as that feather, as he bobs on the breezes of history. He'll also, however, be as lavishly artificial and airily bogus a construction, this being a very costly computer-generated feather. 1.3877787807814457e-17\n",
      "It's too specific to be a proper allegory, and too vague to provide a satisfactorily millennial perspective on the last 50 years. Neither is it caustic enough to make one cry, nor soppy enough to make one laugh. -0.07500000000000001\n",
      "Self-ingratiatingly, and for this viewer maddeningly, it blends the comic with the Christly, the satirical with the sentimental, the free-thinking with the fuddy-duddy. 0.0\n",
      "It remains a bad movie that gets worse with age. -0.5499999999999999\n",
      "I can't see how people with low I.Q.s or those who love them are in any way comforted by all this hogwash. I can easily see how such people might be offended by its smug unreality. 0.23333333333333334\n",
      "Contrasting Forrest's unassuming innocence with the upheavals and rancor of the times, the film is a wisely goofy commentary on the stupidity of smartness. -0.04999999999999999\n",
      "Forrest Gump, the new Tom Hanks movie directed by Robert Zemeckis, is a one-of-a-kind treat. Larky, yet carefully balanced and far from mindlessly upbeat. -0.015909090909090914\n",
      "A weirder, darker, and better movie than its reputation suggests. 0.5\n",
      "A dark and driven work, haunted by violence, cruelty and a sense of the tragically absurd. -0.325\n",
      "It might hit you right in the feels, even as your eyes are rolling. To quote one of Forrest's truest pieces of wisdom: Maybe both is happening at the same time. 0.14285714285714285\n",
      "So afraid to dredge up debate that when Forrest is handed a mic at an antiwar rally, someone unplugs the speakers so we can't hear him -- fitting for a movie with nothing to say. -0.04999999999999999\n",
      "It's most successful when it is being off-center, a state of grace it doesn't quite have the nerve to maintain. 0.625\n",
      "This isn't the meaningful movie it pretends to be. But as a goofy entertainment that speeds through the latter half of the 20th century, stopping here and there to snap a photo or two, Forrest Gump does just fine. 0.20833333333333334\n",
      "Forrest Gump is a schmaltz-Zelig, a Being There engineered from the genetic material of a Hallmark card. 0.0\n",
      "Good as Wright and Sinise are in their roles as Forrest's near-suicidal soulmates, the movie always comes back to Hanks, and director Robert Zemeckis helps him to achieve some of his finest emotional moments. 0.2333333333333333\n",
      "The movie's technical tricks are great fun, as is its musical soundtrack, which captures the essences of the eras it traverses. But when you come right down to it, it's the oddly magnetic personality of Forrest himself that is the biggest draw. 0.1519274376417233\n",
      "This tall tale may reach monumental proportions, but Forrest Gump always keeps its magical airiness and grace. 0.5\n",
      "Credit for the success of the film has to start with director Robert Zemeckis, who has taken his Back to the Future and Who Framed Roger Rabbit success and parlayed it into a more mature, yet equally entertaining, film. 0.24285714285714288\n",
      "Warm, wise, and wearisome as hell. 0.6499999999999999\n",
      "All this might have seemed like pressing optimism a bit without the bland but still potent presence of Tom Hanks at its centre, clearly on his way to another Oscar nomination. 0.14444444444444446\n",
      "For all its ambition, the movie ends up using great historical events in the service of a dubious sentimentality. 0.4\n",
      "For all its mush and meandering, this is among the stand-out audience pleasers; Hanks outdoes himself in the loveable dolt department with unforgettable, utterly disarming work. 0.4\n",
      "A picaresque story of a simpleton's charmed odyssey through 30 years of tumultuous American history, Forrest Gump is whimsy with a strong cultural spine. 0.17777777777777778\n",
      "Now that this movie has become one of the top grossers of all time, there are plenty of reasons to suspect that its “stupidity as redemption” message is telling a good many Americans exactly what they want to hear. 0.27\n",
      "As this mawkish conservative movie ultimately goes to prove: ignorance is bliss. 0.0\n",
      "Forrest Gump has the elements of an emotionally gripping story. Yet it feels less like a romance than like a coffee-table book celebrating the magic of special effects. 0.2976190476190476\n",
      "Skillfully adapted by screenwriter Eric Roth, the story belongs in the company of such sweet classics as Rain Man and Harvey. 0.175\n",
      "A movie heart-breaker of oddball wit and startling grace. -0.5\n",
      "It could be said that Forrest Gump is the definitive American movie. 0.0\n",
      "Hanks is so charming as Gump, so heroic in his guilelessness and belief in simple virtues, that you want to excuse the film's excesses and overlook Zemeckis' weakness for easy, maudlin sentiment. 0.35666666666666663\n",
      "Forrest comes across as a sweeter Zelig, a candied Candide, as the film strains to find America's inner child. But Hanks holds it together because he is working to discover Forrest's inner adult -- the mature man under his infantile guilelessness. -0.04\n",
      "For the most part, however, this is a captivating experience. Hanks is superb, reemploying the childlike presence he brought to Big. 0.5\n",
      "This story of a simple man's journey through life and the turbulent events of post-war America is both dark and sweet, with a center that is soft but also rich and surprising. 0.18214285714285713\n",
      "I can't think of anyone else as Gump, after seeing how Hanks makes him into a person so dignified, so straight-ahead. The performance is a breathtaking balancing act between comedy and sadness, in a story rich in big laughs and quiet truths. 0.34375\n",
      "Reduces the tumult of the last few decades to a virtual-reality theme park: a baby-boomer version of Disney's America. -0.1\n",
      "If Minghella's debut feature Truly, Madly, Deeply was overrated -- a Ghost for the NW3 set -- this movie is a quantum leap towards cinema's potential for magic. 0.16666666666666666\n",
      "You can take your brain to The English Patient and you will not be insulted. Your eyes will not be offended either. This scarcely makes Minghella's film the best in the world; it just makes it loom large. 0.4047619047619047\n",
      "Its wit, sophistication and artistry never are at odds with the fundamental pull of a powerful love story that out-Zhivagos Doctor Zhivago because it respects love's mysteries, admits it doesn't know the heart's boundaries. 0.43333333333333335\n",
      "Relentlessly beautiful, but not quite stupifyingly so 0.85\n",
      "It took a filmmaker with Anthony Minghella's vision to even attempt an adaptation of Michael Ondaatje's The English Patient. And it took a filmmaker with Minghella's talent to pull it off. 0.0\n",
      "Could this possibly be the Casablanca of the late 20th century? -0.09999999999999999\n",
      "It's the sort of solemn production that is often mentioned as an Academy Award contender.This says less about the quality of the film than it does about its self-consciously lofty tone and its sense of self-importance. -0.16666666666666666\n",
      "It's a tragically lovely story about the cruel devastation of selfish and ungoverned love. It's also one of the best movies in a long, long time. 0.05714285714285715\n",
      "The film is a smashing success on its own terms, though as a transcendent love story it lacks the firm foundation in human reality that characterizes Lars Von Trier's superior Breaking the Waves. 0.31666666666666665\n",
      "With its fine acting, sumptuous visuals and levels of intrigue, The English Patient boasts the elements of something greater than a love story. Too bad it devotes them to something less than a great love story. 0.2055555555555556\n",
      "The triumph of the film lies not just in the force and range of the performances, but in Minghella's creation of an intimate epic: vast landscapes mingle with the minute details of desire, and the combination is transfixing. 0.10000000000000002\n",
      "Out of each of these uprooted characters are spun stories of love, loyalty and betrayal. 0.5\n",
      "The whole film is permeated with tenderness for its hurt characters, whom Minghella sees as just a small slice in the fellowship of people who love and suffer. 0.15\n",
      "The cast is superb: Binoche, with her thin, seraphic smile; Scott Thomas, aware of the spell she casts but not flaunting it; Fiennes, especially, radiating sexy mystery, threat shrouded in hauteur. Doom and drive rarely have so much stately star quality. 0.26875\n",
      "A respectable, intelligent but less than stirring adaptation of an imposingly dense and layered novel. 0.37777777777777777\n",
      "This is the real thing, and real things don't come along very often, so you'd better snap them up when they do. 0.275\n",
      "For all the film's effectiveness as a love story, I often felt I was being hurried through a busy itinerary. 0.3\n",
      "The result is completely intoxicating. 0.1\n",
      "Needless to say, the performances are flawless; more surprising is the fluency, poetry and scale of Minghella's direction. 0.425\n",
      "Torrid, witty, passionate and intelligent. 0.4166666666666667\n",
      "A must see film for all lovers of cinema on a grand and sweeping scale. 0.5\n",
      "Get ready for the great romance of the movie year. 0.5\n",
      "The English Patient captivates as only the grandest and most consuming passions can. 0.16666666666666666\n",
      "It does not deserve limitless adoration. Just quiet, reasoned admiration. 0.0\n",
      "This poetic, evocative film version of the famous novel by Michael Ondaatje circles down through layers of mystery until all of the puzzles in the story have been solved, and only the great wound of a doomed love remains. 0.3365740740740741\n",
      "Despite its lengthy running time and occasionally languid pace, The English Patient feels brief and dreamlike. 0.0\n",
      "An aerobic workout for the tear ducts. 0.0\n",
      "The English Patient is one for the ages. 0.0\n",
      "A stunning feat of literary adaptation as well as a purely cinematic triumph. 0.19999999999999998\n",
      "This is a movie to lose yourself in. 0.0\n",
      "The English Patient, the superb new film by Anthony Minghella, is that rarest of things: a film based on a great contemporary novel. 0.4206060606060606\n",
      "An elegant, accomplished piece of high modernist filmmaking. 0.2866666666666667\n",
      "Jenkins portrays a world so often fetishized and reduced to its most violent outcomes from the inside, with tenderness and Wong Kar-wai’s influence on his cinematic sleeve. -0.10000000000000002\n",
      "Moonlight displays the kind of empathy and humanity that we desperately need right now. 0.09523809523809523\n",
      "Jenkins' authorial voice is resounding and strong and his determination admirable. 0.4333333333333333\n",
      "\"Moonlight\" arrives as a gift, one worth keeping - and regifting. 0.3\n",
      "Moonlight may be a quiet, understated gem. But you can expect the buzz surrounding it to become deafening. 0.0\n",
      "Through each of their performances, and the rich narrative, Jenkins delivers an authentic, necessary statement of black male self-love. 0.14166666666666666\n",
      "Moonlight is hard to classify; even harder to describe, in terms of its considerable achievements. -0.09722222222222225\n",
      "I doubt that I will see a better film than Moonlight this year. 0.5\n",
      "Cinema has been in and around this area time and time again, but Moonlight still feels abundantly fresh and endlessly imaginative. 0.44999999999999996\n",
      "From the start Moonlight announces itself as something different entirely. 0.0\n",
      "Material that should by rights be harrowing has become, in Jenkins's hands, euphoric. 0.0\n",
      "This is a deeply compassionate film that not only does astounding work on the being black, being gay front, but is also about anybody who feels they exist outside the world they've been born into. 0.1416666666666667\n",
      "You won't find a more sensitively rendered, evocative, or surprising coming-of-age film than Barry Jenkins's Moonlight. 0.4333333333333333\n",
      "Moonlight is at its most eloquent when its subtext is soft-spoken. 0.5\n",
      "The combination of artistry and emotional directness in this film is overwhelming. 0.25\n",
      "A poem of light and colour, of faces and the play of physique, of passions revealed by glance or gesture. 0.4\n",
      "A genre-defying film. Its visual splendour belies its tough, surface-level subject matter, while the performances pull us deep below that surface with their soulful naturalism. -0.1388888888888889\n",
      "An intimate and haunting drama. 0.2\n",
      "A personal/political triptych which offers keen perspectives on masculinity, queer sexuality, racial identity, and the odd angles at which they intersect. -0.033333333333333326\n",
      "The performances are all very good indeed, and the film's serious, concerned tone suits the subject matter. 0.1366666666666667\n",
      "It's going to take something spectacular to come along and knock Moonlight off its perch because it may very well be the best movie you'll see this year. 0.6\n",
      "Is a portrait of life written with cut-to-the-bone honesty. That's what makes Moonlight so arresting 0.0\n",
      "The indie drama touches on themes of race, sexuality and isolation in ways that are rarely depicted in cinema. 0.15\n",
      "Moonlight is both a disarmingly, at times almost unbearably personal film and an urgent social document, a hard look at American reality and a poem written in light, music and vivid human faces. 0.03809523809523809\n",
      "Basking in this \"Moonlight\" is one of the cinematic joys of the year. 0.0\n",
      "[Moonlight's] uncanny blend of strong visuals, social issues, sexuality themes and urban life is a potent mix. 0.24166666666666664\n",
      "[Moonlight recalls] works from filmmakers as varied as Richard Linklater, François Truffaut, Fernando Meirelles, Cheryl Dunye and Spike Lee. But, in the end, the director makes this motion picture its own uniquely satisfying enterprise. 0.55\n",
      "\"Moonlight\" is a film of rare grace - a tender, compassionate, restrained look at a life lived in the shadows. 0.3\n",
      "Barry Jenkins' Moonlight is a deeply personal, deeply expressive film, unlike anything I've ever seen before. 0.4\n",
      "Truly, madly, deeply: There's magic in this Moonlight. 0.25\n",
      "Bullying, poverty, closeted sexuality, drug abuse, and racial strife combine to form an overworked agenda of cultural woes that's more concerned with rubber-stamping issues than telling an original story. 0.325\n",
      "In its quietly radical grace, it's a cultural watershed - a work that dismantles all the ways our media view young black men and puts in their place a series of intimate truths. 0.046666666666666676\n",
      "A deeply personal and visually mesmerizing drama that just might be the year's best movie. 0.43333333333333335\n",
      "It's less a story than a collection of moments, which leaves its viewer feeling moved and changed, as if you've spent time in someone else's dreams and woke up understanding who they are. -0.13333333333333333\n",
      "The film soon moves from the familiar to the foreign, becoming a textured exploration of black masculinity and coming-of-age that plumbs beyond clichés and stereotypes. 0.13333333333333333\n",
      "\"Moonlight\" is a minor miracle, a movie that mines beauty out of the ugliest situations, and a glimmer of hope from heartbreak. -0.05\n",
      "If you think art should challenge us, then you will embrace writer-director Barry Jenkins' exquisitely crafted drama Moonlight. It's a true American masterpiece and one of the best films of the decade. 0.5875\n",
      "This is a humane movie, one that's looking to prompt empathy and introspection most of all. On those terms, Moonlight is one of the year's most gripping viewing experiences. 0.5\n",
      "This is a vivid and tremblingly lived-in portrait of young black manhood and sexuality, rendered with genuine power and grace. I've never seen anything quite like it, and most moviegoers probably haven't either. 0.19166666666666668\n",
      "So few unexploitative movies are made about young black men, especially young black gay men, that the overpraise for this frail, sweet, discursive fantasia is understandable -- and forgivable. 0.07619047619047618\n",
      "It just needs to be watched and embraced, as an entirely fresh example of the power that great movies can exert on our lives. 0.55\n",
      "Barry Jenkins's excellent Moonlight is a film filled with bittersweet ironies. 0.7\n",
      "We are continually challenged, yet held close to the heart of the story by its romantic lyricism and, most of all, the spacious humanity of its love for its characters. 0.3333333333333333\n",
      "In this film, with minimal plot and dialogue, [Jenkins] brings his camera up close to his characters. Without telling us how to feel, he gives us the space to feel Chiron's inner thoughts. -0.05\n",
      "\"Moonlight\" is gorgeous and yet bleak, uplifting and yet sobering, exhilarating but also grounded in some unshakable realities. 0.1333333333333333\n",
      "It's so good it may restore your faith in cinema. 0.7\n",
      "A perfect film, one that exemplifies not only the formal and aesthetic capabilities of a medium at its most visually rich, but a capacity for empathy and compassion ... 0.46875\n",
      "\"Moonlight\" exerts a tidal pull on your heartstrings, but honestly: It's better than that. 0.5\n",
      "Every year, we get only a few of these, movies that come out of nowhere, that are different, unexpected and wonderfully right. \"Moonlight\" is that kind of movie, one of the gems of 2016. 0.13095238095238096\n",
      "Jenkins burrows deep into his characters' pain-seared memories, creating ferociously restrained performances and confrontational yet tender images that seem wrenched from his very core. 0.1\n",
      "It's a coming-of-age story that admits no one ever truly comes of age. We make choices and change shapes. 0.0\n",
      "Hopefully it doesn't take Jenkins another eight years to make a film. But we can take comfort in the very strong likelihood that, even if it does, it will be well worth the wait. 0.43166666666666664\n",
      "This is a quiet, modestly scaled film -- a character study made by a filmmaker blessed with unusual amounts of curiosity about his characters that demands an equal commitment of patience from its audience -- but the payoff is beautiful. 0.22999999999999998\n",
      "Deeply affecting, Moonlight is a small, beautifully told story that resonates well beyond the time spent in the theater. 0.125\n",
      "Exhilaration and melancholy are dispensed in equal doses by Moonlight, destined to be one of the better-reviewed films of this year, and for good reason: It's a masterpiece -- an overused word, but not the wrong one. 0.06666666666666665\n",
      "By the end, you may long for a fourth chapter. -0.025\n",
      "There is so much pain in \"Moonlight\" that it's a little hard to breathe at certain moments. But there are others, of connection and redemption, that positively glow. 0.032478354978354974\n",
      "A haunting piece of high art. 0.16\n",
      "Moonlight tells a coming-of-age story in passages, each possessed of enough stand-alone power to operate as a wonderful short film, even as the whole proves much greater than the sum of the parts. 0.3333333333333333\n",
      "Jenkins mounts no soapboxes and brandishes no manifestos in his attempt to illuminate the inner life of this troubled boy turned teenager turned man. Instead he shows us the love that other characters feel for Chiron ... -0.03125\n",
      "Easily one of the most personal and most powerful films of the year. 0.3466666666666667\n",
      "Barry Jenkins' game-changer about growing up black, gay and alienated in the Miami projects is both intimate and epic. It gets inside your head, makes you see the world with new eyes- and then it owns you. 0.13727272727272727\n",
      "Moonlight is a film so measured, so delicate and powerful, that it proves to be sensitive in ways most movies aren't, even in ways most of life isn't. 0.2333333333333333\n",
      "\"Moonlight\" is magic. 0.5\n",
      "A question is posed to the main character of Barry Jenkins's wondrous, superbly acted new film, Moonlight: \"Who is you, man?\" 0.4343434343434344\n",
      "Hype would bruise Barry Jenkins's Moonlight, which is so delicate in its touch that the usual superlatives sound unusually shrill. It's the gentlest, most suggestive of great films. 0.125\n",
      "An elegiac, raw, painful film that explores the strangeness of growing up gay in Miami's black community in the 1980s. -0.17019230769230767\n",
      "A nuclear-fission-strength heartbreaker. It's made up of moments so slight and incidental they're sub-molecular - but they release enough heat and light to swallow whole cities at a stroke. 0.10833333333333334\n",
      "Moonlight surprised me. Then it rattled me to my core. And finally, it nestled snuggly inside my heart. 0.05\n",
      "Moonlight moves for a while in heady bursts, like memories rushing back. 0.0\n",
      "What tends to right Moonlight, even when Barry Jenkins's filmmaking drifts into indulgence, is the strength of its actors. 0.2857142857142857\n",
      "It is thrilling, sensuous stuff. 0.25\n",
      "The work of a major film-maker and not just a promising one. 0.13125\n",
      "The acting elevates the clichés of Barry Jenkins's script into something approaching lived truth. 0.0\n",
      "Moonlight is mesmerically, sometimes swooningly, shot and scored, and well-acted all round too. -0.2\n",
      "One of Moonlight's remarkable strengths is how completely it avoids preaching, after-school messaging, or pat cinematic answers. 0.2833333333333333\n",
      "One of the year's best films, one of those movies that sneaks up on you and packs a wallop in the end. 1.0\n",
      "Leaves you feeling both stripped bare and restored, slightly better prepared to step out and face the world of people around you, with all the confounding challenges they present. There's not much more you can ask from a movie. 0.07500000000000001\n",
      "Moonlight is a film that is both lyrical and deeply grounded in its character work, a balancing act that's breathtaking to behold. 0.5\n",
      "Moonlight takes the pain of growing up and turns it into hardened scars and private caresses. This film is, without a doubt, the reason we go to the movies: to understand, to come closer, to ache -- hopefully with another. 0.0\n",
      "Jenkins balances raw honesty with dreamy imagery and keeps his narrative loose, riding emotional beats instead of getting trapped inside a finite beginning and end. That is exactly how it should be. -0.05153846153846153\n",
      "A triptych illustrating the tidal ebb and flow of identity, Jenkins's film is awash in dreaminess, while still examining the life of one young man with piercing clarity. 0.1\n",
      "An indelible portrait of an imperilled life, \"Moonlight\" is a devastating depiction of masculinity, race and identity. Ambitious in scope but precise in its execution, this deceptively small-scale character piece reverberates with compassion and insight. -0.11666666666666665\n",
      "A rarely seen portrait of what it really means to be a black gay man in America today. It's a stunning achievement. 0.25\n",
      "Glows like its title. 0.0\n",
      "Barry Jenkins' vital portrait of a South Florida youth revisits the character at three stages in his life, offering rich insights into the contemporary African-American experience. 0.21388888888888888\n",
      "The story's power comes from the gaps between words - and an ongoing battle to find the right ones. 0.2857142857142857\n",
      "Jenkins and McCraney have artfully cobbled together something that is impressionistic and wondrous, like a compendium of half-remembered memories, tinged by sadness. 0.0\n",
      "You’ll either be charmed by Hawkins’s ethereal, wordless performance or you won’t, but del Toro’s use of a vivid colour palette would impress anyone. 0.125\n",
      "The Shape of Water is visionary filmmaking. 0.0\n",
      "So, while we know Elisa has humanity, Del Toro has to plead his case for the fish-man. 0.0\n",
      "It sounds ridiculous, yet through some magical alchemy it works - magnificently so. 0.3888888888888889\n",
      "Del Toro creates a beautifully imagined world, rich in colours and characters, with touches of humour and social commentary. 0.4194444444444445\n",
      "As she did in the under-garlanded Maudie, Sally Hawkins reminds us that there is nobody better at turning robust fragility into something other than a paradox. 0.1875\n",
      "This is a film made by a boy who loves monsters, who has grown up to understand what they might represent to an adult woman, other outsiders (a gay man, a communist sleeper, a black woman) and an unforgiving society. 0.056250000000000015\n",
      "Hawkins's performance throughout is career-defining. With her eyes, mouth and physicality, she finds a level of emotional eloquence to render speech redundant. -0.1\n",
      "All plot holes can be subsumed within the magical-realist tone for which Del Toro is famed. Yet there's an uncomfortable tension between the film's whimsical, Amélie-light (or, lighter) style and its clumsy political point-scoring. -0.325\n",
      "I liked it well enough, but not as much as I should have. 0.26666666666666666\n",
      "Refreshingly, the film doesn't shy away from its characters' desires... The Shape of Water spells out in letters taller than the Empire State Building exactly what Fay Wray and King Kong wanted to do all along. 0.08333333333333333\n",
      "The Shape of Water almost drowns in its own gorgeousness. It is a Beauty and the Beast fable where both get to be beautiful and neither has to be beastly. 0.725\n",
      "This is a mesmerising, profoundly emotional tale of vulnerable outsiders - and it's beyond gorgeous to look at. 0.06666666666666665\n",
      "Del Toro's greatest work. Simply magnificent. 1.0\n",
      "It's the biggest risk of del Toro's career and it could not have paid off more. 0.5\n",
      "Pulses attractively like a luminous toyshop novelty; one inspired by The Creature from the Black Lagoon (1954). 0.3166666666666667\n",
      "... Del Toro's willingness to court absurdity and bad taste serves to guarantee his integrity, proving he hasn't entirely gone respectable. -0.06666666666666661\n",
      "A visually spectacular fairytale, The Shape of Water is a dazzling film, anchored by a masterful performance from the effervescent Sally Hawkins. 0.7833333333333333\n",
      "On paper it may sound indigestible, but on screen it's pure magic. 0.37142857142857144\n",
      "The movie's worldview is as easy to like as the protagonist and her friends, but del Toro lays it on so thick that there's no room for counterargument or even independent thought. 0.04444444444444443\n",
      "\"The Shape of Water\" is director Guillermo del Toro's finest film, a lovely, empathetic tribute to Old Hollywood, monster movies, outsiders and love that could only come from the mind of the visionary filmmaker. 0.275\n",
      "The fact that The Shape of Water's two leads are both incapable of speech doesn't render it any less capable of forging an emotional connection with its audience. 0.011111111111111118\n",
      "The more I try to find some kind of justifiable meaning and relevance, the more I find The Shape of Water a loopy, lunkheaded load of drivel. 0.5333333333333333\n",
      "The Shape of Water is breathtaking to behold and the most romantic movie you'll see about a woman falling in love with a fish man. 0.5\n",
      "The Shape of Water is whimsical, boldly original, defiantly weird, occasionally grotesque, and beautifully shot...yet, despite all of that, the film didn't quite work for me. -0.06500000000000002\n",
      "The visual stylist spins an adult fairy tale that takes elements from \"Beauty and the Beast\" and recasts them in an alternative universe that's a wonderfully rendered twist on our own. 0.42500000000000004\n",
      "\"The Shape of Water\" is one of the best films of the year. 1.0\n",
      "You never know where \"The Shape of Water\" is going. But, like water, you let it engulf you and sweep you away. 0.0\n",
      "Eggs, water, and-yes-sex all play crucial and overlapping roles in director Guillermo del Toro's The Shape of Water, an adult fairy tale that is at once deeply familiar and utterly original. 0.2125\n",
      "... this is one of those adventurous pieces of cinematic imagination I find I like more and more as time goes by. 0.375\n",
      "It's a testament to the storyteller's skill that he manages to cram [so much] into his narrative with nary a lump and still keep his characters dancing with only one or two minor missteps. 0.05000000000000001\n",
      "As much as The Shape of Water's disparate parts shouldn't work - and as much as its \"originality\" is sourced from the thousands of other fables del Toro has consumed over his lifetime - it does, in the end. 0.09166666666666667\n",
      "To place yourself in GDT's hands, as he tells the type of story he tells better than anyone else, is a rich pleasure. 0.4375\n",
      "The Shape of Water makes the deepest dive into romance this year of any movie - literally, figuratively and on both sides of the camera. 0.0\n",
      "Magical, thrilling and romantic to the core, a sensual and fantastical fairy tale with moral overtones, it's a film that plays by all the rules and none of them, going its own way with fierce abandon. 0.27\n",
      "As prodigious as del Toro's vision and craftsmanship are, it's Hawkins who gives palpable life to his deepest ideals, and their undertow of longing for connection, not simply as a matter of romantic love, but civic virtue. 0.125\n",
      "The Shape of Water is a heartfelt and moving mash note to outsiders, misfits, and the creatures (or so says the status quo) walking among us. 0.0\n",
      "The movie is bracketed with images of Elisa floating. By the end, the audience will feel we are floating as well. 0.0\n",
      "More than any movie in recent memory, this is one you really need to discover for yourself. 0.2333333333333333\n",
      "It's a finely calibrated film, brimming with romance, excitement and humanity. 0.4166666666666667\n",
      "\"The Shape of Water\" is a love story like no other, and it features one of the year's most heart-wrenching performances nestled in a supreme confabulation of cinematic craft. 0.265625\n",
      "At the start, I worried that the film might prove merely winsome, like a Maryland \"Amélie,\" but Hawkins makes it taut and fierce. -0.5\n",
      "\"The Shape of Water\" is brilliant, but sick - or maybe it's sick, but brilliant. In any case, it's something to see. 0.09285714285714286\n",
      "\"The Shape of Water\" is devoted, madly, to the notion of love as a state of liquid bliss, and we see that bliss and a hundred other emotions in Hawkins' nonverbal (mostly) but endlessly expressive performance. 0.21000000000000002\n",
      "Del Toro has an eye for violence, kink, and dangerous desires, but his movies usually make me wish he were more willing to exploit them. He hasn't made a movie as interesting as his interests. The Shape of Water, for all of its beauty, is no different. 0.06666666666666667\n",
      "Guillermo del Toro's \"The Shape of Water\" is like a beautiful painting you keep visiting at your favorite museum, because it continues to reveal its brilliant magic in new and different ways. 0.481060606060606\n",
      "Del Toro might have made The Shape of Water, but Sally Hawkins owns it. 0.0\n",
      "The Shape of Water rekindles a sense of wide-eyed wonder that's all too rare in contemporary cinema. Computer imagery can create amazing sights, but only a master moviemaker (and movie lover) could have fashioned this dazzling, one-of-a-kind experience. 0.3633333333333334\n",
      "Even better than its offhand wittiness, its aesthetic splendor or its shrewd social commentary, however, is its headliner. 0.26666666666666666\n",
      "... marvelously rhapsodic in ways that recall films like Jean Cocteau's \"Beauty and the Beast\" without ever seeming slavish. 1.0\n",
      "But with all its grandeur and charm, the fact that this is a love story between a woman and a monster is too ridiculous to ignore. 0.08333333333333334\n",
      "Even if you're not transported by every minute of the film's story, though, del Toro creates such a sumptuous visual world that it's impossible to take your eyes off the screen. -0.2222222222222222\n",
      "Every frame is enchanting, bold in color, and flush with emotion, then made exquisite by Alexandre Desplat's Parisian-inspired score. 0.6666666666666666\n",
      "There's enough dreamy beauty here to smooth out the rough edges. (Fish sex, anyone?) 0.10000000000000002\n",
      "\"The Shape of Water\" is a flow of sumptuous images set to music, a flood tide of feelings with a mythic undertow. 0.0\n",
      "Nothing is out of place in The Shape of Water, especially its heart. The cast is universally flawless, as is the lavish production design of Paul. D. Austerberry and the sumptuous cinematography of Dan Laustsen. 0.5\n",
      "It's both weird and wonderful. 0.25\n",
      "Ultimately, this is a film from a group of terrific talents that never quite comes together the way you'd hope. It's just too fluid to wholly take shape. 0.0\n",
      "Perhaps foremost, the film plays like an ode to the black-and-white staples that helped forge del Toro's passion for movies, drawing upon those old-fashioned virtues even as the director seeks to update them with a distinctive spin. 0.0\n",
      "In a corporate-run franchise-driven industry, del Toro's movies are refreshingly personal. All of this is true of The Shape of Water, but still, something's off. 0.175\n",
      "A role-reversal monster movie with gorgeous visuals from Guillermo del Toro and a knockout performance from Hawkins. 0.7\n",
      "\"The Shape of Water\" is partly a code-scrambled fairy tale, partly a genetically modified monster movie, and altogether wonderful. 1.0\n",
      "The Shape of Water has been made with a level of craftsmanship that should be the envy of most filmmakers, but the impudent, unruly streak that so often gives del Toro's films their pulse has been airbrushed away. 0.5\n",
      "The scenes that take place in a seemingly undersea world are stunning, and del Toro's filmmaking technique buoys a love-story narrative that at times feels a little too straightforward for its unorthodox conceit. 0.22916666666666666\n",
      "Under all that rubber and slime, 6-foot-4 actor Jones continues to impress as the go-to monster for Del Toro and the rest of Hollywood. He's as synonymous with practical effects as Andy Serkis is with performance capture. 0.0\n",
      "Del Toro is a world-class film artist and he proves it in this Cold War romance about a mute cleaning lady (Sally Hawkins, unforgettable) who falls for an amphibious creature. Don't t analyze how del Toro does it. Just dive in. There's magic in it. 0.25\n",
      "... in gorgeous visual ways, unimaginable depth of human feeling. 0.2333333333333333\n",
      "Del Toro has said that this film is a long-gestating labor of love, a devotion that shows in every frame. It's so carefully done, but still thumps with a genuine, visceral heartbeat. 0.26666666666666666\n",
      "Like the director's best works, The Shape of Water blends lonely outcasts, chimerical beings, meticulous design, and mid-20th-century political strife. 0.3\n",
      "The Shape of Water may not be suitable for children but it has enough disarming charm to briefly make you feel like one. 0.18333333333333335\n",
      "It's like it was shot in his traveling museum exhibit, and I, for one, didn't want to leave. What a divine movie this is. 0.0\n",
      "The Shape of Water offers hope that hearts and minds can truly be changed for the better, even in the most stubborn of individuals. 0.3666666666666667\n",
      "Beautifully and imaginatively crafted with wondrous cinematography. 0.725\n",
      "What results is a story that feels both fresh and timeless - and desperately needed, at a time when the world feels mean. Let's hope this one sticks around a while. -0.2041666666666667\n",
      "The story goes exactly where you think it will. It's an utterly lovely, complacent movie, too comfortable with itself to generate real dramatic tension. 0.125\n",
      "It is a difficult and beautiful dream - and del Toro makes it feel like just a bit less of a fantasy. 0.06111111111111111\n",
      "The Shape of Water is a film that wears its heart on its sleeve. Its overtness, its accessibility, the transparent meaning of its abiding images, will surely give it a longevity. 0.5\n",
      "The beastliness offsets the beauty nicely, like splotches of grisly red on the film's lustrous, sea foam-green color palette. 0.3\n",
      "The Shape of Water is a breathless film, anchored by [Sally] Hawkins' visible, ardent longing for connection, and her fierce defiance when the things she loves are threatened 0.0\n",
      "One of [del Toro's] deepest, most complex, most rewarding, and flat-out beautiful films. 0.41\n",
      "The Shape of Water is one of the most delightful films of the year. And it is definitely the best film ever to be a romantic comedy, a melodrama, a spy thriller, a heist caper, a superhero blockbuster and a monster movie all at once. 0.3666666666666667\n",
      "Guillermo del Toro's The Shape of Water is that big romantic all-out imaginative coup (with a sly political undercurrent) that so many of us have been waiting for from the director. 0.22000000000000003\n",
      "If you can imagine an aggressively adorable -- and somewhat effortful -- version of Amélie in which our hero f---s the Creature from the Black Lagoon, you're totally feeling this. 0.11111111111111112\n",
      "There's enough magic, and extraordinary visual imagination, to smooth the edges of the movie's problems. 0.24666666666666667\n",
      "The Shape of Water may just be his most touching fantasy yet. 0.5\n",
      "It offers what must be cinema's uneasiest probing of the postwar American psyche since Paul Thomas Anderson's The Master - and is unquestionably del Toro's best, richest film since his 2006 Spanish-language masterpiece Pan's Labyrinth. 0.3666666666666667\n",
      "For all the veering from one genre to another, neither does it feel rough. Del Toro's tight directorial control sees to that. -0.1392857142857143\n",
      "This is a monster movie but it plays like a Beauty and the Beast-style romance. 0.0\n",
      "Guillermo del Toro channels all the streams that make him unique into The Shape Of Water, pouring his heart, soul and considerable craft into an exquisite creature fable. 0.4916666666666667\n",
      "A ravishing, eccentric auteur's imagining, spilling artistry, empathy and sensuality from every open pore, it also offers more straight-up movie for your money than just about any Hollywood studio offering this year. 0.15\n",
      "It's a film that makes you feel a lot, but overridingly you feel lucky - lucky to be watching it, lucky that something so sincerely sweet, sorrowfully scary and surpassingly strange can exist in this un-wonderful world. 0.13333333333333333\n",
      "A dark-edged fairy tale as lovingly steeped in vintage movie magic as it is in hypnotic water imagery, this captivating creature feature marries a portrait of morally corrupt early-1960s America with an outsider tale of love and friendship ... 0.32\n",
      "Del Toro provides just enough spade-work to keep the scheme plausible and his film is stylish and charming; red meat for the senses with some sugar on top. 0.3666666666666667\n",
      "There's something here for lovers of all kinds of movies - even silents and musicals - but del Toro transcends mere pastiche to craft a work that feels like the product of our collective film-going subconscious. -0.25\n",
      "I think it's a career peak for [Bong Joon-ho]. 0.0\n",
      "Watching that drama -- the bricks sort of build and then topple -- is so satisfying. 0.5\n",
      "[Bong Joon-ho]'s work is as playful as it is sincere and revelatory. He'll make you feel at home, and then rip the rug out from under you. 0.5\n",
      "This is what a true masterpiece looks like. 0.35\n",
      "Bong delivers a stunning return to form with this newest venture. 0.5\n",
      "A tragicomic masterclass that will get under your skin and eat away at your cinematic soul. 0.0\n",
      "Far from hiding, the film's beguiling charm stokes the deeply dystopian vision of its maker. In Bong's world, despite tokens like a cell phone or pizza dinners, social mobility doesn't quite exist. 0.044444444444444446\n",
      "Using industrial-strength social satire, [Bong Joon Ho] strips the veneer off the myth of classlessness, giving an outrageously entertaining instant classic. 0.175\n",
      "It works on every level which is, perhaps, fitting for a film about levels and whether you are at the top or bottom in life. 0.5\n",
      "Parasite works as entertainment and analysis, treat and treatise. 0.0\n",
      "An imaginative comedy-thriller with darkness at its core. 0.6\n",
      "Though we largely root for the Kims, Bong doesn't allow anything as simple as rich versus poor, good versus bad. No wonder this movie speaks to global audiences - it's a parable about our capitalist world. 0.027040816326530628\n",
      "A film that always has two thoughts in its head at once, a spectacular epic and tightly wound chamber piece, chicly sophisticated, brutal as a hammer. 0.02928571428571427\n",
      "A miracle of a film. It feels like Bong Joon-ho's already extraordinary career has been building to this: a riotous social satire that's as gloriously entertaining as it is deeply sardonic. 0.21666666666666667\n",
      "If the movie is a Rorschach of who you identify as parasite and host, it's a test you're just as likely to fail; a filmgoing experience that refuses to fit into any box, and forces viewers to breathe the dangerous air outside of it too. -0.13999999999999999\n",
      "Let's just say that by \"Parasite's\" conclusion, what started out as a comedy of manners has become a furious snarl of rage and his most arresting social satire yet. 0.26666666666666666\n",
      "It isn't an easy ride, and as with life in the non-metaphorical world, the destination is uncertain. You'll see strange and wonderful things along the way. 0.4611111111111111\n",
      "It is a sitcom with teeth and haunting moral echoes, no small amount of vulgarity and a smart streak of comedy. 0.1130952380952381\n",
      "Parasite is a beautiful movie, wonderfully acted, impeccably shot. 0.8666666666666667\n",
      "It's a fitting movie for our times, and Joon-ho delivers with uncompromising clarity and vision. See it before the inevitable American remake sands down all its razor sharp edges. 0.04388888888888889\n",
      "Bong Joon Ho's Cannes winner Parasite is a fantastically dark, horrendously bleak portrait of classist indoctrination. -0.575\n",
      "Parasite is stuffed with everything-gorgeous architecture, beautiful people, shocking violence, ingenious twists, wicked humor, and clear-eyed social commentary. 0.09583333333333333\n",
      "[The Park's] garage door is the curtain, the grand window looking out from the living room onto the yard is the proscenium, and everything that occurs within its reflection is this symbiotic tragicomedy... 0.5\n",
      "It's a nearly perfect film, from Bong's masterful use of framing and visual language and control of a wildly shifting tone to the performances (all terrific) to the commentary on class division. 0.42000000000000004\n",
      "The entire cast is prepared to make the family unlikable at some level, but this should be a starmaking turn for Park So-dam. Her performance as Ki-jeong and her alter ego, Jessica the art student from Chicago, is raw, caustic genius. -0.21025641025641026\n",
      "\"Parasite\" may be the work that makes (Bong Joon-ho) more of a household name. Many of the best elements from his previous films are on display here, and if there's one film that should serve as an introduction to his style, it's this one. 0.4583333333333333\n",
      "This is the best movie of the year... A tonal marvel. 1.0\n",
      "You'll watch knowing you're in the hands of a master filmmaker... 0.0\n",
      "\"Parasite\" expresses consequential ideas that matter to the filmmaker about the way we live today, and the prejudice and malice we create for ourselves and others. 0.13636363636363635\n",
      "Throughout, the director's camerawork and mise en scene are impressively subtle, carefully parsing out information about characters and setting to force viewers to stay alert to the tiniest details. -0.21666666666666667\n",
      "One of the best movies of 2019, Bong Joon Ho's latest is a film of dramatic power, innovative comedy, romantic poetry and melancholy beauty. 0.31333333333333335\n",
      "\"Parasite\" isn't really a monster movie. Yet on at least one of its nearly infinite levels it is - and the monsters are us. 9.25185853854297e-18\n",
      "Bong... harnesses the precise anxieties everyone of us is currently sharing-top of that list, the growing income gap and the crumbling planet-and uses them to make every scene in this blackhearted comic thriller crackle with energy and purpose. 0.21666666666666667\n",
      "Bong Joon-ho's latest masterpiece and the best film I've seen so far this year... 0.5333333333333333\n",
      "Much like the Kims, a viewer can get lulled into luxuriating in the superficial details of the film. But it's what's lurking below the surface that will stay with you long after the movie is over. 0.07500000000000001\n",
      "Bong harnesses the torment that capitalist greed, deregulation, and gaping inequality have unleashed across the world, making Parasite's dystopian vision ring universally true. 0.35\n",
      "What starts out as a fantasy becomes a family's struggle with their place in a global framework designed to keep them down. They realize that getting out of the basement will require more than a few agile maneuvers. 0.1288888888888889\n",
      "What keeps you rapt in Parasite is the visual wit - every shot distills the movie's themes - and the richness of the characters and performances... 0.0\n",
      "Bong, in short, is a merchant of stealth. 0.0\n",
      "This is the best movie I've seen this year. What begins as a clever social satire about the haves and have-nots in our world morphs into an ingenious (and violent) thriller with endless story twists. 0.12916666666666668\n",
      "It's exhilarating, unexpected and, frankly, wild. 0.3\n",
      "Imagine a high-wire act where the acrobat suddenly leaps to a higher wire, then to another that's higher still. It's the best way I can think of to describe the giddy thrill of watching Parasite, a masterpiece of serial surprises. 0.375\n",
      "Nimble, funny, complex and heartbreaking, Parasite is a stinging indictment of economic inequality. 0.05000000000000001\n",
      "Bong's trademark slapstick is still here but the rough edges of his often too-loud lessons are shaved down nicely and his actors step forward 0.1148148148148148\n",
      "Maybe the best film Bong has yet made... 1.0\n",
      "This is a dazzling work, gripping from beginning to end, full of big bangs and small wonders. 0.27\n",
      "All the viewer knows is that Bong is telling a story about humans, which means it can be a perfect comedy until it becomes a tragedy. 1.0\n",
      "Bong has some ideas in \"Parasite,\" but the movie's greatness isn't a matter of his apparent ethics or ethos... but of how he delivers truths, often perversely and without an iota of self-serving cant. 0.05\n",
      "It tells a story you could probably follow without subtitles, or any dialogue at all: the faces of these actors show with piercing clarity how it feels to be outsiders in a world of wealth and privilege. 0.0\n",
      "\"Parasite\" is Bong's most sophisticated film to date, expertly plotted with breathtaking reveals, and shot with a smooth, slippery sheen, each frame and camera movement communicating a subconscious plot twist or theme. 0.48\n",
      "Let's just say it: the South Korean auteur Bong Joon Ho is some kind of genius and he tops himself with 'Parasite'-it's explosive filmmaking on every level and one of the cinema high points of 2019 . You won't know what hit you. 0.38\n",
      "\"Parasite\" attaches to you and doesn't let go. 0.0\n",
      "If anything, Parasite is a condemnation of choosing to ignore the inconvenient suffering of your fellow human beings, presented in a seres of accomplished visual metaphors that'll make you rethink all sorts of ordinary household objects. -0.12999999999999998\n",
      "Bong Joon-ho, who has consistently played with what the class system means in a modern day South Korea, has finally reached his pinnacle with his latest film, Parasite. 0.2375\n",
      "Bong Joon-ho's pitch-black comedy Parasite might his masterpiece. 0.0\n",
      "While it's hugely entertaining, Parasite is also thought-provoking. By the time the catharsis arrives, you think you're at the end of the film, but a coda adds a new wrinkle to the whole thing. 0.3090909090909091\n",
      "Parasite is many things rolled into one: a sharply observed satire, black comedy, thriller, tragedy. 0.06944444444444445\n",
      "Satire morphs into a savage underclass morality lesson that recalls the home invasion tales of Michael Haneke and Jordan Peele. 0.0\n",
      "Parasite is unquestionably one of the best films of the year. 1.0\n",
      "An exhilarating and furious indictment of class struggle, Parasite might be the masterpiece South Korea's Bong Joon-ho has been working toward his entire career. 0.35\n",
      "The speed and ferocity with which things fall apart-and with which Parasite mutates from a sly upstairs-downstairs satire into something more literally and tonally multileveled-is something to behold. 0.5\n",
      "The success of Parasite is not merely marked by great filmmaking and an intriguing storyline, but deep within its foundations lies an overwhelming understanding on Bong's part of how bigotry operates at an almost molecular level. 0.30833333333333335\n",
      "A scathing social satire that fuses raucous comedy with deep despair... -0.21666666666666667\n",
      "Bong uses everything in his bag of cinematic tricks to craft a dazzling and devastating movie that is part modern-day parable and part family drama. Parasite will variously shock you, make you laugh (guiltily) and make you think. -0.075\n",
      "Parasite is a subversive delight, and despite its hefty 2 1/4-hour running time is never dull because Bong keeps shifting the goalposts... 0.14583333333333334\n",
      "The inspired Parasite can't precisely be labelled a comedy, a thriller, nor a socially conscious drama about the class divide in South Korea, although it contains elements of all three. 0.25\n",
      "You expect the whole enterprise to come crashing down around his ears, but this is a film-maker in total control of his craft. 0.014814814814814808\n",
      "As the third act grinds to a grim conclusion, the yawning social divisions cause the laughter to curdle into unease. It's an extraordinary performance. -0.15833333333333333\n",
      "The social commentary is almost as powerful as the plot itself. 0.16666666666666666\n",
      "Shifts tonal gears in total service of its class politics, infecting the film's breezy dark-comedy with notes of rage and melancholy. 0.0\n",
      "\"Parasite\" begins in exhilaration and ends in devastation, but the triumph of the movie is that it fully lives and breathes at every moment, even when you might find yourself struggling to exhale. 0.0\n",
      "Ever the sui generis genre-switcher, Bong this time has his class struggle play out in a con-family comedy. And it's a riot. 0.0\n",
      "The impotent rage he feels about that spills into every frame of this incredible film, and leaves us all a little richer as a result. 0.35625\n",
      "A wonder of an allegory. 0.0\n",
      "A nerve-racking masterpiece whose spell lingers long after its haunting final image. -0.15\n",
      "Pivoting from hysteria to grotesque on a moment's notice, it's a bloodthirsty farce. -0.4833333333333334\n",
      "Bong is back and on brilliant form, but he is unmistakably, roaringly furious, and it registers because the target is so deserving, so enormous, so 2019: \"Parasite\" is a tick fat with the bitter blood of class rage. 0.27999999999999997\n",
      "It's a film that burrows under your skin and sinks in its teeth. -0.1\n",
      "Parasite gets its tendrils into you. 0.0\n",
      "Parasite is generally gripping and finely crafted, standing up well as Bong's most mature state-of-the-nation statement since Memories of Murder in 2003. 0.3791666666666667\n",
      "A vigorous and tightly controlled comedy that sees [Bong] back on top form, with a story that's both rigorously achieved and very specifically Korean. 0.13035714285714284\n",
      "Chloe Zhao's Nomadland mimics life scrupulously... 0.0\n",
      "What's most striking about Nomadland is the almost incidental manner in which it tells its stories - eschewing strident dramatic crises or narrative lurches for something altogether more ambient. 0.26666666666666666\n",
      "Not since Robert Redford in All Is Lost has a star performer carried an entire film through wordless looks and glances. 0.0\n",
      "Frances McDormand delivers a career-best turn in this gently meditative drama about the failure of the American dream. -0.038888888888888896\n",
      "Life on the road has never been so tenderly captured, politically alive and profoundly moving. 0.09166666666666667\n",
      "Personally, I am fine with the more sentimental moments of Nomadland. Social realism needs the space to contain multitudes and contradictions, just as life does. 0.17500000000000002\n",
      "McDormand masters an unshowy integrity that rarely grates against her less seasoned costars. 0.12777777777777777\n",
      "As Fern, [Frances McDormand] pecks at conversation like a bird, and moves like a lizard, holding still as if to conserve energy before darting off suddenly. Her bravest choice is to embody the character's passion without always rendering it palatable. 0.0\n",
      "Ii could not have been made anywhere but the United States. The vast expanses of the Western desert, the purple mountains' chilly majesty, provide a stark, flat, unwelcoming setting for the story about retirees and other Americans living in their vans. -0.15833333333333335\n",
      "Nomadland treats its subjects with respect and curiosity. Their misfortunes are not used to objectify or other them, as often happens in movies about an impoverished subculture. -0.125\n",
      "There's a genuine and emotional sense of presence as the viewer moves with Fern through the beautifully realized environs of Nomadland. 0.4166666666666667\n",
      "\"Nomadland\" feels simultaneously like both a memory and a prophecy. Zhao has managed to marry these juxtaposing ideas in her film, which is the essence of bittersweet distilled into an arrow and shot straight through the heart. 0.2\n",
      "In the end, \"Nomadland\" delivers a liberal-libertarian longing for a vague, undefined restoration of what was. -0.5\n",
      "\"Nomadland\" is a chronicle of the Great Recession that plays like a quietly thoughtful, real-life \"Grapes of Wrath,\" with McDormand's Fern as its understated Tom Joad - strong, resolute, haunting. 0.5444444444444445\n",
      "That is the challenge of this approach: committing to the [neorealist] aesthetic but relying on a star to carry it. 0.0\n",
      "It's just so deeply felt, moving, meditative, compassionate and beautiful. It's both majestic and kind of mundane. 0.3208333333333333\n",
      "\"Nomadland\" balances with spine-tingling grace between respect for that restlessness of spirit and longing for a society that has any notion of how to care for it. 0.0\n",
      "Nomadland is achingly beautiful and sad, a profound work of empathy from Zhao. It's a true elegy, a lament for the dead, a yearning for the lost. 0.11666666666666665\n",
      "A road movie like no other, Nomadland is a modest masterpiece like no other. Beautifully unadorned and heart-in-your-mouth stirring, it's leisurely yet urgent, with a singular tone that lies somewhere between elegy and hope. 0.26875\n",
      "Zhao's movie is really defined by its texture and tone, and there's not a whole lot of meat or momentum to the story. Ultimately, it's a window into a way of life that will seem foreign to most in the modern age. 0.1125\n",
      "The affecting, uneven Nomadland, set early in 2011 in the wake of the Great Recession but equally pertinent today, is a road movie of a very special sort. 0.23285714285714287\n",
      "Fern and McDormand are... a window into a painful corner of America that is all too easy to look away from. Good for Zhao for pointing her camera directly at it. 0.13333333333333333\n",
      "This is an elemental film in which everyday conversations and actions - and even gthe pauses the punctuate them - hold tremendous weight. 0.06666666666666665\n",
      "McDormand disappears into Fern, which is no small accomplishment for an actor as recognizable as she is. 0.1875\n",
      "McDormand turns Fern into a great protagonist, but she lacks narrative direction. By the end, Nomadland frustratingly wanders off the edge of the map. 0.2\n",
      "There is great power in this movie's subtle choices, and what they add up to is an astonishing achievement in American film. 0.2416666666666667\n",
      "In a fine Emersonian spirit, the movie rebels against its own conventional impulses, gravitating toward an idea of experience that is more complicated, more open-ended, more contradictory than what most American movies are willing to permit. 0.2623809523809524\n",
      "\"Nomadland\" is the kind of big and big-hearted movie - featuring a central performance at once epic and fine-tuned - that reminds you of how much life one film can hold, when circumstances allow. 0.18\n",
      "The contemplative \"Nomadland\" whispers instead of shouts its grievances about contemporary American life, and is all the more powerful for it. 0.24166666666666664\n",
      "Zhao has emerged as a brilliant storyteller, able to convey a lot of emotion in such a subtle way you don't even realize the wallop till a while after it's hit you. 0.26666666666666666\n",
      "The invaluable David Strathairn deserves best supporting actor consideration for his beautifully understated performance as the road-weary nomad Dave... 0.7000000000000001\n",
      "Zhao shows us the difficulty of this life - the endless laundromats, the cramped bed in the van, the cold, the possessions left behind - but also its beauty and freedom. -0.28125\n",
      "\"Nomadland\" is an existential exploration of the notion of freedom, of life lived on the blurry edges of American society, untethered to traditional ideals of society. 0.0\n",
      "Zhao's film is a a poetic Malickian ode to the pioneering nature of the restless American spirit. 0.1875\n",
      "Zhao places the failed promises of the American dream alongside some of its most beautiful, breathtaking vistas, as Fern pursues a life that isn't driven by a search for success and wealth. 0.35833333333333334\n",
      "Through these characters, Zhao is able to examine the idea of wide-open frontiers without nostalgia or the need to pathologize the parts of our social structures that are eroding or have failed. 0.011111111111111108\n",
      "Nomadland's clarity of thought on the concept of home, the environment, on women, on the elderly in society, on the very idea of human kindness, make this film much more than a passing moment. 0.2333333333333333\n",
      "It's very much its own thing, very much an original experience, and must be counted as some odd kind of good movie. 0.3947222222222222\n",
      "A captivating, immersive and deeply emotionally intelligent character portrait 0.65\n",
      "More than most road movies, this is a series of brief encounters, of short, intense friendships and sad farewells. As Wells says, \"I'll see you down the road.\" 0.07777777777777777\n",
      "The least actressy of actresses, McDormand merges completely with the landscape and everybody in it. The friendships that Fern makes spring from a collective store of commonsense gained from experience and coloured with playful good humour. 0.16666666666666666\n",
      "Chloe Zhao's thoughtful balance of majesty and intimacy makes Nomadland one of the most accomplished films of the year, an emotional tour de force that moves you but never imposes or manipulates. 0.275\n",
      "Zhao once again relies on mixed methods, non-fiction rendered into compellingly realistic drama thanks to a cast of non-professional actors playing versions of themselves. The result is as stimulating and satisfying as it is iffy and curious. 0.15333333333333335\n",
      "Fern works at an Amazon plant to afford a life with no fixed address. The bitter irony that she prepares packages she could never herself receive is especially felt during the pandemic. -0.05000000000000001\n",
      "Nomadland is a humanist masterpiece ... This is a quiet film, but never a dull one, with shots and themes that will continue to resonate ... 0.07291666666666667\n",
      "'Nomadland'is sort of a modern-day, existential equivalent ofWalden Pondset in the American West. The promise Chlo Zhao showed in'The Rider'three years ago is fulfilled here...with a little help from one of the finest actresses on the planet -0.09375\n",
      "Frances McDormand inhabits Fern... It's an earnest, grounded, immersive performance in a quiet movie that portrays \"flyover country\" as a landscape where independent spirits can still strike out on their own. 0.19999999999999998\n",
      "Chloe Zhao, the Chinese-born director of this wondrous work of art (Oscar, please), joins with a never-better Frances McDormand and a cast of real-life nomads to capture what inspires the human urge to roam. It's a new American classic. 0.07575757575757575\n",
      "What results is a nuanced portrait of free spirits who reject a culture that has rejected them. 0.4\n",
      "Nomadland is a meditation on the meaning and value of the concept of home: Does it reside in a building? A vehicle? A family? A sense of security and belonging? 0.0\n",
      "A film so immersed in the iconography of modern Americana that it feels both like an evocation and stern rebuke of the paintings of Norman Rockwell. 0.2\n",
      "Somewhere, inside this lovely and desperate movie, there's the ghost of a Western. -0.033333333333333326\n",
      "[Zhao's] movie gives a voice to the marginalised. If you listen hard, it might just change your life. -0.2916666666666667\n",
      "The film takes place in the aftermath of the 2008 recession. But it might as well be in an alternate universe where no one speaks above a whisper and \"America\" remains a vaguely benign abstraction. -0.16666666666666666\n",
      "This is how the other half lives. The half that is most often neglected and growing in numbers. 0.010416666666666685\n",
      "Nomadland is no stump-speech anecdote or soapbox sermon. It's too empathetic for that, too invested in the humanity of Fern and all those around her. -0.225\n",
      "At its heart, Nomadland is a road movie, but too many scenes feel stuck in neutral... 0.5\n",
      "Nomadland is a radiant celebration of humanity and community. 0.0\n",
      "A role and story drawn from life, \"Nomadland\" feels like classic fiction. 0.16666666666666666\n",
      "McDormand's commanding, deeply empathetic performance holds the film together. 0.0\n",
      "This movie is worth seeing specifically for Frances McDormand's performance, the beautiful cinematography, and also for the real-life nomads that the film includes. 0.575\n",
      "The journey Zhao has crafted is marvelous, exploring literal peaks and valleys as well as emotional ones. 0.5\n",
      "Nomadland is a near seamless pairing of filmmaker and actor, the two working in delicate harmony as they trace Fern's loose, bittersweet trajectory. -0.044230769230769226\n",
      "Nomadland is both a move in a bolder direction and an affirmation that [director Chloé Zhao's] been on the right road all along. 0.2857142857142857\n",
      "Here's a beaut. 0.0\n",
      "It's an observant, simple, contemplative work, one uninterested in manufacturing melodrama or hyped-up incident, but rewarding for its illumination of Americans who represent societal afterthoughts. 0.06666666666666667\n",
      "Nomadland at times has the feel of a documentary, but with none of the earnest flatness that mars even some very well-meaning documentaries... 0.1\n",
      "[A] lean, sad, richly textured portrait of life on the American outskirts. -0.041666666666666664\n",
      "McDormand, who is in every scene, makes Fern as tough at the plant she named for in that she adapts and survives. The actress gives a committed performance that will likely garner her an Oscar nomination. -0.19444444444444445\n",
      "In writer-director-editor-producer Chloe Zhao's searing new film, Frances McDormand plays Fern with a quiet ferocity, ultimately delivering a gut-punch of a performance. 0.04545454545454545\n",
      "By juxtaposing beautiful vistas filled with promise, a rotted social safety net, and the scrappy itinerant workers navigating the space in between, Zhao generates a gradually swelling tension underneath her film's somewhat placid surface. 0.19666666666666668\n",
      "McDormand is still finding the little-told stories that lead to impactful cinema. 0.0\n",
      "A gorgeous film that's alternately dreamlike in the way it captures the beauty of this country and grounded in its story about the kind of person we don't usually see in movies. 0.26249999999999996\n",
      "[Nomadland] is also a further refinement of Zhao's techniques, of the rough-hewn yet strikingly seamless weave of fiction and nonfiction... 0.05\n",
      "The melancholy lyricism of Nomadland is something truly special, and this quiet marvel of a film deserves your attention. 0.17857142857142858\n",
      "A powerful character study of a different kind of freedom fighter. 0.3\n",
      "For the making of the film - which she wrote as well as directed - Zhao immersed herself in this subculture and she immerses us too. 0.0\n",
      "The sheer compassion of Zhao's direction is one of the film's most elemental pleasures, while McDormand is one of those rare actors who can somehow make the act of listening as thrilling as a barnstorming speech. 0.2625\n",
      "[Zhao] is fast becoming one of our premiere chroniclers of a certain kind of forgotten American: raw-boned, untethered, on the margins. 0.29285714285714287\n",
      "The movie churns through a familiar saga of a woman who grows tired of her surroundings, but casts aside the pressure to conform to the traditional beats of that plight. -0.00833333333333334\n",
      "There is real greatness in Chloé Zhao's film-making. 0.2\n",
      "Watching \"Nomadland\" feels like gazing out on one long, gorgeous sunset. If that's not your thing, so be it, but for those on Zhao's wavelength, the movie is a marvel of empathy and introspection. 0.32499999999999996\n",
      "Even if your time is running out, that view never will, it will continually unfold out from itself, multiplying the acreage within: \"Nomadland\" is a gorgeous, endless unfurling. 0.2875\n"
     ]
    }
   ],
   "source": [
    "from textblob import TextBlob  # Importing the TextBlob library\n",
    "\n",
    "def analyze_sentiment(frasi):\n",
    "    blob = TextBlob(frasi)  # Creating a TextBlob object from the input text\n",
    "    sentiment = blob.sentiment.polarity  # Calculating the sentiment polarity of the text\n",
    "    print(frasi, sentiment)  # Print the sentiment of each sentence\n",
    "    if sentiment > 0:  # If the sentiment polarity is positive\n",
    "        return 'Positive'\n",
    "    elif sentiment < 0:  # If the sentiment polarity is negative\n",
    "        return 'Negative'\n",
    "    else:  # If the sentiment polarity is neutral\n",
    "        return 'Neutral'\n",
    "\n",
    "\n",
    "sentiments_critica_drama = []\n",
    "for sublista in recensioni_critica_drama:\n",
    "    for recensione in sublista:\n",
    "        frase = recensione[0]  # Accessing the review text from each sublist item\n",
    "        sentiment = analyze_sentiment(frase)\n",
    "        sentiments_critica_drama.append(sentiment)\n",
    "\n",
    "# Printing the sentiments of\n"
   ]
  },
  {
   "cell_type": "code",
   "execution_count": 105,
   "id": "1debbd86",
   "metadata": {},
   "outputs": [
    {
     "data": {
      "text/plain": [
       "526"
      ]
     },
     "execution_count": 105,
     "metadata": {},
     "output_type": "execute_result"
    }
   ],
   "source": [
    "len( sentiments_critica_drama)"
   ]
  },
  {
   "cell_type": "code",
   "execution_count": 106,
   "id": "16985d60",
   "metadata": {},
   "outputs": [
    {
     "name": "stdout",
     "output_type": "stream",
     "text": [
      "File CSV 'sentiments_critica_drama.csv' creato con successo.\n"
     ]
    }
   ],
   "source": [
    "import csv\n",
    "csv_filename = \"sentiments_critica_drama.csv\"\n",
    "\n",
    "with open(csv_filename, mode='w', newline='') as file:\n",
    "    writer = csv.writer(file)\n",
    "    writer.writerow(['Sentiment'])  # Write header\n",
    "    for sentiment in sentiments_critica_drama:\n",
    "        writer.writerow([sentiment])\n",
    "\n",
    "print(f\"File CSV '{csv_filename}' creato con successo.\")"
   ]
  },
  {
   "cell_type": "markdown",
   "id": "33939687",
   "metadata": {},
   "source": [
    "## Crime"
   ]
  },
  {
   "cell_type": "code",
   "execution_count": 109,
   "id": "cb4ec59b",
   "metadata": {},
   "outputs": [
    {
     "name": "stdout",
     "output_type": "stream",
     "text": [
      "35\n"
     ]
    }
   ],
   "source": [
    "with open('recensionicritica_fronte_del_porto.pickle', 'rb') as f:\n",
    "    r_critica_fronte_del_porto = pickle.load(f)\n",
    "    r_critica_fronte_del_porto=[sottolista for sottolista in r_critica_fronte_del_porto if sottolista!=['']]\n",
    "    print(len(r_critica_fronte_del_porto))"
   ]
  },
  {
   "cell_type": "code",
   "execution_count": 110,
   "id": "0a24f2ad",
   "metadata": {},
   "outputs": [
    {
     "name": "stdout",
     "output_type": "stream",
     "text": [
      "59\n"
     ]
    }
   ],
   "source": [
    "with open('recensionicritica_crash.pickle', 'rb') as f:\n",
    "    r_critica_crash= pickle.load(f)\n",
    "    r_critica_crash=[sottolista for sottolista in r_critica_crash if sottolista!=['']]\n",
    "    print(len(r_critica_crash))"
   ]
  },
  {
   "cell_type": "code",
   "execution_count": 111,
   "id": "dd224056",
   "metadata": {},
   "outputs": [
    {
     "name": "stdout",
     "output_type": "stream",
     "text": [
      "61\n"
     ]
    }
   ],
   "source": [
    "with open('recensioncritica_the_millionaire.pickle', 'rb') as f:\n",
    "    r_critica_the_millionaire = pickle.load(f)\n",
    "    r_critica_the_millionaire=[sottolista for sottolista in r_critica_the_millionaire if sottolista!=['']]\n",
    "    print(len(r_critica_the_millionaire))"
   ]
  },
  {
   "cell_type": "code",
   "execution_count": 112,
   "id": "dc3f420b",
   "metadata": {},
   "outputs": [],
   "source": [
    "recensioni_critica_crime=[]\n",
    "recensioni_critica_crime=[\n",
    "     r_critica_fronte_del_porto,\n",
    "    r_critica_crash,\n",
    "    r_critica_the_millionaire\n",
    "    \n",
    "    \n",
    "    \n",
    "]"
   ]
  },
  {
   "cell_type": "code",
   "execution_count": 113,
   "id": "89bf1a27",
   "metadata": {},
   "outputs": [
    {
     "data": {
      "text/plain": [
       "155"
      ]
     },
     "execution_count": 113,
     "metadata": {},
     "output_type": "execute_result"
    }
   ],
   "source": [
    " sum(len(lista) for lista in recensioni_critica_crime)"
   ]
  },
  {
   "cell_type": "code",
   "execution_count": 114,
   "id": "5510f47f",
   "metadata": {},
   "outputs": [
    {
     "name": "stdout",
     "output_type": "stream",
     "text": [
      "Malloy makes an unlikely proxy for Kazan, though. A former boxer with the eyes of a showgirl, he was the role of a lifetime for Brando, whose Method-schooled blend of machismo and vulnerability redefined acting for a generation. -0.16666666666666666\n",
      "The supporting cast is wonderful, but it’s Brando who lights up every part of this film. 0.625\n",
      "The performances in the film have a magnificent intelligence and strength, shaped and guided incomparably by Kazan, a master of Broadway and Hollywood. 0.7\n",
      "Even though there's not a single scene where sluggers dance around within the confines of a ring, Kazan's film is in fact a boxing film in disguise. 0.03571428571428571\n",
      "It is one of the most powerful American movies of the 50s, and few movies caused so much talk, excitement, and dissension -- largely because of Marlon Brando's performance as the inarticulate, instinctively alienated bum, Terry Malloy. 0.13061224489795917\n",
      "But sometimes great art, like Wagner's and Celine's, comes from people you wouldn't want to break bread with. But snub the art? Who'd want to miss Marlon Brando's performance? 0.8\n",
      "On the Waterfront is strong, tough and cruelly violent, but it is also a film that should make theatre history for 1954. It will strike audiences with special impact because it is based on undisputed fact. -0.09960317460317462\n",
      "The film has a ring of authenticity. It is as close to the unvarnished truth as has been seen on the screen in many a day and a shining example of intelligent use of a medium too seldom utilized to its greatest extent. 0.7666666666666666\n",
      "If reservations still linger in any one's mind concerning Brando's ability as an actor, On the Water front should dispel them completely. 0.1\n",
      "This is a motion picture with a great deal to say, and a great deal will be said about it. 0.8\n",
      "Kazan's nervous direction... draws all characters with throbbing lifelikeness, and views them in a wintry environment that spreads its own dread into their drama. 0.6\n",
      "No other country could have made On the Waterfront, this latest achievement by the actor-director team of Marlon Brando and Elia Kazan. You could almost call it an epitome of America. It is brash, high-powered and technically faultless. 0.340625\n",
      "This is a fine film -- to be seen almost as much for its difficult, not-quite-realised symbolic aspirations as for its expert, self-assured realism. 0.038888888888888896\n",
      "[On the Waterfront] seethes with vitality and raw realism. It is an exciting, brilliant, electric job replete with remarkable acting. Certainly it is one of the year's top pictures. 0.34764521193092623\n",
      "In theme and moral On the Waterfront is conventional but the direction is bold and creates a music of its own out of discords. Mr. Brando sets a remarkable standard in acting, but not far behind him are Miss Saint, Mr. Cobb, Mr. Karl Malden [and Steiger]. 0.12116402116402113\n",
      "Between the powerful beginning and finish On the Waterfront evolves through many highly suspenseful sequences that show the grip exerted by the labor boss, and the courageous resistance against his domination by Miss Le Saint. 0.26666666666666666\n",
      "For those who like their movies realistic, tender and sometimes brutal, this documentary of the docks is a masterful piece of film artistry. 0.07291666666666666\n",
      "Elia Kazan's On the Waterfront is a significant, almost a definitive, example of a type of film which traditionally finds Hollywood at its most expert: the melodrama with a stiffening of serious ideas, the journalistic expose of crime and corruption. 0.048333333333333325\n",
      "This brutal, violently realistic drama, set against the sordid background of the New York waterfront, packs a terrific wallop that results in topflight entertainment. -0.14299242424242425\n",
      "Kazan over-emphasized the last sequence in the film, but on the whole, his fine direction shows in the strength and power of the dramatic action on the screen. 0.056666666666666685\n",
      "Add the acting/writing heroics a restrained score by Leonard Bernstein and a striking, charcoal look by cinematographer Boris Kaufman, and you have an elegiac portrait of labour relations that feels like a kick in the slats. 0.5\n",
      "Raises important issues about the nature of power. 0.4\n",
      "On the Waterfront has a script that is a work of love and shows it. 0.5\n",
      "Under Elia Kazan's direction, Marlon Brando puts on a spectacular show, giving a fascinating, multi-faceted performance as the uneducated dock walloper and former pug, who is basically a softie with a special affection for his rooftop covey of pigeons. 0.41428571428571426\n",
      "It's hard to deny that Marlon Brando's performance as a dock worker and ex-fighter who finally decides to rat on his gangster brother (Rod Steiger) is pretty terrific. -0.010416666666666671\n",
      "It's pretty electrifying. 0.25\n",
      "Indisputably one of the great American films, its power undiminished. 0.4\n",
      "So when does it hit you that you're in the presence of movie greatness? 0.0\n",
      "It is thanks to Brando that this posthumous Popular Front classic is a heart-clutcher from beginning to end. 0.32222222222222224\n",
      "Religion and social action finally meet in Hollywood… a great film for many reasons, but its most enduring asset may be the young Brando. 0.29047619047619044\n",
      "An uncommonly powerful, exciting and imaginative use of the screen by gifted professionals. 0.425\n",
      "The unusual thing about On the Waterfront, which is certain to be one of the year's outstanding films, is that Marlon Brando's performance is only one of many striking bits of acting. 0.27346938775510204\n",
      "Retains the freshness of an original -- exploring the difficulties and corruptions of working stiffs with a realism, sensitivity and intelligence that has seldom been matched since. 0.375\n",
      "Screenwriter Budd Schulberg's exposé of the corruption in the dock workers' unions won eight Oscars and remains as stirring as ever -- as does the performance of Marlon Brando. 0.0\n",
      "It is still possible to feel the power of the film and of Brando and Kazan, who changed American movie acting forever. 0.0\n",
      "If there's anything worse than a film with no point, it's one that's all point and nothing but. -0.4\n",
      "Instead of heartwarming messages about forgiveness, it honours ambiguity and brings us close, closer than is comfortable, in fact, to what Americans today are really thinking about one another. 0.30000000000000004\n",
      "[Crash] is familiar enough that it slips easily into our film-watching faculty without any fuss, yet [Haggis'] handling of it -- his muscular belief in what he is doing -- makes us hope that his next screenplay will be a bit less safe. 0.19027777777777777\n",
      "Crash is a very watchable and well-constructed piece of work, and a potential script masterclass: but its daringly supercharged fantasies of racial paranoia and humanist redemption are not to be taken too seriously. -0.04444444444444443\n",
      "The script is clever, the racial theme is worthy of Newsnight, and the editing just sublime. 0.25\n",
      "Set in a simmering cauldron of racial tensions where subtle nuance can cut as deep as unambiguous hostility, it's a powerful drama about the often bewildering contradictions that underlie human behaviour. -0.008333333333333331\n",
      "Ultimately, Crash succeeds in spite of itself. Its color war starts to feel obvious and schematic. Its coincidences and cliches become like a pileup on the 405 freeway, but there it is -- you find yourself rubbernecking and can't manage to look away. 0.2333333333333333\n",
      "Haggis moves seamlessly between all these stories and has structured them in such a way that his characters reach a crisis point simultaneously, followed by melancholy clarity. 0.05\n",
      "Haggis shows a lot of promise as a director: his film is never dull. But he needs to unlearn some of the bad lessons he picked up working in TV, which demands that everything be neat, symmetrical and underlined. -0.27708333333333324\n",
      "Filters every scene… through the prism of race, but keeps turning the prism around and around until the colors no longer matter and we see only what the characters do. 0.0\n",
      "It's smart, therefore, that Haggis has written such novel, precisely observed, often unpleasant characters as the ones Bullock, Dillon, and Cheadle inhabit. -0.008928571428571397\n",
      "Any relation to persons living or dead is purely coincidental. 0.007142857142857131\n",
      "Enjoy the wonderful performances by a cast very committed to the cause. 0.5333333333333333\n",
      "A haunting, perceptive and uncompromising examination of controversial subject matter, expertly written and directed by Paul Haggis and characterised by excellent performances from its starry cast. 0.4611111111111111\n",
      "An already over-eventful narrative -- what, another crash? -- teeters into melodramatic implausibility. 0.0\n",
      "Few films are as daring. Few films this year are as deserving of your attention. 0.06666666666666665\n",
      "This is how I felt leaving Crash. I knew what I just watched wasn't perfect; too many coincidences, too many cliches; but the power of the performances, words and images refused to leave me alone. 0.6666666666666666\n",
      "The actors, especially Chris Bridges (aka rapper Ludacris), Don Cheadle, Matt Dillon, Michael Peña, and Larenz Tate, are adroit at conveying Haggis's candid observations about the crazy ways we live and think. 0.03409090909090909\n",
      "There are some powerful scenes that have a harrowing quality. 0.3\n",
      "I found Mr. Haggis' moralistic tales too facile for my taste. 0.0\n",
      "It's too bad that the movie induces eyeball-rolling almost as much as it does armrest-clutching. -0.24999999999999992\n",
      "It's the most compelling American movie to come around in a long, long time. 0.13999999999999999\n",
      "Haggis's drama is about much more than interlocking front-end collisions. It's about the way we learn, often badly, about one another and how it may take a bad confrontation to peel away the misperceptions. -0.2999999999999999\n",
      "This is the rare American film really about something, and almost all the performances are riveting. It asks tough questions, and lets its audience struggle with the answers. 0.12222222222222223\n",
      "The best parts of Crash are as good as they are because they confront us with behaviour we might be capable of under the same circumstances. And we're not bad people. Are we? 0.45\n",
      "And so Crash raises the question: If racism is so pervasive in our society, why do we need such an elaborately contrived plot to drive home the message? In other words: How many racists does it take to screw in the point? -0.03125\n",
      "Crash, Paul Haggis' flawed but riveting tale of racism in contemporary Los Angeles, has moments so powerful they're instantly seared into your memory; you'll watch without blinking, barely breathing. 0.08611111111111112\n",
      "Its emotional lows and wicked below-the-belt punches make it a soul-searching film, a manipulative movie with a lot of stars and a writer-director staying on message throughout: We need to know each other better than this. 0.125\n",
      "Contrived, obvious and overstated, Crash is basically just one white man's righteous attempt to make other white people feel as if they've confronted the problem of racism head-on. -0.125\n",
      "An ambitious and often wonderful movie, an expansive look at urban life -- the fractious, noisy whole of it -- filled with witty, biting and insightful writing. 0.39166666666666666\n",
      "Haggis bends back one full day to unravel the tangled threads leading to the crash, and, in turn, the tangle justifies the existence of his varied and polyglot ensemble. 0.175\n",
      "One of the finest American movies to engage our diverse richness and our casual and not-so-casual ethnic hostility. -0.25000000000000006\n",
      "Characters come straight from the assembly line of screenwriting archetypes, and too often they act in ways that archetypes, rather than human beings, do. 0.1\n",
      "The characters and individual dramas remain interesting in a personal way, but the overall conception of Crash is hackneyed. 0.125\n",
      "Cheadle serves as the movie's Greek chorus, sorting out the fender benders that serve as a metaphor for a city where, Haggis implies, racial profiling rivals moviemaking as a leading activity. 0.0\n",
      "Crash wants to be taken seriously as a meditation on our anxiety-plagued times, but the coincidences are too pat, the tugs on the heartstrings too insistent. -0.06666666666666665\n",
      "You will watch much of Crash in dread. That's not so much because you know things are going to get worse -- they do -- before they get better, but because you know Haggis is getting to the nut of things. 0.125\n",
      "The theme is racism. Let me say that again: The theme is racism. I could say it 500 more times because that's how many times the movie says it, in every single scene. 0.30952380952380953\n",
      "Haggis writes with such directness and such a good ear for everyday speech that the characters seem real and plausible after only a few words. His cast is uniformly strong; the actors sidestep cliches and make their characters particular. 0.16\n",
      "The characters keep surprising themselves and each other, for better and for worse, and they surprise us, too. 0.16874999999999998\n",
      "Audiences may cringe as Haggis taps into the kind of offensive images that surreptitiously seep into the brains of even the most open-minded. His point is simple: No one is immune. 0.375\n",
      "A grim, histrionic experiment in vehicular metaphor slaughter. -1.0\n",
      "Lop off a few characters, tighten the narrative geometry, and Crash might have a sledgehammer impact. As it is, the film is content to tap you on the shoulder and ask you to take a look around. -0.2\n",
      "So much feeling, so much skill, so much seriousness, such an urgent moral agenda -- all of this must surely answer our collective hunger for a good movie, or even a great one, about race and class in a modern American city. Not even close. 0.28\n",
      "Haggis challenges our common conceptions about race and allows no character to escape his own hypocrisy. 0.15\n",
      "Like that nerve-rattling collision of metal and glass, Crash will leave its audiences jarred awake, feeling bruised. 0.0\n",
      "Crash has been crafted to deliver a wake-up blow to our complacency. 0.0\n",
      "A gorgeous mosaic of a movie that is actually about our fears of each other, set in the bright light of Los Angeles and the dark places in our hearts. 0.25416666666666665\n",
      "Dark, fluid thriller seasoned with acerbic dialogue and rueful observations that may strike uncomfortably close to home. -0.1\n",
      "An intricate, explosive ensemble crime drama set in a modern urban pressure-cooker of racial and class hatreds. 0.1\n",
      "People collide as well in this literate, engrossing and occasionally funny look at race relations in Los Angeles. 0.425\n",
      "Not just one of the best Hollywood movies about race, but, along with Collateral, one of the finest portrayals of contemporary Los Angeles life period. 0.5833333333333334\n",
      "The script confronts prejudice with unvarnished nastiness. 0.0\n",
      "Despite its preachy moments, the film is a knockout. In a multiplex starved for ambition, why kick a film with an excess of it? -0.2\n",
      "Haggis knows how to grab the viewer's attention, via intense confrontations as well as by planting dramatic seeds that bear fruit in, more often than not, grimly unexpected ways. 0.05416666666666668\n",
      "The stunning, must-see drama Crash is proof that words have not lost the ability to shock in our anesthetized society. 0.5\n",
      "Full of well-observed supporting riffs, Crash might've accumulated more frisson had it cast a clearer eye on how social tension actually plays. 0.2266666666666667\n",
      "Crash is hyper-articulate and often breathtakingly intelligent and always brazenly alive. I think it's easily the strongest American film since Clint Eastwood's Mystic River, though it is not for the fainthearted. 0.33333333333333337\n",
      "I think this is the kind of film that starts arguments and stimulates passionate discussion about topics that still make most of us cringe. 0.3499999999999999\n",
      "It's not about poverty pornography. It's not about a White guy showing us touchy Brown-skins squatting by the rail-tracks. In the end, it's just about a film, which sweeps you up and takes you for an exhilarating ride on the wild side. 0.26666666666666666\n",
      "Slumdog Millionaire is an exhilarating ride -- a feel-good yarn about a Mumbai street kid directed by Danny Boyle with a wild energy that makes even Trainspotting (Boyle's calling card) look leaden-footed. 0.2333333333333333\n",
      "There are so many frantic pursuits through heaving streets that it is easy to lose track of who is chasing whom, or why. Energy and urgency are substituted for realism. 0.4666666666666667\n",
      "Slumdog is a good film and an appealing film with some lovely performances but it's not a great film: it's too sentimental and predictable for that. 0.14166666666666664\n",
      "Boyle set out to make this particular film rather than a gritty social panorama along the lines of Brazilian favela drama City of God. But keeping us cheerful takes the edge off the tougher insights into India. 0.15\n",
      "Boyle takes his wildly high-energy visual aesthetic and applies it to a story that, at its core, is rather sweet and traditionally crowdpleasing. 0.11249999999999999\n",
      "It's Oliver Twist by way of City of God. 0.0\n",
      "The best movie of 2008. 1.0\n",
      "Slumdog Millionaire, a film so upbeat and colourful that, by the time you're relaying its infectious air of optimism to friends, you could forget that it features orphans, slaughter, organised crime, poverty, enslavement and police brutality. 0.0\n",
      "Mumbai's brand new skyscrapers sprout out of patches of mud; Jamal's old-fashioned principles will forever be out of synch with the slick, nightclub world that his older brother Salim inhabits. And so it goes. The romance? Fear not. It's fabulous icing. 0.11325757575757575\n",
      "Despite being overpraised - it arrives garlanded with the kind of reviews that must have come out after the opening night of King Lear - this is still very effective entertainment. 0.69\n",
      "Slumdog Millionaire is as acerbic as it is clear-eyed about the brutal power dynamics in modern-day Mumbai. But, at the same time, what makes it so warming and what has been inspiring audiences all across the world to cheer at its rousing ending. -0.125\n",
      "Danny Boyle's finest since Trainspotting. In fact, it's the best British/Indian gameshow-based romance of the millennium. 1.0\n",
      "Don't worry about suspending disbelief: for an hour or so Boyle will do it for you. The film's visual panache is strong enough to ambush doubters, whose scepticism will stumble into hidden nets and be hoisted high into the firmament. 0.06277777777777778\n",
      "I'm not sure it's a great movie, but it's certainly a great audience movie. 0.45\n",
      "It's a fantasy with realist stud marks, full of energy, colour and, frankly, cliché. 0.35\n",
      "Dickens would undoubtedly have approved: after all, his stories invariably had happy endings. 0.8\n",
      "Shows [Boyle] at the top of his form. 0.5\n",
      "Like Mumbai, Slumdog pulses and throbs with raw, unadulterated life and the hope for a better Bombay, today. It's brilliant. 0.39230769230769236\n",
      "Slumdog Millionaire is not the cure for all the world's ills, but it comes close. It solves, for instance, such endemic global problems as: a) sadness, b) lovelessness, c) cynicism, and d) the waning cultural relevance of Who Wants to Be a Millionaire. 0.07500000000000001\n",
      "[A] taut, tense and witty tale of human tragedy and triumphant humanity set against the sweep of modern India. 0.09166666666666667\n",
      "An intoxicating mix of genres: comedy, drama, suspense, even Bollywood-style musical. 0.0\n",
      "Watching Slumdog Millionaire, it's easy to believe director Danny Boyle has been working toward this brilliantly woven masterwork with each entertaining and diverse tale he's delivered. 0.6111111111111112\n",
      "I'll keep this simple: Cancel whatever you're doing tonight and go see Slumdog Millionaire instead. 0.0\n",
      "It doesn't happen often, but when it does, look out: a movie that rocks and rolls, that transports, startles, delights, shocks, seduces. A movie that is, quite simply, great. 0.8\n",
      "The film is a delight. 0.0\n",
      "Not that the movie from director Danny Boyle isn't satisfying, isn't more than worth seeing. But I had been expecting cinematic fireworks to justify the claim that it's the best movie of the new millennium. 0.406060606060606\n",
      "There are no surprises in this movie, and most people will be able to predict, within the first ten minutes, roughly how the last ten will pan out. 0.16428571428571428\n",
      "Danny Boyle's Slumdog Millionaire is trying very hard to be a Dickensian fable for our time. -0.3791666666666667\n",
      "The movie brushes against some of India's worst social ills, but it's essentially a fairy tale. -0.32222222222222224\n",
      "The filmmaker deftly weaves between past, present and a (potentially) hopeful future with such energetic skill it is impossible not to be impressed. 0.13148148148148148\n",
      "Slumdog Millionaire is skillful entertainment, with the simple message that the most intense life experiences yield the greatest education. 0.425\n",
      "Slumdog Millionaire is [Boyle's] liveliest fusion of style and content since Trainspotting. 0.0\n",
      "Slumdog Millionaire features the simplest story Boyle has ever told, which may explain why its many pleasures are so pure. 0.35714285714285715\n",
      "Why, when Boyle has for half a film been such a devastating purveyor of social class suffering, would he turn as glossy as a Disney cartoon? -0.2833333333333333\n",
      "Like all good fairy tales, this outsize celebration of perseverance and moral triumph contains within it a deeper idea -- in this case, the relative nature of what we think we know, and what's worth knowing at all. 0.25\n",
      "Romantic, action-packed and always held together by an intriguing social conscience, Slumdog Millionaire is a rapturous crowd pleaser. 0.11111111111111112\n",
      "Danny Boyle's Slumdog Millionaire is a stylish, ingeniously constructed bit of hokum, a sparkling trinket of a movie that's as implausible as it is irresistible. 0.5\n",
      "The best old-fashioned audience picture of the year, a Hollywood-style romantic melodrama that delivers major studio satisfactions in an ultra-modern way. 0.190625\n",
      "It's fair to say that the movie ends so well that it will redeem the entire experience for many viewers. It all depends on how you feel about the sluggish 90 minutes that went before. 0.39999999999999997\n",
      "Four stars simply aren't enough for Danny Boyle's Slumdog Millionaire, which just may be the most entertaining movie I've ever labeled a masterpiece in these pages. 0.25\n",
      "When Boyle pulls back to show us his grand vision, it's a stunner. And everything suddenly falls into place, as if this uncommonly daring film was fated to work from the very start. 0.3\n",
      "[E]ven at its most harrowing and heartbreaking, Slumdog Millionaire is never less than deliriously entertaining. 0.36111111111111116\n",
      "Slumdog Millionaire is nothing if not an enjoyably far-fetched piece of rags-to-riches wish fulfillment. It's like the Bollywood version of a Capra fable sprayed with colorful drops of dark-side-of-the-Third-World squalor. 0.4\n",
      "The beautifully rendered and energetic tale celebrates resilience, the power of knowledge and the vitality of the human experience. Horrifying, humorous and life-affirming, it is, above all, unforgettable. 0.25\n",
      "An entertaining, ingenious yarn, despite a few loose ends. 0.12461538461538461\n",
      "This is a breathless, exciting story, heartbreaking and exhilarating at the same time. 0.3333333333333333\n",
      "Drama, comedy, musical, thriller, love story, and more in one transcending, riveting story. It is life on celluloid and, easily, one of the best movies of the year. 0.48888888888888893\n",
      "Much of the film is so overwhelming as sheer mass spectacle that it serves as a sobering view of an overpopulated part of the world that defies any judgmental analysis. 0.2333333333333333\n",
      "Slumdog Millionaire has the goods to bust out as a scrappy contender in the Oscar race. It's modern India standing in for a world in full economic spin. 0.25\n",
      "Slumdog Millionaire is a ruthlessly effective paean to destiny, leaving nothing to chance. It also has a good shot at winning this year's Academy Award for best picture, if the pundits, Allah, Shiva and Fox Searchlight Pictures have anything to say 0.7\n",
      "A gaudy, gorgeous rush of color, sound and motion, Slumdog Millionaire doesn't travel through the lower depths, it giddily bounces from one horror to the next. 0.3666666666666667\n",
      "Once Slumdog launches into its final act, you'll get that pang that comes with the last chapter of a great book you wish you weren't about to finish. 0.26666666666666666\n",
      "A story of coincidences and luck and eventually fate, it's a classic, perhaps cliched tale-- but one that has rarely felt or looked so alive. 0.18888888888888888\n",
      "Slumdog Millionaire is fantasy yet its hyperactively effervescent (if still personal, intimate) portrait of both ingrained social barriers and altruism's ability to demolish them is genuine and sweet. 0.19666666666666666\n",
      "Despite its elements of brutality, this is a buoyant hymn to life, and a movie to celebrate. 0.0\n",
      "What's perhaps most fascinating about the film is Boyle's relentless focus on the realities of present-day India as a vehicle for his spectacle and laughs. 0.6\n",
      "Slumdog Millionaire is the film world's first globalized masterpiece. 0.25\n",
      "Boyle and Beaufoy, working from a novel by Vikas Swarup, uninsistently make the case that the most useful intelligence, in all its forms, comes from life experience. 0.4\n",
      "It's a wrenching fairy tale, a yarn rife with desperate want, loyalty and love, a fable of the vagaries of life that are often cruel but sometimes unexpectedly, sublimely kind. -0.08333333333333331\n",
      "It's an underdog crowd-pleaser, a radiant love story and a taste of Bollywood splendor. 0.5\n"
     ]
    }
   ],
   "source": [
    "from textblob import TextBlob  # Importing the TextBlob library\n",
    "\n",
    "def analyze_sentiment(frasi):\n",
    "    blob = TextBlob(frasi)  # Creating a TextBlob object from the input text\n",
    "    sentiment = blob.sentiment.polarity  # Calculating the sentiment polarity of the text\n",
    "    print(frasi, sentiment)  # Print the sentiment of each sentence\n",
    "    if sentiment > 0:  # If the sentiment polarity is positive\n",
    "        return 'Positive'\n",
    "    elif sentiment < 0:  # If the sentiment polarity is negative\n",
    "        return 'Negative'\n",
    "    else:  # If the sentiment polarity is neutral\n",
    "        return 'Neutral'\n",
    "\n",
    "\n",
    "sentiments_critica_crime = []\n",
    "for sublista in recensioni_critica_crime:\n",
    "    for recensione in sublista:\n",
    "        frase = recensione[0]  # Accessing the review text from each sublist item\n",
    "        sentiment = analyze_sentiment(frase)\n",
    "        sentiments_critica_crime.append(sentiment)\n",
    "\n",
    "# Printing the sentiments of\n"
   ]
  },
  {
   "cell_type": "code",
   "execution_count": 115,
   "id": "0fc5d396",
   "metadata": {},
   "outputs": [
    {
     "data": {
      "text/plain": [
       "155"
      ]
     },
     "execution_count": 115,
     "metadata": {},
     "output_type": "execute_result"
    }
   ],
   "source": [
    "len(sentiments_critica_crime)"
   ]
  },
  {
   "cell_type": "code",
   "execution_count": 116,
   "id": "7fa140b0",
   "metadata": {},
   "outputs": [
    {
     "data": {
      "text/plain": [
       "['Negative',\n",
       " 'Positive',\n",
       " 'Positive',\n",
       " 'Positive',\n",
       " 'Positive',\n",
       " 'Positive',\n",
       " 'Negative',\n",
       " 'Positive',\n",
       " 'Positive',\n",
       " 'Positive',\n",
       " 'Positive',\n",
       " 'Positive',\n",
       " 'Positive',\n",
       " 'Positive',\n",
       " 'Positive',\n",
       " 'Positive',\n",
       " 'Positive',\n",
       " 'Positive',\n",
       " 'Negative',\n",
       " 'Positive',\n",
       " 'Positive',\n",
       " 'Positive',\n",
       " 'Positive',\n",
       " 'Positive',\n",
       " 'Negative',\n",
       " 'Positive',\n",
       " 'Positive',\n",
       " 'Neutral',\n",
       " 'Positive',\n",
       " 'Positive',\n",
       " 'Positive',\n",
       " 'Positive',\n",
       " 'Positive',\n",
       " 'Neutral',\n",
       " 'Neutral',\n",
       " 'Negative',\n",
       " 'Positive',\n",
       " 'Positive',\n",
       " 'Negative',\n",
       " 'Positive',\n",
       " 'Negative',\n",
       " 'Positive',\n",
       " 'Positive',\n",
       " 'Negative',\n",
       " 'Neutral',\n",
       " 'Negative',\n",
       " 'Positive',\n",
       " 'Positive',\n",
       " 'Positive',\n",
       " 'Neutral',\n",
       " 'Positive',\n",
       " 'Positive',\n",
       " 'Positive',\n",
       " 'Positive',\n",
       " 'Neutral',\n",
       " 'Negative',\n",
       " 'Positive',\n",
       " 'Negative',\n",
       " 'Positive',\n",
       " 'Positive',\n",
       " 'Negative',\n",
       " 'Positive',\n",
       " 'Positive',\n",
       " 'Negative',\n",
       " 'Positive',\n",
       " 'Positive',\n",
       " 'Negative',\n",
       " 'Positive',\n",
       " 'Positive',\n",
       " 'Neutral',\n",
       " 'Negative',\n",
       " 'Positive',\n",
       " 'Positive',\n",
       " 'Positive',\n",
       " 'Positive',\n",
       " 'Positive',\n",
       " 'Negative',\n",
       " 'Negative',\n",
       " 'Positive',\n",
       " 'Positive',\n",
       " 'Neutral',\n",
       " 'Neutral',\n",
       " 'Positive',\n",
       " 'Negative',\n",
       " 'Positive',\n",
       " 'Positive',\n",
       " 'Positive',\n",
       " 'Neutral',\n",
       " 'Negative',\n",
       " 'Positive',\n",
       " 'Positive',\n",
       " 'Positive',\n",
       " 'Positive',\n",
       " 'Positive',\n",
       " 'Positive',\n",
       " 'Positive',\n",
       " 'Positive',\n",
       " 'Positive',\n",
       " 'Positive',\n",
       " 'Positive',\n",
       " 'Neutral',\n",
       " 'Positive',\n",
       " 'Neutral',\n",
       " 'Positive',\n",
       " 'Positive',\n",
       " 'Negative',\n",
       " 'Positive',\n",
       " 'Positive',\n",
       " 'Positive',\n",
       " 'Positive',\n",
       " 'Positive',\n",
       " 'Positive',\n",
       " 'Positive',\n",
       " 'Positive',\n",
       " 'Positive',\n",
       " 'Neutral',\n",
       " 'Positive',\n",
       " 'Neutral',\n",
       " 'Positive',\n",
       " 'Neutral',\n",
       " 'Positive',\n",
       " 'Positive',\n",
       " 'Negative',\n",
       " 'Negative',\n",
       " 'Positive',\n",
       " 'Positive',\n",
       " 'Neutral',\n",
       " 'Positive',\n",
       " 'Negative',\n",
       " 'Positive',\n",
       " 'Positive',\n",
       " 'Positive',\n",
       " 'Positive',\n",
       " 'Positive',\n",
       " 'Positive',\n",
       " 'Positive',\n",
       " 'Positive',\n",
       " 'Positive',\n",
       " 'Positive',\n",
       " 'Positive',\n",
       " 'Positive',\n",
       " 'Positive',\n",
       " 'Positive',\n",
       " 'Positive',\n",
       " 'Positive',\n",
       " 'Positive',\n",
       " 'Positive',\n",
       " 'Positive',\n",
       " 'Positive',\n",
       " 'Neutral',\n",
       " 'Positive',\n",
       " 'Positive',\n",
       " 'Positive',\n",
       " 'Negative',\n",
       " 'Positive']"
      ]
     },
     "execution_count": 116,
     "metadata": {},
     "output_type": "execute_result"
    }
   ],
   "source": [
    "sentiments_critica_crime"
   ]
  },
  {
   "cell_type": "code",
   "execution_count": 117,
   "id": "04f35361",
   "metadata": {},
   "outputs": [
    {
     "name": "stdout",
     "output_type": "stream",
     "text": [
      "File CSV 'sentiments_critica_crime.csv' creato con successo.\n"
     ]
    }
   ],
   "source": [
    "import csv\n",
    "csv_filename = \"sentiments_critica_crime.csv\"\n",
    "\n",
    "with open(csv_filename, mode='w', newline='') as file:\n",
    "    writer = csv.writer(file)\n",
    "    writer.writerow(['Sentiment'])  # Write header\n",
    "    for sentiment in sentiments_critica_crime:\n",
    "        writer.writerow([sentiment])\n",
    "\n",
    "print(f\"File CSV '{csv_filename}' creato con successo.\")"
   ]
  },
  {
   "cell_type": "markdown",
   "id": "f0382393",
   "metadata": {},
   "source": [
    "## Comedy "
   ]
  },
  {
   "cell_type": "code",
   "execution_count": 118,
   "id": "24c0ffd9",
   "metadata": {},
   "outputs": [
    {
     "name": "stdout",
     "output_type": "stream",
     "text": [
      "36\n"
     ]
    }
   ],
   "source": [
    "with open('recensionicritica_lappartamento.pickle', 'rb') as f:\n",
    "    r_critica_lappartamento = pickle.load(f)\n",
    "    r_critica_lappartamento=[sottolista for sottolista in r_critica_lappartamento if sottolista!=['']]\n",
    "    print(len(r_critica_lappartamento))"
   ]
  },
  {
   "cell_type": "code",
   "execution_count": 119,
   "id": "9a2cea13",
   "metadata": {},
   "outputs": [
    {
     "name": "stdout",
     "output_type": "stream",
     "text": [
      "34\n"
     ]
    }
   ],
   "source": [
    "with open('recensioncritica_a_spasso_con_daisy.pickle', 'rb') as f:\n",
    "    r_critica_a_spasso_con_daisy = pickle.load(f)\n",
    "    r_critica_a_spasso_con_daisy=[sottolista for sottolista in r_critica_a_spasso_con_daisy if sottolista!=['']]\n",
    "    print(len(r_critica_a_spasso_con_daisy))"
   ]
  },
  {
   "cell_type": "code",
   "execution_count": 120,
   "id": "ea552dcd",
   "metadata": {},
   "outputs": [
    {
     "name": "stdout",
     "output_type": "stream",
     "text": [
      "62\n"
     ]
    }
   ],
   "source": [
    "with open('recensionicritica_CODA.pickle', 'rb') as f:\n",
    "    r_critica_CODA = pickle.load(f)\n",
    "    r_critica_CODA=[sottolista for sottolista in r_critica_CODA  if sottolista!=['']]\n",
    "    print(len(r_critica_CODA))"
   ]
  },
  {
   "cell_type": "code",
   "execution_count": 121,
   "id": "cca72da4",
   "metadata": {},
   "outputs": [],
   "source": [
    "recensioni_critica_comedy=[]\n",
    "recensioni_critica_comedy=[\n",
    "    r_critica_lappartamento,\n",
    "    r_critica_a_spasso_con_daisy,\n",
    "    r_critica_CODA\n",
    "    \n",
    "    \n",
    "    \n",
    "]"
   ]
  },
  {
   "cell_type": "code",
   "execution_count": 122,
   "id": "ae65fac2",
   "metadata": {},
   "outputs": [
    {
     "data": {
      "text/plain": [
       "132"
      ]
     },
     "execution_count": 122,
     "metadata": {},
     "output_type": "execute_result"
    }
   ],
   "source": [
    " sum(len(lista) for lista in recensioni_critica_comedy)"
   ]
  },
  {
   "cell_type": "code",
   "execution_count": 123,
   "id": "21193646",
   "metadata": {},
   "outputs": [
    {
     "name": "stdout",
     "output_type": "stream",
     "text": [
      "Wilder’s all-time classic comedy of corporate and sexual manners... 0.2222222222222222\n",
      "A perfect blend of sweetness and mordancy. 1.0\n",
      "Though lighter than Arrows 2018 release on the extras front, Kinos 4K of The Apartment provides the definitive home-video presentation of one of Billy Wilders greatest films. 1.0\n",
      "This is a polished production, naughty, ironic, occasionally poignantly sad, and as sparkling as a Fourth of July fireworks display. -0.1125\n",
      "[Jack Lemmon] is a genuine actor, not in the same universe with most of his film contemporaries, who are mere behavers. This picture is not good enough for him. Still, his performance makes it worth a visit. 0.05\n",
      "Director Wilder has come up with another real winner in The Apartment... It is a film with plenty of fun and one that promises hope in a society whose moral standards seems to be rapidly deteriorating 0.16666666666666666\n",
      "Anybody complaining that modern Hollywood comedy doesn't have the old human touch, the heart once supplied by directors like Frank Capra and Gregory LaCava, ought to see this. It is one of the best films of the year. 0.325\n",
      "Billy Wilder, who gave us Some Like It Hot with Lemmon and quite a dash of wry humor, turns over his entire screenplay to master wit Lemmon in this latest one. 0.25\n",
      "It doesn't fit easily into any simple classification. For the script Wilder wrote in collaboration with I. A. L. Diamond -- and with Lemmon's talent in mind -- is an expert, winning blend of comedy and pathos. 0.33333333333333337\n",
      "Lemmon's comic versatility is well exercised before the plot takes a sudden serious turn. The transition is a little startling, until Lemmon and MacLaine warm up to the switch and produce a human, believable, and some-what message-loaded finish. 0.04114583333333334\n",
      "You can take your choice of adjectives to describe The Apartment.. Here is a partial list: Ironic, satirical, funny, sentimental, bitter and sad. -0.08333333333333333\n",
      "Disguised as a comedy [and frequently very funny] this film struck me as a biting, skillful satire and a ribald portrait of some organization men. 0.325\n",
      "The dialogue of Wilder an d I. A. L. Diamond is sharp and witty, and the characterisation amusing down to the smallest role, thanks to disciplined direction of players who are all professional to their fingertips. 0.1865740740740741\n",
      "It is a masterpiece of fun and irony about the small men who make up American big business. 0.012499999999999997\n",
      "However funny Mr Lemmon may be this really is not a funny situation. 0.0625\n",
      "Miss MacLaine, who has a metaphorical tightrope to walk, shows throughout that she is in no need of a safety net. Here again emotion finds itself expressed through comedy. 0.0\n",
      "\"Some people take, and some people get took,\" Bud says, and The Apartment never wavers in condemning the former and aligning itself with the latter. 0.0\n",
      "While the mordant ruthlessness of the asides at the expense of big business intrigues, indiscretions and Christmas parties is compromised by a final sequence of quite awful sentimentality. -0.3333333333333333\n",
      "All this is quite a load for a comedy, but where else has social comment ever been so effective? Wilder hones his points to a piercing edge... 0.31666666666666665\n",
      "Production and direction wise, Wilder sustains his usual excellence. But his story is controversial and I am not one of those who can quite see The Apartment as the great comedy-drama he evidently intended it to be. 0.41\n",
      "...despite all its cynicism, The Apartment still ends on a hopeful note... 0.0\n",
      "Wilder, a bilious and mercurial wit, here becomes a wide-screen master of time ... 0.0\n",
      "Jack Lemmon and Shirley MacLaine shine as two essentially good souls trapped in a tangle of office politics. 0.24999999999999997\n",
      "Wilder has made some truly great movies, but this one is not the masterpiece we thought it was. 0.8\n",
      "Directed by Wilder with attention to detail and emotional reticence that belie its inherent darkness and melodramatic core, it's lifted considerably by the performances. 0.05\n",
      "A comedy of men's-room humours and water-cooler politics that now and then among the belly laughs says something serious and sad about the struggle for success, about what it often does to a man, and about the horribly small world of big business. -0.15666666666666665\n",
      "Not to be missed on any account. 0.0\n",
      "Most of the time, it's up to director Wilder to sustain a two-hour-plus film on treatment alone, a feat he manages to accomplish more often than not, and sometimes the results are amazing. 0.5333333333333333\n",
      "I wouldn't call this 1960 picture one of Billy Wilder's best comedies -- it's drab, sappy, and overlong at 125 minutes. 1.0\n",
      "In the canon of classics by famed writer/director Billy Wilder, this jewel of a comedy easily stands as one of his most beloved. 0.5444444444444444\n",
      "This essential Billy Wilder film smoothly combines trenchant social observation with hilarious comedy. 0.23333333333333334\n",
      "Elevates the workplace romance into a sublime erotics of officious addresses (the omnipresent Mister and Miss) and economic conundrum. 0.2\n",
      "This comedy tells truths about American business and sexual mores as uncomfortable now as they were in 1960. 0.0\n",
      "There is a melancholy gulf over the holidays between those who have someplace to go, and those who do not. The Apartment is so affecting partly because of that buried reason. 0.0\n",
      "Wilder and IAL Diamond's brilliantly witty screenplay has a serious undertow as it savages corporate ethics and conjugal infidelity. 0.05555555555555556\n",
      "A gleeful, tender and even sentimental film. -0.25\n",
      "Driving Miss Daisy retains its coziness and its slightness, but it has been filmed eloquently. 0.0\n",
      "Mild but pleasing... The movie, passing in time from the fifties through the civil-rights period, lovingly measures the precise shadings of irritation, affection, and dependence that flow back and forth between two characters. 0.33333333333333337\n",
      "Is this supposed to represent an achievement of dignity and freedom?... What I saw was an improbable saintlike character persecuted by a cranky, bigoted tyrant who became slightly less cranky but never less condescending with time. -0.041666666666666664\n",
      "The delicate balance between the placid human drama and the convulsion of change is maintained by Uhry's script and Bruce Beresford's masterful direction. How refreshing to see a film without quick cuts and visual shock. 0.1761904761904762\n",
      "Aykroyd's performance is not one of those that makes a viewer want to rush home and be nicer to his aged mother; it's better than that. 0.2\n",
      "It is as frank an examination of a troubled American heartland as another masterful picture of late 1989, Oliver Stone's Born on the Fourth of July, but significantly sweeter, sadder, and more good-humored. 0.15357142857142855\n",
      "For all its pleasing moments of humour, the film seems to be held in the clutches of a rather questionable nostalgia. When near the end the matron confides to the chauffeur that he is the nearest thing she has to a friend, we cannot quite believe her. -0.2\n",
      "What Driving Miss Daisy is really nostalgic for is not the plump rump of a 1948 Packard, or the graciousness of Atlanta streets in the old days, but for a time when black servants died quietly while shelling peas without bothering their masters. -0.14166666666666666\n",
      "Though its intentions are impeccable, there is a feeling of “Amos ’n’ Tandy” about this two-hander that isn’t pushed upfront, but does remind you that the story only works in a society where the blacks are still content to know their place. 0.375\n",
      "Driving Miss Daisy has made the trip from stage to screen with its virtues intact. It still has the quiet courage to present human beings in all their blindness and foolishness, and persuade us to care for them anyway. 0.0\n",
      "Tandy and Freeman make the most of it, and in the process save a piece that negotiates the journey from stage to screen with some moments of uncertainty. 0.5\n",
      "The slow growth to friendship is one of the most beautiful things I've ever seen in a movie. 0.3499999999999999\n",
      "Tandy and Freeman give performances of splendid depth and restraint that are matched by Beresford's admirably light directorial touch and the sumptuous cinematography of Australian Peter James. 0.41111111111111115\n",
      "Uhry's screen play is sharp, funny, unsentimental, and the performances deserve every prize they can get... It is a film of unimpaired delight. 0.0625\n",
      "This is a chamber movie with the courage to stay small and resonant. -0.25\n",
      "Freeman is note-perfect with Hoke's dignified warmth, and Tandy, whose every moment on screen is an acting lesson, turns in what by far is the most hauntingly elegant performance of the year. 0.275\n",
      "Every one of these dramatic maelstroms manages to appear fresh because Freeman and Tandy somehow manage to come up with new approaches, meting out complementary aspects of their characters. 0.0010101010101010166\n",
      "Fine acting, subtle direction, good writing, in fact, a film for everyone to appreciate and enjoy. 0.23666666666666666\n",
      "The movie never resorts to sentimentality. It has a dry wit as well as genuine warmth. Best of all it is the perfect showcase for two deserving actors -- Jessica Tandy and Morgan Freeman. 0.5866666666666667\n",
      "One of the year's best films, a rarity in that a play has been successfully transferred to film without having the dialogue seem \"written.\" 0.875\n",
      "Jessica Tandy and Morgan Freeman give exceptional performances. 0.6666666666666666\n",
      "Freeman and Tandy have their own performer's pride, and that transfers to their characters. Tandy, in particular, is almost astringent in her denial of easy emotion. 0.39999999999999997\n",
      "This is a story about people, not politics. And perhaps because we can see the actors in closeup on the screen, that is even truer of the movie than the play. 0.0\n",
      "For Tandy, it's her most substantial film role since her sublime work in Alfred Hitchcock`s 1963 The Birds, and she takes full advantage of it; never playing for sympathy, she earns it completely. 0.31666666666666665\n",
      "Alfred Uhry's adaptation of his Pulitzer-prizewinning play aspires more to complex observation of human behavior than to simple moralism about it. Precisely because it has its priorities straight, it succeeds superbly on both levels. 0.3125\n",
      "It gets to its hugely emotional destination without ever having to put the foot down; a poignant and provocative road movie. -0.051851851851851864\n",
      "Bruce Beresford's sensitive direction complements Alfred Uhry's skillful adapation of his Pulitzer Prize-winning play. 0.1\n",
      "The movie also has something legitimate and instructive to say about the subtlety and intricacy of everyday race relations in the south during the period covered (roughly 1948 to '73). -0.15000000000000002\n",
      "Far too cosy to serve as an effective social or political metaphor; better to regard it as a solid ensemble piece. 0.20555555555555557\n",
      "There is an exhilarating, singularly theatrical lightness of touch that is often lost when these settings are made manifest in a movie. 0.35\n",
      "This is Tandy's finest two hours onscreen in a film career that goes back to 1932. 0.0\n",
      "The story holds a potential for sap that is mostly unfulfilled thanks to Beresford's stately approach, the stars' better judgment and the protagonists' sharp wits. 0.215\n",
      "The movie gets you mainly because Morgan Freeman, who played chauffeur Hoke Colburn in the original stage production (and won his third Obie for it), takes the wheel and drives Daisy all the way home. 0.18055555555555555\n",
      "Driving Miss Daisy is a film of great love and patience, telling a story that takes 25 years to unfold, exploring its characters as few films take the time to do. 0.3666666666666667\n",
      "Coda is a Mort (‘Middle Of Road Tearjerker’) and if that’s what you like, you will like this. 0.0\n",
      "The sense of calculation makes the journey feel like a lockstep march; the movie’s sense of a story that’s dictated rather than observed makes its good feelings feel bad. 5.551115123125783e-17\n",
      "No theatrics, no gimmicks - just a wonderful coming-of-age gem that aims directly at the heart and hits the bullseye. 0.55\n",
      "If there's a flaw to \"CODA\" - the title stems from the term \"child of deaf adult\" -- it may be that it wears its brimming heart on its sleeve to such an extent that it occasionally nears that fine line into formula. 0.12916666666666668\n",
      "A coming-of-age story meant to move. And while the beats of the film may be predictable, it's no less affecting. -0.05833333333333334\n",
      "Ruby is an underdog worth rooting for, and Jones is terrific. She's like a cross between the young Winona Ryder and the young Kate Winslet. The comparison flatters all three. 0.1\n",
      "You'll laugh, cry and all steps in between at this vital family entertainment with a title that stands for Children of Deaf Adults. Oscar winner Marlee Matlin and newcomer Emilia Jones turn this emotional powerhouse into one of the year's best. 0.35\n",
      "Heder, who spent time on the Massachusetts coast when growing up, knows exactly how a narrative can be enriched by the colours, moods and customs of its setting. You get to know the Rossis very well, and they're great company. 0.2875\n",
      "Each performance breathes life and nuance into what could easily have been a misfire. Instead, the result is tremendously sweet, uproariously funny and one of the best crowd-pleasers this year. 0.36666666666666664\n",
      "The film is a meticulously, perhaps even cynically crafted crowd-pleaser. Even those alive to its tactics might find themselves wiping away a tear or two. -0.25\n",
      "As effective as it is -- and it is an effective tearjerker -- it does go down the checklist of things to push your buttons on. It's almost like a really well-designed Broadway show. 0.31111111111111106\n",
      "You will cry in the best possible ways, even though you know better. It's kind of formulaic, but it's just so warm and true. 0.4357142857142858\n",
      "This is a familiar kind of story, but it sidesteps the clichés and the formula to be something quite moving... This is a \"feel good movie\" in the best sense. 0.66875\n",
      "As with so much in CODA, it's simple - but so beautifully executed. 0.35000000000000003\n",
      "The conflict is unique, but the dynamic is universal... 0.125\n",
      "Ruby is a gifted singer...a feel-good coming-of-age comedy... 0.5\n",
      "Coda is a small movie, exquisitely made. Touching, funny and stirring, it would be the kind of movie you'd urge a friend to run out and see, except they'll only need to stay home and ante up to stream it on Apple TV+. 0.35000000000000003\n",
      "The knock here isn't that it's a blatantly feel-good movie... It's that it's like watching several of those kinds of movies jockeying for space, and the pile-up turning into something that's too much yet not enough. -0.075\n",
      "There is a place for the crowd-pleaser, the tear-jerker, the movie that wants to manipulate your emotions and make you cry - particularly if it manages to bring something new to an old formula. 0.15075757575757576\n",
      "If you're in the market for a heart-warmer, look no further. 0.0\n",
      "Its brilliance lies in combining... well-tread tropes with an important sense of inclusion for a sweet story that truly sings. 0.375\n",
      "Only an utter malcontent could prove entirely resistant to Coda's charms. 0.0\n",
      "At the heart of CODA is the gradual understanding that... you can love someone without being able to understand everything they love themselves. 0.5\n",
      "Caring, boisterous, and adorned with the hugest of hearts. 0.0\n",
      "Jones is marvelous in a star-making role, lighting up the screen, her ASL an integral part of her performance, with a voice we know Berklee would be lucky to have on campus. 0.6666666666666666\n",
      "Heder's delicate but realistic writing and compassionate directing avoids cliches. -0.06666666666666667\n",
      "We might wish for a movie that centers a person who is deaf (baby steps, I guess) but \"CODA's\" depiction of Ruby as the outsider in her own family leads to plenty of rich, unexpected scenes. 0.35833333333333334\n",
      "On balance, it's worth seeing despite its weakness for picking songs for Ruby to sing that reflect exactly what she's hiding inside. 0.275\n",
      "Have some tissues handy. 0.6\n",
      "\"CODA\" is sweet, heartfelt, eye-opening and uplifting. It's a big hug of a movie, and we could all use a hug right now. 0.15892857142857142\n",
      "The actors work together seamlessly, the blue-collar coastal setting is richly realized and the family's cohesiveness solidly established. 0.15833333333333333\n",
      "There's a version of Siân Heder's film that might have been sincerely wonderful, and a real step forward for deaf representation. Alas, it's not this one at all. 0.26666666666666666\n",
      "\"CODA\" demonstrates that formulas are fine, if they're informed by true emotion and commitment. 0.3833333333333333\n",
      "Writer/director Sian Heder weaves a beautiful, nuanced and complex tale buoyed by delicate and deft performances. 0.21250000000000002\n",
      "Heder has finessed the story adroitly, putting a little more meat on the dramatic bones... -0.040277777777777767\n",
      "What is surprising is the moving, even heartbreaking, way writer-director Heder tells Ruby's story without resorting to clichéd characterizations or syrupy sentimentality. 0.7\n",
      "Pushes our buttons shamelessly, but also with enough sincerity, warmth and finesse to forestall accusations of rank manipulation. -0.4\n",
      "The climactic emotional beats are telegraphed almost from the beginning, but they still hit hard, effectively leaving viewers who can suspend their disbelief feeling uplifted and dewy-eyed. 0.10277777777777776\n",
      "Beyond its portrayal of a well-rounded deaf family, \"CODA\" may not revolutionary in its execution but it's like a memorable pop song: it has great hooks, a solid beat and it's fun to sing along to. 0.4\n",
      "Two parts raw and real, one part manipulative, Coda finds engaging characters and real emotions in a hackneyed narrative arc. 0.1423076923076923\n",
      "Sometimes a feel-good story hits the spot. \"CODA\" is one of those times. 0.0\n",
      "Writer-director Sian Heder's film is a genuinely sweet thing: The type of drama that loves its characters, and is determined to find a satisfying outcome for them. 0.425\n",
      "Grounded and sweet, delicately bawdy, and decidedly hilarious, Coda puts an effervescent and original spin on the coming-of-age comedy-drama. 0.23125\n",
      "Sweet, thoughtful, and unusual in its extensive use of sign language and its casting of deaf actors (including Oscar winner Marlee Matlin), it's the kind of film you can't help but love. 0.3416666666666666\n",
      "When writer/director Siân Heder's script explores the daily challenges and accomplishments of a deaf family, it thrives. When it ventures into broad comedy, not so much. 0.08750000000000001\n",
      "A witty, sweetly told drama about a hearing 17-year-old girl in a deaf Massachusetts fishing family. 0.425\n",
      "CODA is the kind of movie that makes you want to stand up and cheer. 0.6\n",
      "The film is at its most moving in those rare moments when it's capturing the nourishing bonding ritual among a deaf family. 0.4\n",
      "It's likeable but very familiar. 0.48750000000000004\n",
      "No surprises but strong hooks in Siân Heder's sweetly musical Sundance 2021 opener, which swept the main prizes in the fest's U.S. Dramatic Competition category. 0.04166666666666667\n",
      "A handful of sitcom-ish moments seem like small glitches in a script that works so winningly to bring the often unseen (or just terminally underexplored) world of deafness to such joyful, ordinary life. -0.08\n",
      "CODA is the kind of movie that you can imagine getting a standing ovation at Sundance, if this were a year where people were allowed to gather in a stuffy Park City auditorium. 0.6\n",
      "A sweet, openhearted coming-of-age story that succeeds in spite of its own predictability. 0.5499999999999999\n",
      "An undeniable charmer about juggling obligations to friends, family and self. When CODA hits the right notes in that balancing act, it's euphoric. 0.2857142857142857\n",
      "Too much of the film feels more informed by other movies than any real experience. 0.19374999999999998\n",
      "The plot is sometimes painfully predictable, and there are one too many musical montages, yet this improbably charismatic 18-year-old drags you over the bumps with a nuanced turn that veers from vulnerable to defeated to furiously determined. 0.06000000000000001\n",
      "Writer/director Sian Heder, with her exceptional cast, remains in full control of the tone even as the story follows every predictable beat. 0.2722222222222222\n",
      "This is Jones' film and she gives one of those young performances that feel like a pronouncement of someone who will be around for years. 0.1\n",
      "Coda is a mostly likable concoction, but one that's just too formulaic and ultimately rather calculated to secure the emotional response it so desperately wants by the big finale. 0.15714285714285717\n",
      "It may look recognizable, but Heder and her formidable cast and compelling emotion make sure it doesn't sound like anything else out there. 0.36250000000000004\n",
      "CODA is a radiant, deeply satisfying heartwarmer that more than embraces formula; it locates the pleasure and pureness in it, reminding us of the comforting, even cathartic, gratifications of a feel-good story well told. 0.5\n",
      "In its straightforward way, the film delivers an emotional knockout. It's a movie about a family, and by the end you may feel you know them as well as you know your own. 0.325\n"
     ]
    }
   ],
   "source": [
    "from textblob import TextBlob  # Importing the TextBlob library\n",
    "\n",
    "def analyze_sentiment(frasi):\n",
    "    blob = TextBlob(frasi)  # Creating a TextBlob object from the input text\n",
    "    sentiment = blob.sentiment.polarity  # Calculating the sentiment polarity of the text\n",
    "    print(frasi, sentiment)  # Print the sentiment of each sentence\n",
    "    if sentiment > 0:  # If the sentiment polarity is positive\n",
    "        return 'Positive'\n",
    "    elif sentiment < 0:  # If the sentiment polarity is negative\n",
    "        return 'Negative'\n",
    "    else:  # If the sentiment polarity is neutral\n",
    "        return 'Neutral'\n",
    "\n",
    "\n",
    "sentiments_critica_comedy = []\n",
    "for sublista in recensioni_critica_comedy:\n",
    "    for recensione in sublista:\n",
    "        frase = recensione[0]  # Accessing the review text from each sublist item\n",
    "        sentiment = analyze_sentiment(frase)\n",
    "        sentiments_critica_comedy.append(sentiment)\n",
    "\n",
    "# Printing the sentiments of\n"
   ]
  },
  {
   "cell_type": "code",
   "execution_count": 124,
   "id": "472c5827",
   "metadata": {},
   "outputs": [
    {
     "data": {
      "text/plain": [
       "132"
      ]
     },
     "execution_count": 124,
     "metadata": {},
     "output_type": "execute_result"
    }
   ],
   "source": [
    "len(sentiments_critica_comedy)"
   ]
  },
  {
   "cell_type": "code",
   "execution_count": 125,
   "id": "11dae015",
   "metadata": {},
   "outputs": [
    {
     "name": "stdout",
     "output_type": "stream",
     "text": [
      "File CSV 'sentiments_critica_comedy.csv' creato con successo.\n"
     ]
    }
   ],
   "source": [
    "import csv\n",
    "csv_filename = \"sentiments_critica_comedy.csv\"\n",
    "\n",
    "with open(csv_filename, mode='w', newline='') as file:\n",
    "    writer = csv.writer(file)\n",
    "    writer.writerow(['Sentiment'])  # Write header\n",
    "    for sentiment in sentiments_critica_comedy:\n",
    "        writer.writerow([sentiment])\n",
    "\n",
    "print(f\"File CSV '{csv_filename}' creato con successo.\")"
   ]
  },
  {
   "cell_type": "markdown",
   "id": "1b17fe6b",
   "metadata": {},
   "source": [
    "# Adventure"
   ]
  },
  {
   "cell_type": "code",
   "execution_count": 132,
   "id": "adf6f3dc",
   "metadata": {},
   "outputs": [
    {
     "name": "stdout",
     "output_type": "stream",
     "text": [
      "36\n"
     ]
    }
   ],
   "source": [
    "with open('recensionicritica_lawrencedarabia.pickle', 'rb') as f:\n",
    "    r_critica_lawrencedarabia = pickle.load(f)\n",
    "    r_critica_lawrencedarabia=[sottolista for sottolista in r_critica_lawrencedarabia  if sottolista!=['']]\n",
    "    print(len(r_critica_lawrencedarabia))"
   ]
  },
  {
   "cell_type": "code",
   "execution_count": 133,
   "id": "ad8beeba",
   "metadata": {},
   "outputs": [],
   "source": [
    "recensioni_critica_adventure=[]\n",
    "recensioni_critica_adventure=[\n",
    "    r_critica_lawrencedarabia\n",
    "    \n",
    "    \n",
    "]"
   ]
  },
  {
   "cell_type": "code",
   "execution_count": 134,
   "id": "d6074761",
   "metadata": {},
   "outputs": [
    {
     "data": {
      "text/plain": [
       "36"
      ]
     },
     "execution_count": 134,
     "metadata": {},
     "output_type": "execute_result"
    }
   ],
   "source": [
    " sum(len(lista) for lista in recensioni_critica_adventure)"
   ]
  },
  {
   "cell_type": "code",
   "execution_count": 135,
   "id": "532f9561",
   "metadata": {
    "scrolled": true
   },
   "outputs": [
    {
     "name": "stdout",
     "output_type": "stream",
     "text": [
      "From the early shots laid on the sun-hot sands there is grandeur and awe-inspiring, stark splendor, against which men fight and die, battle for their ambitions and then see their dearest ideals crushed by uncaring, mercenary politicians. -0.06666666666666667\n",
      "The script is taut and expressive and the musical score deftly attuned to the tale. Director David Lean has molded his massive material with skill, but personally I felt the film was too long, 0.22499999999999998\n",
      "A supremely engrossing film, Lawrence of Arabia makes one forget that it runs nearly three and three-quarter hours: and sends one out haunted and shaken. 0.35\n",
      "It is hard to recall any film that has put the wide screen to such impressive use. 0.15208333333333332\n",
      "One of the most magnificent pictures, if not the most magnificent, and one of the most exasperating. 0.7\n",
      "The honours, then, go to OToole, to Bolt, and to the director, Sir David Lean. The film is technically superb, and the desert photography, in Technicolor, is memorable for its beauty. My only great grief is its length. 0.29999999999999993\n",
      "In Peter O'Toole, we have an actor who can employ the flawless rhythm of a Shakespearean player as well as the argot of his day. 1.0\n",
      "The awesome majesty of the desert landscapes, with the camel brigades always sweeping the horizons, linger long after the sated viewer has cause to continue being astonished. 0.475\n",
      "The big screen has frequently proved to be only too big; here it hardly seems big enough, and the implied compliment to Mr. Lean and his camera crew is considerable. -0.011458333333333334\n",
      "Lawrence of Arabia is... big, and often beautiful. But it satisfies few of the demands of real drama. 0.21249999999999997\n",
      "No special effects are front and center here, simply the way a master creator of images pulls us into a dramatic story of great psychological complexity. 0.014682539682539705\n",
      "Lean and photographer Fred A. Young have combined their artistic talents in an evocation of the Arabian desert that makes it both terrifying and deeply moving in its lonely grandeur. -0.13333333333333333\n",
      "It has an epic hero whom it doesn't hero-worship...[O'Toole] brings flawlessly to life the film's vision of a flawed warrior who is corrupted by pride, soured by empty victories and betrayed finally by the jubilant jump of his heart every time he kills. 0.03333333333333335\n",
      "Of all miracles readily apparent on screen, perhaps the greatest is that the film even got made in the first place. 0.43333333333333335\n",
      "This is a movie with the excitement of a cavalry charge. 0.0\n",
      "Deathless, and looking as good as new. 0.41818181818181815\n",
      "You'll need to dedicate half a day to it - but this deserves to be seen again on the big screen. -0.08333333333333333\n",
      "Does it really matter that the sun that rises in the film is a 'real' sun as opposed to a CGI sun? 0.2\n",
      "It is O'Toole who continually dominates the screen, and he dominates it with professional skill, Irish charm and smashing good looks. 0.26666666666666666\n",
      "One of the cinema's grandest spectacles, Lawrence of Arabia is at turns exhilarating, devastating, and puzzling as it ponders the mystery of a man who was a mystery to himself. -0.15000000000000002\n",
      "Sweeping, epic, majestic, awesome, sumptuous, you name the grandiose superlative and you'll be right, with amazing performances and gorgeous visuals, although very, very long. 0.43678571428571433\n",
      "It was a big bold project and has turned out a big bold film. 0.16666666666666666\n",
      "[It] remains one of the most intelligent, handsome, and influential of all war epics. 0.6\n",
      "The passage of time has only proved how difficult it is to run ideas, history, characterisation and landscape in harness on this sort of scale. -0.25\n",
      "The chief fault is that the picture doesn't come close to explaining the complex and enigmatic character that was Lawrence. -0.09999999999999999\n",
      "It reduces a legendary figure to conventional movie-hero size amidst magnificent and exotic scenery but a conventional lot of action-film clichés. 0.4428571428571429\n",
      "Best appreciated on the big screen. 0.39999999999999997\n",
      "An epic achievement in filmmaking. 0.1\n",
      "A cracking good adventure yarn, as well as a disturbing psychological profile of a man destined to become a great leader but an even greater dupe. 0.2333333333333333\n",
      "It's an astonishing, unrepeatable epic. 0.3\n",
      "Grand in every sense, David Lean's film is an example of an established director full of confidence and ambition. 0.425\n",
      "We remember the quiet, empty passages, the sun rising across the desert, the intricate lines traced by the wind in the sand. -0.05\n",
      "Lawrence is too emotionally overpowering for critical reservations. 0.0\n",
      "Lawrence luxuriates in the tremendous. 0.3333333333333333\n",
      "This is that rare film whose weaknesses are not only swallowed up by its vast, disturbing ambition, but somehow become part of its strengths. -0.05\n",
      "The only thing that really dates it is the awful makeup, orangey pancake for Lawrence, a gray-green nose for Quinn and cordovan shoe polish for Guinness. -0.26666666666666666\n"
     ]
    }
   ],
   "source": [
    "from textblob import TextBlob  # Importing the TextBlob library\n",
    "\n",
    "def analyze_sentiment(frasi):\n",
    "    blob = TextBlob(frasi)  # Creating a TextBlob object from the input text\n",
    "    sentiment = blob.sentiment.polarity  # Calculating the sentiment polarity of the text\n",
    "    print(frasi, sentiment)  # Print the sentiment of each sentence\n",
    "    if sentiment > 0:  # If the sentiment polarity is positive\n",
    "        return 'Positive'\n",
    "    elif sentiment < 0:  # If the sentiment polarity is negative\n",
    "        return 'Negative'\n",
    "    else:  # If the sentiment polarity is neutral\n",
    "        return 'Neutral'\n",
    "\n",
    "\n",
    "sentiments_critica_adventure = []\n",
    "for sublista in recensioni_critica_adventure:\n",
    "    for recensione in sublista:\n",
    "        frase = recensione[0]  # Accessing the review text from each sublist item\n",
    "        sentiment = analyze_sentiment(frase)\n",
    "        sentiments_critica_adventure.append(sentiment)\n",
    "\n",
    "# Printing the sentiments of\n"
   ]
  },
  {
   "cell_type": "code",
   "execution_count": 136,
   "id": "0ab127d6",
   "metadata": {},
   "outputs": [
    {
     "data": {
      "text/plain": [
       "36"
      ]
     },
     "execution_count": 136,
     "metadata": {},
     "output_type": "execute_result"
    }
   ],
   "source": [
    "len(sentiments_critica_adventure)"
   ]
  },
  {
   "cell_type": "code",
   "execution_count": 137,
   "id": "2ca0951b",
   "metadata": {},
   "outputs": [
    {
     "name": "stdout",
     "output_type": "stream",
     "text": [
      "File CSV 'sentiments_critica_adventure.csv' creato con successo.\n"
     ]
    }
   ],
   "source": [
    "import csv\n",
    "csv_filename = \"sentiments_critica_adventure.csv\"\n",
    "\n",
    "with open(csv_filename, mode='w', newline='') as file:\n",
    "    writer = csv.writer(file)\n",
    "    writer.writerow(['Sentiment'])  # Write header\n",
    "    for sentiment in sentiments_critica_adventure:\n",
    "        writer.writerow([sentiment])\n",
    "\n",
    "print(f\"File CSV '{csv_filename}' creato con successo.\")"
   ]
  },
  {
   "cell_type": "markdown",
   "id": "2a12e2ac",
   "metadata": {},
   "source": [
    "## Biography"
   ]
  },
  {
   "cell_type": "code",
   "execution_count": 138,
   "id": "fd8a52ed",
   "metadata": {},
   "outputs": [
    {
     "name": "stdout",
     "output_type": "stream",
     "text": [
      "35\n"
     ]
    }
   ],
   "source": [
    "with open('recensionicritica_gandhi.pickle', 'rb') as f:\n",
    "    r_critica_gandhi = pickle.load(f)\n",
    "    r_critica_gandhi=[sottolista for sottolista in r_critica_gandhi  if sottolista!=['']]\n",
    "    print(len(r_critica_gandhi))"
   ]
  },
  {
   "cell_type": "code",
   "execution_count": 139,
   "id": "6654cf11",
   "metadata": {},
   "outputs": [
    {
     "name": "stdout",
     "output_type": "stream",
     "text": [
      "31\n"
     ]
    }
   ],
   "source": [
    "with open('recensionicritica_la_mia_africa.pickle', 'rb') as f:\n",
    "    r_critica_la_mia_africa = pickle.load(f)\n",
    "    r_critica_la_mia_africa=[sottolista for sottolista in r_critica_la_mia_africa  if sottolista!=['']]\n",
    "    print(len(r_critica_la_mia_africa))"
   ]
  },
  {
   "cell_type": "code",
   "execution_count": 140,
   "id": "a6d73f39",
   "metadata": {},
   "outputs": [
    {
     "name": "stdout",
     "output_type": "stream",
     "text": [
      "40\n"
     ]
    }
   ],
   "source": [
    "with open('recensionicritica_lultimo_imperatore.pickle', 'rb') as f:\n",
    "    r_critica_lultimo_imperatore = pickle.load(f)\n",
    "    r_critica_lultimo_imperatore=[sottolista for sottolista in r_critica_lultimo_imperatore  if sottolista!=['']]\n",
    "    print(len(r_critica_lultimo_imperatore))"
   ]
  },
  {
   "cell_type": "code",
   "execution_count": 141,
   "id": "8b42e88a",
   "metadata": {},
   "outputs": [
    {
     "name": "stdout",
     "output_type": "stream",
     "text": [
      "38\n"
     ]
    }
   ],
   "source": [
    "with open('recensionicritica_schindler_list.pickle', 'rb') as f:\n",
    "    r_critica_schindler_list = pickle.load(f)\n",
    "    r_critica_schindler_list=[sottolista for sottolista in r_critica_schindler_list  if sottolista!=['']]\n",
    "    print(len(r_critica_schindler_list))"
   ]
  },
  {
   "cell_type": "code",
   "execution_count": 142,
   "id": "6475f2b2",
   "metadata": {},
   "outputs": [
    {
     "name": "stdout",
     "output_type": "stream",
     "text": [
      "76\n"
     ]
    }
   ],
   "source": [
    "with open('recensionicritica_il_discorso_del_re.pickle', 'rb') as f:\n",
    "    r_critica_il_discorso_del_re= pickle.load(f)\n",
    "    r_critica_il_discorso_del_re =[sottolista for sottolista in  r_critica_il_discorso_del_re  if sottolista!=['']]\n",
    "    print(len( r_critica_il_discorso_del_re))"
   ]
  },
  {
   "cell_type": "code",
   "execution_count": 143,
   "id": "e0890cf3",
   "metadata": {},
   "outputs": [
    {
     "name": "stdout",
     "output_type": "stream",
     "text": [
      "91\n"
     ]
    }
   ],
   "source": [
    "with open('recensionicritica_12_anni_schiavo.pickle', 'rb') as f:\n",
    "    r_critica_12_anni_schiavo = pickle.load(f)\n",
    "    r_critica_12_anni_schiavo=[sottolista for sottolista in r_critica_12_anni_schiavo  if sottolista!=['']]\n",
    "    print(len(r_critica_12_anni_schiavo))"
   ]
  },
  {
   "cell_type": "code",
   "execution_count": 144,
   "id": "29f70c45",
   "metadata": {},
   "outputs": [
    {
     "name": "stdout",
     "output_type": "stream",
     "text": [
      "84\n"
     ]
    }
   ],
   "source": [
    "with open('recensionicritica_il_caso_spotlight.pickle', 'rb') as f:\n",
    "    r_critica_il_caso_spotlight = pickle.load(f)\n",
    "    r_critica_il_caso_spotlight=[sottolista for sottolista in r_critica_il_caso_spotlight  if sottolista!=['']]\n",
    "    print(len(r_critica_il_caso_spotlight))"
   ]
  },
  {
   "cell_type": "code",
   "execution_count": 145,
   "id": "5ef9094a",
   "metadata": {},
   "outputs": [
    {
     "name": "stdout",
     "output_type": "stream",
     "text": [
      "67\n"
     ]
    }
   ],
   "source": [
    "with open('recensionicritica_green_book.pickle', 'rb') as f:\n",
    "    r_critica_green_book = pickle.load(f)\n",
    "    r_critica_green_book=[sottolista for sottolista in r_critica_green_book  if sottolista!=['']]\n",
    "    print(len(r_critica_green_book))\n",
    "    "
   ]
  },
  {
   "cell_type": "code",
   "execution_count": 146,
   "id": "f658ca59",
   "metadata": {},
   "outputs": [],
   "source": [
    "recensioni_critica_biography=[]\n",
    "recensioni_critica_biography=[\n",
    "    r_critica_gandhi,\n",
    "r_critica_la_mia_africa,\n",
    "r_critica_lultimo_imperatore,\n",
    "r_critica_schindler_list, r_critica_il_discorso_del_re, r_critica_12_anni_schiavo, r_critica_il_caso_spotlight, r_critica_green_book\n",
    "\n",
    "    \n",
    "    \n",
    "    \n",
    "]"
   ]
  },
  {
   "cell_type": "code",
   "execution_count": 147,
   "id": "447795d3",
   "metadata": {},
   "outputs": [
    {
     "data": {
      "text/plain": [
       "462"
      ]
     },
     "execution_count": 147,
     "metadata": {},
     "output_type": "execute_result"
    }
   ],
   "source": [
    " sum(len(lista) for lista in recensioni_critica_biography)"
   ]
  },
  {
   "cell_type": "code",
   "execution_count": 148,
   "id": "1bee3ba4",
   "metadata": {},
   "outputs": [
    {
     "name": "stdout",
     "output_type": "stream",
     "text": [
      "You have to read about Attenborough’s deep commitment to the subject, because you couldn’t guess it from what’s on the screen. There is no trace of a point of view; the film feels as if it were directed by a committee. -0.08333333333333333\n",
      "While this is a good and worthy film rather than a great one, there is greatness in the performance of the British actor Ben Kingsley. 0.4583333333333333\n",
      "Like the man himself, Gandhi is not totally successful, but it comes closer to perfection than most. 0.0625\n",
      "Gandhi is one of the few films in recent years that deserves to be called an epic. It is a magnificent panorama of the life and achievements of Mahatma Gandhi. 0.225\n",
      "There's nothing inherently offensive in making a plushly expensive epic about Gandhi, but aesthetically, the idea seems inappropriate: there's too much money on the screen, and not enough Mahatma. -0.05\n",
      "The movie finally lacks the essential spark of artistry that illuminates the greatest of these epic biographies, Lawrence of Arabia. But in a naughty world, it is a good work nonetheless. 0.27499999999999997\n",
      "Gandhi is a triumph, a great achievement, and a masterful look at history that manages to avoid becoming anything as trite as an epic. 0.5875\n",
      "The truly epic film is with us once again in Gandhi, and with it comes an absolutely towering performance by British stage actor Ben Kingsley who makes a stunning film debut in the title role. 0.2\n",
      "When every hole has been picked in it, and every disadvantage detailed, the film remains not only a very honorable tribute to one of our beleaguered century's greatest figures, but watchable, moving and certainly Attenborough's best [film]. 0.469047619047619\n",
      "Thanks to a remarkable actor, a judicious viewpoint, a driving narrative, a populous but distinct cast of simplified, but not simplistic characters, Gandhi is a film worth the wait and the running time. 0.36\n",
      "The subject itself is so compelling, the telling of it in this straightforward, earnest, intelligent manner is so absorbing that, although it feels odd not to leave the theater torn apart by the story, there is a certain peace in that, too. 0.22227891156462581\n",
      "[Richard Attenborough's] three-hour portrait of Gandhi is only intermittently successful. It works best when it shows us the human side of Gandhi... Too often, though, the events themselves dictate the progress of the film. 0.4375\n",
      "Gandhi is not a dazzling swashbuckler biography like Lawrence of Arabia. It is, however, an outstanding example of traditional excellence in film crafting and performance. It respects the viewer and its subject. -0.010416666666666664\n",
      "The 38-year-old Anglo-Indian stage actor Ben Kingsley pulls off one of the most astounding impersonations in movie history. In its physical power, its essential, transfiguring gaiety, Kingsley's performance rivals Olivier's as Henry V. 0.275\n",
      "Gandhi is a popular movie in the best sense. It deals with a subject of great importance and it does this with a mixture of high intelligence and immediate emotional impact. 0.3988888888888889\n",
      "While Attenborough's primary aim is veneration, he also manages a bit of incidental illumination. This bit is something less than the great subject deserves, but the film is clearly a cut above the usual run of movie \"bios.\" 0.10238095238095239\n",
      "The triumph of Attenborough's film is that it has made Gandhi human and accessible without taking advantage of those events in his personal life that present the opportunity for more facile drama. 0.175\n",
      "A very major motion picture, one that will both entertain and educate in the finest tradition of cinematic art and that pays tribute to a man most deserving. 0.2953125\n",
      "Gandhi amounts to a vastly imagined and ambitious monument to a great man, an epic deeply felt and lovingly detailed, a straightforward biography film that spreads itself like a wreath of admiration over the history of India's Mahatma, the \"Great Soul.\" 0.34062500000000007\n",
      "In playing Gandhi, an actor must be less concerned with physical verisimilitude than with spiritual presence, and here Kingsley is nothing short of astonishing. 0.06666666666666668\n",
      "It is a major contribution to a year of thrilling success for British films. Much more important, it is an artist's personal tribute, deeply felt and simply expressed, to the spiritual worth of another human being. 0.15104166666666669\n",
      "The film is triumphantly not a deification, but it is necessarily a simplification, and suffers from some of those disadvantages... But the embattled spirit of respect for human dignity and the need for mutual tolerance flow clearly through the film. -0.12499999999999999\n",
      "Although Gandhi may lack the depth of a more academic approach, it is an old-fashioned, inspirational ode to a man who dared to challenge military power with self-restraint and political cunning. 0.15\n",
      "Grievously doting and squeamishly evasive. -0.8\n",
      "They simply do not build movies like this any more, which is a pity. 0.13333333333333333\n",
      "Once in a long while a motion picture so eloquently expressive and technically exquisite comes along that one is tempted to hail it as being near perfect. 0.5700000000000001\n",
      "Gandhi is less personal than Reds, but also less complacent than Chariots of Fire and less doddering than Lean's own orderly post-colonial apologia, A Passage to India. 0.019999999999999997\n",
      "Strip away the scope and spectacle and what Gandhi boils down to -- dramatically at least -- is a good, old-fashioned man-against-the-system movie. 0.08148148148148145\n",
      "Attenborough's work lacks even the undercurrent of personality that David Lean brought to his films: the film has no flavor but that of the standard Hollywood hagiography. 0.0\n",
      "Its faults rather pale beside the epic nature of its theme, and Kingsley's performance in the central role is outstanding. 0.0975\n",
      "A remarkable experience. 0.75\n",
      "Overshadowing even Ben Kingsley's astonishing, transcendent performance in his first major screen role is a larger, more formidable presence: that of Gandhi himself. 0.2625\n",
      "[Of] importance is the possibility that the film will bring Gandhi to the attention of a lot of people around the world for the first time, not as a saint but as a self-searching, sometimes fallible human being with a sense of humor as well as of history. 0.125\n",
      "Worthy, handsomely mounted, but highly conventional and ultimately dull. 0.09970238095238095\n",
      "An epic biopic, over three hours in length, Gandhi captures the spirit of the man and his struggles. 0.1\n",
      "Once again, Streep adds a third dimension to a two-dimensional medium; once again she brings humanity and intelligence to a remarkable portrait that must be added to what has become a gallery of such portraits. 0.1625\n",
      "Sydney Pollack's glorious and stirring Out of Africa is a big-screen epic in the very best sense. 0.55\n",
      "The beauty of Out of Africa, From the very opening shots, is rhapsodic and illustrative rather than dramatic. This large-scale adaptation of Isak Dinesen's marvelous memoir never catches fire. 0.2555555555555556\n",
      "The movie could probably be shorter, but I didn't wish it so. 0.0\n",
      "There comes a time in movie addicts' lives when their souls cry out for the kind of film that can fill the screen with magnificent vistas, grand passions and charismatic actors. That's why the arrival of Out of Africa is cause for cheering. 0.65\n",
      "The most-remembered moments of Out of Africa are the travelogue sequences, which is not what the book or the author are all about. 0.0\n",
      "The genuine worth of Out of Africa will rest on whether it inspires viewers to seek out the books of Isak Dinesen. The film's fidelity to these haunting and intensely personal writings is at once its great strength -- and its weakness. 0.375\n",
      "The book and its characters are simply not translatable to the screen, and what we get is a sufferable alternative. 0.0\n",
      "Director Sydney Pollack and Redford screenwriter Kurt Luedtke... have made an intelligent, beautiful, thoughtful film with enormous respect for its audiences. Luedtke's screenplay his second film is so assured he even dares to use silence. 0.41\n",
      "The result of Pollack's approach Is a distancing between the viewer and the movie. This is not the kind of film that reaches out and envelops you; it's an impersonal movie, the kind you step back from and observe. 0.39999999999999997\n",
      "Out of Africa may remind you of inheriting a wonderful piece of Victorian bric-a-brac from a beloved but long-lost great aunt. It's absolutely beautiful, special and odd... but what on earth to do with it -- or, in this case, to think about it? 0.5900793650793651\n",
      "What's missing in.this respectful and often quite moving epic is a sense of Dinesen the storyteller. 0.13333333333333333\n",
      "This may be the silliest serious movie since Reds. When you finally get the heck out of Africa, it's not a second too soon. -0.1111111111111111\n",
      "The relationship between Blixen and her lover Denys Finch Hatton is an idyllic series of outings among the gazelles -- picnics with poetry, beach parties, club dances and overnight hunts. It's an adoring, boring relationship. -0.4\n",
      "Redford is romantic, mysterious, uncageable; and he potently complements Meryl Streep's Blixen. 0.16666666666666666\n",
      "We (the audience) wish at several paints during 2 1/2 hours of watching Blixen' s book vaporise into Love Story Goes To Kenya to be free of the movie. How it does go on. 0.3\n",
      "The scale of its protagonist's obsessiveness is what gives Out of Africa its splendor. 0.0\n",
      "Meryl Streep is back in top form. This means that her performance in Out of Africa is at the highest level of acting in film today. Since she is Streep, it means that a return to form is not a return: she has realized a character utterly different. 0.125\n",
      "The relationship between Karen Blixen and her British lover, Denys Finch Hatton, may fail to catch fire. But the production itself is so exquisitely served that you can't help but be grateful for this extraordinary visual treat. 0.16666666666666666\n",
      "Luedtke and Pollack bought these high-priced literary sources only to chuck them for a conventional, largely fictionalized movie romance. 0.04285714285714286\n",
      "The relationship of Karen and Denys is a prickly and, despite the era in which it is set, curiously modern one. It's also at the heart of this understated movie. 0.2\n",
      "Streep may convince us utterly that she is in love with Africa, but our views of it are a little too stately to really feel the place. 0.128125\n",
      "My basic problem with this otherwise sumptuous and well-acted film is that I never was able to accept Redford in character. 0.25\n",
      "Out of Africa is, at last, the free-spirited, fullhearted gesture that everyone has been waiting for the movies to make all decade long. It reclaims the emotional territory that is rightfully theirs. -0.016666666666666666\n",
      "It's got plenty of glorious vistas, and the screenplays dutifully takes Blixen's memoirs at their word, but this is more Thorn Birds than Lawrence Of Arabia. 0.5\n",
      "Maybe the problem of the pacing is simply the nature of the beast these days with expensive period pieces. Once the difficult details are all in place, it may be too much to expect a director to resist milking every scene for more than it's worth. -9.25185853854297e-18\n",
      "Sydney Pollack applies craftsmanship and restraint to a classic plot curve of longing, fulfillment, and loss, and although the denouement is a bit overextended, he never yields to facile, insistent sentimentality -- his effects are honestly won. 0.3833333333333333\n",
      "For all that it may come out of Africa, the film's final destination is not many miles from Disneyland. -0.125\n",
      "A sumptuous romantic drama, Out of Africa spans continents and partners in while relating the tale of how Karen Blixen grew to become the world-famous author. 0.0\n",
      "With the exception of Miss Streep's performance, the pleasures of Out of Africa are all peripheral -- David Watkin's photography, the landscapes, the shots of animal life -all of which would fit neatly into a National Geographic layout. 0.4\n",
      "Out of Africa is a great movie to look at, breathtakingly filmed on location. It is a movie with the courage to be about complex, sweeping emotions, and to use the star power of its actors without apology. 0.5\n",
      "Bertolucci makes pretty pictorial music, but two hours and forty-six minutes is a long time for a movie to dance. Maybe it wouldn't be if his sense of rhythm hadn't become erratic. 0.1\n",
      "Yet there’s also a great sadness in the film, as it tracks Puyi, the emperor of the title (played by four actors at different ages), through a state of permanent lifelong imprisonment, from gilded cage to Red Army capture. 0.17500000000000002\n",
      "When this film really sings, it's as if Bertolucci had tapped the wellspring of cinema and, ecstatic, discovered the eroticism at its essence. 0.2\n",
      "The end of this near-masterpiece leaves one uneasy. It's hard to accept that Bertolucci, with his exhilarated sense of beauty, his love of pleasure, could accept the graying of China for any reason. 0.10416666666666666\n",
      "A fabulous facsimile of a movie, a frosting without a cake. 0.4\n",
      "If at times The Last Emperor is closer to DeMille than Dostoevsky, and its parts greater than the whole, when was the last time a pageant offered such splendors? 0.13999999999999999\n",
      "The result is a tendency to inertness that might not have mattered in a film of smaller scale... Yet the film gets by on the oddity of its story, the quality of the acting, and its good looks. 0.2333333333333333\n",
      "Bertolucci's camera magnificently captures the scene. His script, written with Mark Peploe, is less successful. 0.5277777777777778\n",
      "The movie, however, belongs to John Lone. Like all great actors, he's a chameleon, and his occasional nobility as the Emperor is brilliantly, comically, contrasted with his Westernization as a playboy. 0.43333333333333335\n",
      "Like Shakespeare's Richard II, Bernardo Bertolucci's lush epic The Last Emperor is, in a sense, a meditation on monarchy as a sumptuous swan song. 0.06666666666666667\n",
      "If this movie were the quotations of someone's Little Red Book, it wouldn't be the least bit important. As the continuing story of a great director's thoughts about the revolutionary possibilities of Marxism and Freudian-ism, it's very important. 0.2054166666666667\n",
      "Having won a most enviable concession, acclaimed director Bernardo Bertolucci meets the opportunity with all the dramatic force and ponderous historical baggage that are integral to epic cinema. 0.04166666666666668\n",
      "The Last Emperor is a film in search of a centre that never quite finds one. But it is so ravishingly beautiful to look at that its 162 minutes pass with few real Iongueurs. 0.21249999999999997\n",
      "The Last Emperor has maybe too much to tell. The synoptic necessity is forever crippling the epic aspiration. But however you tell it, it’s still a unique and unsettling story. 0.03500000000000001\n",
      "Beneath this stunning optical illusion, there's a personal story about a man forced to forge a new identity when the only world he knows turns out to be a mirage. 0.06727272727272726\n",
      "The Last Emperor is one of the best films of 1987 -- an awesome spectacle, a work of art, and a turbulent historical drama. 0.5\n",
      "With Vittorio Storaro, his longtime cinematographer, production designer Ferdinando Scarfiotti and editor Gabriella Cristiani deserving of major credit, Bertolucci has created a spectacular tapestry that fills both eye and ear. 0.42083333333333334\n",
      "The spectacle is marvelous, but it isn't really enough to sustain it for nearly three hours. For a haul like that, you need an interior, as well as an exterior, and The Last Emperor doesn't have enough inner life. 0.18333333333333335\n",
      "Bernardo Bertolucci's The Last Emperor is like a lavishly prepared six-course meal during which the host keeps telling us we would all be happier and healthier with a place of cold porridge. -0.3\n",
      "Not for the first time in Bertolucci's work, the parts do not quite build into a whole, even when that whole is built on shifting perspectives. But they are magnificent. 0.4125\n",
      "The most startling achievement of The Last Emperor is that it accomplishes what seems to have eluded Bertolucci for some time. He has found the small in the large and, in many ways, he has created what many thought impossible -- an intimate epic. 0.05976190476190477\n",
      "As pure spectacle, \"The Last Emperor\" is a spellbinding peek behind the gate of a lost world. -0.061904761904761914\n",
      "It is a hesitant, conservative approach that yields great elegance and a rhythm that carries the viewer along. Yet the film is haunted by a sense of opportunities not taken, of an artist deliberately reining in his artistry. 0.8\n",
      "If there is such a thing as voluptuous detachment, Bertolucci and John Lone have found it. Lone's achievement in his absorbing account of Pu Yi is to place him at a distance and yet make his plight totally involving. 0.06666666666666667\n",
      "At last a real, thought-provoking, eyeball-popping movie epic. 0.23333333333333336\n",
      "There's probably a truly great movie in the story of Pu Yi, but The Last Emperor is not that movie. Still, what director Bernardo Bertolucci (Last Tango in Paris) has accomplished here is both ambitious and impressive. 0.375\n",
      "As coolly lavish an epic as we may ever see. 0.22499999999999998\n",
      "The expanse of time is saturated with an expanse of visual beauty that feels absolutely right for the story. 0.14285714285714285\n",
      "It works astonishingly well. 0.5\n",
      "The Last Emperor is most decisively a lesson of nobility. 0.25\n",
      "Constantly absorbing and tremendously interesting. 0.35\n",
      "John Lone is superb as the sad mediocrity; and if spectacle finally triumphs over sympathy, it is not without a decent struggle. 0.09333333333333334\n",
      "It's a tribute to the film's intelligence and its feeling for dialectics that it views both the Forbidden City and the detention center as prisons, and that when Pu Yi winds up as a gardener there's a sense of gain as well as loss. -0.1\n",
      "The small screen doesn't quite do justice to the rich visuals but with an incredible story and fine performances, it is still a compulsive and moving epic. 0.30833333333333335\n",
      "There's no doubting its spectacular richness and heartfelt, deeply satisfying storytelling. 0.3666666666666667\n",
      "The Last Emperor is like an elegant travel brochure. It piques the curiosity. One wants to go. Ultimately it's a let-down. 0.175\n",
      "Stunning opulence dazzles the eye. 0.5\n",
      "Everything involving the life of Pu Yi was a waste. Everything except one thing: the notion that a single human life could have infinite value. -0.09047619047619049\n",
      "We need more than elegant parallels and lavish production values. We need tension, characterization, drama. 0.5\n",
      "A remarkable achievement. 0.75\n",
      "Spielberg employs all the emotive Hollywood tools at his disposal and the result is a remarkable film with wide appeal and real importance. Neeson is phenomenal, but matched by towering performances from Ben Kingsley and Ralph Fiennes. 0.3375\n",
      "Using every ounce of his awe some technical skill, the man who sent T. rex and Indiana Jones racing through our imagination brings us a story of human horror beyond imagination. 0.0\n",
      "Once in a very great while, a movie insinuates itself so deeply into your consciousness that it offers not vicarious experience but instead, direct experience. Steven Spielberg's heartfelt, monumental Schindler's List is such a movie. 0.20000000000000004\n",
      "There are enough \"Spielbergian\" set pieces and incidental touches to keep Schindler accessible to those who believe that the best Spielberg is the perky Spielberg of the E.T. and Indiana Jones romps. 0.4583333333333333\n",
      "Liam Neeson is a splendid Schindler, tall, handsome, devil-may-care and a poker-playing genius. Ben Kingsley, as Itzhak Stern, Schindler's accountant and chief aide, is as brilliant as ever, and Ralph Fiennes is evil and powerful as Amon Goeth. 0.3066666666666667\n",
      "A near-documentary, brilliantly designed and choreographed, [and] a character study in which Ralph Fiennes, the winningly urbane Liam Neeson, and the magnificently impassive Ben Kingsley attain a memorable dramatic intensity. 0.21333333333333332\n",
      "Schindler's List is a great movie that serves a greater purpose. This epic story of one man's conscience reminds the world that an individual's rise to heroism in the face of mass insanity can make a difference. 0.35000000000000003\n",
      "Steven Zaillian's ingeniously structured script presents the unpalatable in a way it can be digested -- by hooking it into a powerful, almost mythical story about a man who becomes a hero almost in spite of himself. 0.4\n",
      "Neeson creates a mixture of saint and sinner, dandy and buccaneer, a thick-skinned rascal capable of great tenderness. 0.5\n",
      "Once the horrors begin, the play-off between equivocal hero and unequivocal history becomes hypnotic. 0.0\n",
      "Schindler's List should silence the naysayers once and for all. This sobering black-and-white pseudo-documentary breaks the Spielberg mold by putting substance ahead of style. 0.0\n",
      "The film's epic sweep and grasp of detail are exemplary, while some scenes could make even a lump of granite weep. This is Spielberg's most grown-up film. 0.3\n",
      "It's a stunning achievement, a film that re-creates the Holocaust not as something abstract, but as felt knowledge. 0.5\n",
      "It was (and remains) irreducibly [Spielberg's] masterpiece. 0.0\n",
      "With seemingly effortless grace and skill, Schindler's List balances fear and exaltation, humor and horror, love and death. It evokes, superbly, a time of savagery and grief, and the inexplicable, stunning compassion that rises within and against it. 0.12\n",
      "Spielberg ultimately remains Spielberg, finding his enduring themes within Thomas Keneally's novel and giving them the full Spielberg treatment. 0.175\n",
      "For this film Spielberg has done the best directing of his career. Much of his previous work has been clever and some of it better than that, but Schindler's List is masterly. 0.33999999999999997\n",
      "More than any previous non-documentary Holocaust movie, this one convinces through the accumulation of such detail. 0.11111111111111112\n",
      "Schindler's List is filmed in black and white, but the triumph of Neeson's portrait and Steven Zaillian's screenplay is that Oskar Schindler remains gray and enigmatic. -0.022222222222222216\n",
      "What the visual immediacy of Schindler's List does is to prod each of us to fill in the gaps of emotion for ourselves. To put this another way, the more you are able to invest in this superb, demanding film, the more you are likely to get back. 0.35714285714285715\n",
      "Authentic intensity, emotionalism and botch: the first two marry unexpectedly well, and the third element is by far the smallest, but it is there, and it means that the film is less than the touted breakthrough for the cinema. 0.13055555555555556\n",
      "Few American movies since the silent era have had anything approaching this picture's narrative boldness, visual audacity, and emotional directness. -0.03333333333333333\n",
      "Ultimately, the film is memorable as much for simple testimony as for the cinematic art it displays. 0.13999999999999999\n",
      "What Spielberg has done in this Holocaust story is simply and forcefully place us there. 0.0\n",
      "Schindler's List is a film whose meanings are to be found less in its uplifting outline than in its harrowing flow of images -- images of fear, hope, horror, compassion, degradation, chaos, and death. -0.16666666666666666\n",
      "In a film that is mostly black and white, small touches of color -- a candle flame; a child's coat, bright red -- bring the enormity of the tragedy into excruciating focus. 0.056666666666666685\n",
      "This is the film to win over Spielberg skeptics. 0.8\n",
      "This is a beautifully crafted, hopeful movie. 0.85\n",
      "Not only is the subject matter different for Spielberg, the way it is treated is a departure both for him and for the business as usual standards of major studio releases. -0.07083333333333333\n",
      "The [film succeeds] at conveying some of the enormity of the Holocaust, as well as some of its banal details, in a fully accessible manner, at a time when much of our collective memory and understanding of it is rapidly slipping away. 0.175\n",
      "It's a noble achievement, and essential viewing. 0.3\n",
      "Rising brilliantly to the challenge of this material and displaying an electrifying creative intelligence, Mr. Spielberg has made sure that neither he nor the Holocaust will ever be thought of in the same way again. 0.475\n",
      "For a movie -- or more accurately, a Hollywood-approved art movie -- this often-stunning work puts the Holocaust into bracing perspective. 0.45000000000000007\n",
      "Schindler's List, despite blatant compromises, is a rending historical document. -0.25\n",
      "The documentary style allows Spielberg to deliver his message without preaching. The clever use of light and shade also makes it visually stunning. 0.26666666666666666\n",
      "Spielberg marshals all his formidable storytelling talents and puts them at the service of an epic human drama. 0.05\n",
      "What is most amazing about this film is how completely Spielberg serves his story. The movie is brilliantly acted, written, directed and seen. 0.525\n",
      "Schindler's List is a ruthlessly unsentimental portrait of a German war profiteer's epiphany that inspires neither sorrow nor pity, but a kind of emotional numbness. -0.10000000000000002\n",
      "Firth strikes a perfect balance between his abrasive traits and the vulnerability that coaxes our empathy. 1.0\n",
      "Travel without prejudice and you will enjoy a moving, impeccably acted and surprisingly funny slice of comfort food. There are worse ways of starting an unpromising looking year. 0.19999999999999998\n",
      "It's an uplifting audience pleaser that also showcases film-making arts and crafts at an exalted level. 0.0\n",
      "The King's Speech is a joy, and I adore it. 0.8\n",
      "The film is richly rooted, with splendid trappings, including pea-soup fogs. For all the pomp and protocol, it's an intimate story about a scared man who must find his voice if he is to rise, in regal stature, above his epaulets. 0.35208333333333336\n",
      "Hooper...has become something of a specialist in exhuming British history from the mothballs of Masterpiece Theatre. 0.0\n",
      "A polite, occasionally rousing, and more often than not, boring affair. 0.3333333333333333\n",
      "A charming, personal period drama. 0.35\n",
      "A powerful back story does not necessarily improve a movie, but The King's Speech has a pretty irresistible one. It might even end with a dramatic night at the Oscars in February. 0.023333333333333352\n",
      "Classic, rousing entertainment loaded with both humor and poignancy. 0.16666666666666666\n",
      "The King's Speech is the rare work of art that's also an immense crowdpleaser. 0.15\n",
      "Too ingratiating to resonate deeply. 0.0\n",
      "The King's Speech is admirably free of easy answers and simple, happy endings; it's a skewed, awards-ready version of history, but one polished to a fine, satisfying shine. 0.425\n",
      "A feel-good movie with a hearty dose of history and a hint of edge, a most-deserving Oscar winner 0.0\n",
      "The King's Speech is simultaneously cozy and majestic. -0.19999999999999998\n",
      "The King's Speech is the epitome of prestige cinema, an impeccably crafted and emotionally compelling drama that deserves the many laurels it surely will receive. 0.5125\n",
      "It's the sort of thing we do awf'ly well. 0.0\n",
      "Although he plays up the odd-couple comedy, Hooper knows how to bring out the anguish behind the humour. -0.4\n",
      "The true-life story of a king's efforts to overcome his stammer in order to face his public, constructed like a contemporary makeover narrative. 0.08333333333333333\n",
      "Not just one of the most entertaining British films in years, but one of the most intriguing, too. 0.36\n",
      "By the film's end I was in tears: a pathetic critic-thing whimpering in the half-dark, knocked into resistlessness by the power of storytelling. -1.0\n",
      "Colin Firth's made an amazing film by being a stuttering, upper-class English gent? Hugh Grant must be bloody kicking himself. -0.06666666666666665\n",
      "Think the blazing joys of Chariots Of Fire where the race is to the end of a sentence. Can it be that the British are coming? 0.0\n",
      "The combination of spectacular performances and masterful direction turns this true story into an all-consuming emotional experience. 0.48750000000000004\n",
      "The film everybody's talking about is, quite fittingly, a film about talking. And a great one, certainly as far as A-grade performance showcases go. 0.46666666666666673\n",
      "he King's Speech brings a country's amorphous fear of war and a sudden king's dread of his hesitant supremacy into perfect, uncommon focus. 0.6\n",
      "It is an intelligent, winning drama fit for a king -- and the rest of us. And this year, there were far too few of those coming from Hollywood. 0.32000000000000006\n",
      "OK, sure, \"The King's Speech\" obviously is feel-good Oscar bait, but who cares? It's also a terrific movie with two fantastic performances at its heart. 0.27999999999999997\n",
      "\"The King's Speech\" is old-fashioned filmmaking at its best: a good story, elegantly told, and a joy to watch. 0.75\n",
      "The true story of a man who had to literally and metaphorically find his voice, with in a very real sense the fate of the world depending on it. 0.20333333333333334\n",
      "It's hard to imagine a much better film being made from this material. 0.10416666666666666\n",
      "The King's Speech is a warm, wise film -- the best period movie of the year and one of the year's best movies, period. 0.825\n",
      "Firth catches all this in a performance that runs from anguish to a deadpan acceptance of the absurdities that are part of his predicament. -0.55\n",
      "Let's say it without equivocation: Colin Firth deserves an Oscar for his lead role in The King's Speech as the stammering King George VI. 0.0\n",
      "By now we almost take Firth's brilliance for granted. Almost. He's magnificent here, as are Geoffrey Rush and Helena Bonham Carter. 1.0\n",
      "The King's Speech is a good film that's been inflated by some viewers to great even if it doesn't quite deserve the throne. 0.75\n",
      "Go! Enjoy! 0.5\n",
      "Although everything can go wrong with a film before it gets to the casting stage, and often does, a couple of marvelous performances can elevate solid, well-carpentered material and make it something special. 0.2142857142857143\n",
      "No holiday season would be complete without a starchy British historical drama, and the Weinstein Company obliges us this year with this pleasant story the Duke of York, who had to overcome a serious stammer. 0.09999999999999999\n",
      "With its rich source material shaped from real-life events, The King's Speech doesn't need to overplay its hand -- especially not with a king waiting in the hole. 0.1875\n",
      "As the speechmaker and his speech teacher, Colin Firth and Geoffrey Rush elevate each other's game to the stratosphere and beyond. -0.2625\n",
      "Complacent middlebrow tosh engineered for maximum awards bling and catering to a nostalgia for the royalty we've never actually had to live with. 0.06818181818181818\n",
      "If the British monarchy is good for nothing else, it's superb at producing the subjects of films. 0.5666666666666667\n",
      "This is a real actor's piece and Geoffrey Rush, who was one of the executive producers, and Colin Firth are really superb in these roles; Helena Bonham Carter too. 0.6\n",
      "The King's Speech is a lively burst of populist rhetoric, superbly performed and guaranteed to please even discriminating crowds. 0.5681818181818181\n",
      "It's the odds-on favourite to win Best Picture at the next Academy Awards in February, and deservedly so. 0.6\n",
      "Firth makes us feel his alienation, his self-loathing and his sense of privilege. He gives the film its full-bodied voice, one that's perfect in tone, perfect in pitch. 0.6333333333333333\n",
      "For a dialogue heavy picture this one is exhilarating, and without even realizing it I discovered when it was finished I'd gently moved all the way forward in my seat to the point I was leaning on the one directly in front of me. 0.19999999999999998\n",
      "Among many other good things, The King's Speech, directed by Tom Hooper and written by David Seidler, is a meditation on a transitional time when royalty was expected to speak to the nation and not just pose commandingly before it. 0.24375\n",
      "Both actors completely inhabit their absorbing roles, relishing the opportunity their exchanges provide and adding unlooked-for layers to a complicated human relationship. -0.04999999999999999\n",
      "A film like this arrives on the scene and restores my faith, not only in movies but in humankind itself. 0.0\n",
      "One of the many remarkable things about The King's Speech is how this subtle film's central relationship speaks to the divisions between people. 0.22916666666666669\n",
      "Director Tom Hooper...could here be said to cross up underdog-biopic expectations in what amounts to a high-toned, elegantly upholstered buddy flick. 0.25\n",
      "The King's Speech is that rare classy period piece that isn't like eating spinach; it's a treat from beginning to end. 0.2\n",
      "We're prone to thinking it's an insult to compare a film to an HBO movie. It isn't. 'King's Speech' is clever & well-acted, but occasionally left me yearning for more depth. 0.2222222222222222\n",
      "The King's Speech has been crafted to serve as an actors' showcase first and foremost and Firth and Rush don't disappoint. 0.25\n",
      "A direct and heartfelt piece of work. 0.05\n",
      "The King's Speech -- a crowning achievement powered by a dream cast -- digs vibrant human drama out of the dry dust of history. 0.03333333333333333\n",
      "It's a warm, richly funny and highly enjoyable human story that takes an intriguing sideways glance at a crucial period in 20th-century history. 0.275\n",
      "Honestly, the thought of George VI flubbing his big moment pales in the larger picture. Via some closing text, we learn that he inspired the nation to strength. But politics is about more than being in fine voice. 0.30333333333333334\n",
      "A picnic for Anglophiles, not to mention a prospective Oscar bonanza for the brothers Weinstein, The King's Speech is a well-wrought, enjoyably amusing inspirational drama that successfully humanizes, even as it pokes fun at, the House of Windsor. 0.5375\n",
      "... as a genteel middlebrow entertainment, [this] is largely very well-played indeed, and thus deserves to do well. 0.2\n",
      "The King's Speech has left me speechless. 0.0\n",
      "If you can get past the nagging sensation that what you're watching is a cynical calculation to appeal to the Academy, well, you'll be delighted, because the The King's Speech is undeniably charming. 0.13749999999999998\n",
      "There is a kernel to this movie which feels harder and more stubborn than the pleasing, period fluff that enfolds it. 0.10000000000000002\n",
      "The sense of period is strong and made especially real in scenes in which royalty find themselves incongruously in small, distinctly non-palatial homes. 0.22083333333333333\n",
      "A year after his acclaimed performance in Tom Ford's A Single Man, Colin Firth delivers the finest of his career - as a stammering George VI. -0.07142857142857142\n",
      "Tom Hooper turns history into formula. Can poor Bertie gather the nerves to address his people when duty calls? Take a wild guess. -0.15000000000000002\n",
      "It's a prizewinning combination, terribly English and totally Hollywood, and Firth is, once more, uncanny: He evokes, in mid-stammer, existential dread. 0.16666666666666666\n",
      "The King's Speech remains a decorous bit of middlebrow mush. 0.0\n",
      "Tom Hooper's richly enjoyable and handsomely produced movie about George VI's struggle to cure his stammer is a massively confident crowd-pleaser. 0.5\n",
      "Colin Firth excels as England's shy, repressed, stammering monarch, George VI (aka \"Bertie\"), in a performance that's deftly matched, syllable for syllable, by Geoffrey Rush. 0.04999999999999999\n",
      "The King's Speech adheres to every rule in the Oscar playbook. 0.0\n",
      "The King's Speech is one of the most pleasurable movies to come along in years. 0.5\n",
      "A riveting, intimate account at how a British king triumphed over a speech impediment with the help of an unorthodox speech coach. 0.2333333333333333\n",
      "A stirring, handsomely mounted tale of unlikely friendship starring Colin Firth and Geoffrey Rush. 0.0\n",
      "Director McQueen, drawing on the visual aesthetic of his previous works Shame and Hunger, never shies away from frames that capture the ways that beauty exists in the most painful situations. -0.09166666666666665\n",
      "12 Years a Slave is, like The Trial, a trapdoor over the abyss. Although less abrupt than Kafka's novel, the movie wastes little time before plunging its viewer into a nightmare of dehumanization. -0.16979166666666667\n",
      "Ambitious, honest and horrifying all at once, 12 Years a Slave may not be the easiest film to watch more than once, but it will stay with you forever once you see it. 0.11249999999999999\n",
      "Add the visionary direction by Steve McQueen, the British Turner Prize-winning artist turned film-maker (Hunger, Shame) and you have an out-and-out stunner. 0.0\n",
      "A significant, necessary piece of work, one that stays with you long after you rise out of your theater seat. 0.10833333333333334\n",
      "Movies can do a great many things - they can make us laugh, or incite our heroism, or frighten us, or make us cry. '12 Years a Slave' makes us feel, deeply and urgently. 0.4\n",
      "It speaks to the courage and resilience of one man, the savagery of many, and the potential, for both good and for ill, in us all. 0.175\n",
      "McQueen depicts the horrific experiences of Solomon Northup, the free man kidnapped and sold into slavery, in utterly unflinching fashion. The film's strength lies in its frankness and avoidance of either sentimentality or Quentin Tarantino-style irony. -0.19999999999999998\n",
      "In its own saintly manner, it's as exploitative as anything critics accused Django Unchained of being, minus Tarantino's eye for idiosyncrasy and sense of humor. 0.06666666666666667\n",
      "The film tells an irresistibly powerful story, in a way that does not shirk the horror. It is unbearable to watch at times, but that is as it should be. 0.3\n",
      "You will recoil. You will flinch. You will say to yourself, 'Oh no, not again.' But the story will seize you with such a visceral power you will be rooted to the spot. I know I was and I'm not easy to root. -0.10833333333333334\n",
      "A film that, despite its surface simplicity, proves to be riven with contradictions to the point of incoherence. 0.3\n",
      "Ejiofor proves himself a master of physical understatement, the clench of his teeth and slightest parting of the lips speaking volumes. 0.15\n",
      "A tale of suffering, endurance, courage and abiding humanity about a freeborn man kidnapped and sold into slavery, which packs all the more wallop for the elegance with which it's made. 0.5\n",
      "Ejiofor projects extraordinary integrity, even nobility - and he holds the camera magnificently. It's a deeply inward, deeply felt performance, surely a cert for one of the many Oscars this film must win. 0.35555555555555557\n",
      "The American South's \"peculiar institution\" has, it seems, become a fit topic for narrative cinema. And it only took a century. 0.13333333333333333\n",
      "12 Years a Slave proves McQueen's formal prowess and, more significantly, his utter seriousness as a dramatist. 0.29375\n",
      "12 Years a Slave isn't simply a masterpiece, it's a milestone. This, at last, really is history written with lightning. 0.06666666666666667\n",
      "Twelve Years a Slave is a magnificent achievement and it is a career best for everyone involved, not least its artist-turned-director, Steve McQueen. 0.7166666666666667\n",
      "The whole film breathes with reality, even while the bayou landscapes are infernalised, surrealised, by a terrible beauty of vision. -0.4\n",
      "One of Britain's greatest living filmmakers offers an outraged, intense and artful examination of American slavery. 0.08000000000000002\n",
      "McQueen's previous films were called Hunger and Shame; there is plenty of both in this almost unwatchably shocking and violent film. -0.6555555555555556\n",
      "The cumulative emotional effect is devastating: the final scenes are as angry, as memorable, as overwhelming as anything modern cinema has to offer. -0.04285714285714286\n",
      "Falling between the twin pillars of the art house and prestige period flick, 12 Years A Slave is history lesson as horror film, powerful, visceral and affecting. 0.3\n",
      "So overpowering is this film's simple, horrible, and almost entirely true story that it's hard to get enough distance on 12 Years a Slave to poke at its inner workings. -0.15694444444444444\n",
      "Every scene of 12 Years a Slave, and almost every shot, conveys some penetrating truth about America's original sin. 0.375\n",
      "This is an extraordinary film. 0.3333333333333333\n",
      "Shooting the travesties at an artistic remove as if he were observing slavery as a mechanism, McQueen's lush, foreboding compositions don't get in the way of the soul-crushing story. 0.21666666666666667\n",
      "The power of McQueen's movie is in its declaratory style: This happened. That is all, and that is everything. 0.0\n",
      "It is a film that necessity and education demand seeing. 0.0\n",
      "Brutal yet elegant, 12 Years a Slave is a beautifully rendered punch to the gut about the most shameful chapter in American history. 0.195\n",
      "It provokes recognition in us of the very heart of darkness. It makes the unimaginable imaginable. 0.2\n",
      "\"12 Years a Slave\" isn't easy to watch, and it shouldn't be; it's one man's tragedy, but it's also the tragedy of countless thousands of souls beaten down, literally and metaphorically. 0.06944444444444445\n",
      "Slavery is revealed for the unrelenting horror that it was. About time. 0.0\n",
      "One of the best and most courageous films of the year. 0.75\n",
      "This is not medicine for America to swallow; it's filmmaking of the highest caliber. 0.0\n",
      "\"12 Years a Slave\" lays out an institution so twisted and wrong that its honest portrayal has been avoided for centuries. Yes, it's dark and brutal. It needs to be. -0.28500000000000003\n",
      "But the much talked-about 12 Years a Slave is more than a beautifully shot art piece. It's history made violently real. 0.43749999999999994\n",
      "Other movies and books have gone here, but few so far and with such overwhelming clarity of purpose. 0.05500000000000001\n",
      "With this powerful, almost classical drama, British director Steve McQueen has made the seminal film about slavery that Hollywood feared to tackle. 0.09999999999999999\n",
      "So raw and distressing is this historical account of a true-life American slave, it's tempting to turn away from the screen. Or maybe just cover your eyes for a few minutes of respite. Try not to. -0.1076923076923077\n",
      "It's impossible to call '12 Years a Slave' an enjoyable film, but it is exceptional in every respect, making it a warranted 133-minute nightmare. 0.16666666666666666\n",
      "Director Steve McQueen was clearly the right man to execute an unflinching adaptation of Solomon Northup's incredible story. 0.4285714285714286\n",
      "12 Years a Slave is likely the most painful, clear-eyed feature ever made about American slavery. In that light, it almost seems faint praise to add that it will also likely prove to be the best film of the year. 0.08750000000000001\n",
      "It is Ejiofor - bewildered, sorely tested, morally towering - whose staggered dignity anchors the film. 0.0\n",
      "Steve McQueen's 12 Years a Slave, written by John Ridley and starring Chiwetel Ejiofor, is a necessary corrective to the antics of Django Unchained, not to mention Mandingo and its ilk. 0.0\n",
      "12 Years a Slave, British director Steve McQueen's antebellum Southern drama, sets a new standard in realistically depicting American slavery. 0.02727272727272727\n",
      "\"12 Years a Slave\" is a somber, meditative, almost poetic film that delivers the horrors of bondage stripped down and head-on. 0.10972222222222221\n",
      "A brutally powerful and emotionally devastating film that takes great pains to rip any lingering vestiges of romanticism from America's most shameful institution. 0.15000000000000002\n",
      "\"a shattering experience\" 0.0\n",
      "\"12 Years a Slave\" offers no false Hollywood catharsis along with its muted happy ending, because we're not free from the curse of slavery yet. Looking at it, as it really was, is a start. 0.22000000000000003\n",
      "When a director who never ever blinks takes on a horrific subject, a nightmare in broad daylight is the inevitable result. Welcome, if that is the right word, to the world of 12 Years a Slave. -0.003075396825396833\n",
      "The harrowing 12 Years a Slave is a mesmerizing period drama for the ages. 0.3\n",
      "It seems certain to transcend the movie realm and become a new reference point in contemporary culture-a defining vision of what slavery looked like, and felt like, in the U.S. before the Civil War. 0.17243867243867242\n",
      "McQueen doesn't go in for a lot of flash edits or self-conscious visual flourishes to put viewers at ease; rather, he invites the audience to sit with him as he gazes, amazed, at man's inhumanity to man ... 0.0\n",
      "A film this good, and this quietly distinctive in its style, is always welcome. 0.5\n",
      "A harrowing, unforgettable drama that doesn't look away from the reality of slavery and, in so doing, helps us all fully, truly confront it. 0.8\n",
      "\"12 Years a Slave\" works on so many levels -- some topical, some timeless -- that it's almost impossible to count them. -0.055555555555555546\n",
      "The sheer power of the performances capably transport viewers to a place that most of us can't even comprehend. 0.2333333333333333\n",
      "Made me angry, and grateful, in ways I didn't always anticipate. -0.5\n",
      "You won't be able to tuck this powder keg in the corner of your mind and forget it. What we have here is a blistering, brilliant, straight-up classic. 0.5222222222222223\n",
      "Channeling the evils of human bondage through the experiences of one weary figure, McQueen has constructed another intensely physical character study about a man trapped in his own flesh. 0.09999999999999999\n",
      "The genius of 12 Years a Slave is its insistence on banal evil, and on terror, that seeped into souls, bound bodies and reaped an enduring, terrible price. -0.7666666666666666\n",
      "Slavery here is not only a great moral darkness but a sweeping canvas for depicting the emotional deformities of the people who enforced and exploited the practice. 0.2\n",
      "The film truly belongs to Ejiofor, whose big, soulful eyes seem to register so many things at once: Shock, pain, grit, determination, abject despair at times, cautious hope at others - and always, dignity. 0.25\n",
      "[McQueen's] film is a tough, soul-sickening, uncompromising work of art that makes certain that when viewers talk about the evils of slavery, they know its full dimension. 0.05846560846560845\n",
      "This is as plain-faced a film about slavery could possibly be, and the effect of its evenness is, oddly enough, more emotion. 0.16666666666666666\n",
      "Aside from a characteristically nuanced lead performance by Chiwetel Ejiofor... it's a picture that stays more than a few safe steps away from anything so dangerous as raw feeling. -0.006153846153846143\n",
      "If the best films hold you in a captive vise, entertain you, keep you spellbound and teach you something at the same time, then 12 Years a Slave is outstanding-brave, courageous and unforgettable. 0.5\n",
      "Brave performances throughout this magnificent film. 0.9\n",
      "12 Years A Slave is an ambitious endeavor. 0.25\n",
      "The best picture of the year. 1.0\n",
      "12 Years a Slave is easily the greatest feature film ever made about American slavery. 0.4777777777777778\n",
      "It's smashingly effective as melodrama. But McQueen's directorial voice-cold, stark, deterministic-keeps it from attaining the kind of grace that marks the voice of a true film artist. 0.20999999999999996\n",
      "12 Years A Slave is one of those rare pieces of art that all its successors taking a shot at the same topic will be measured against. 0.15\n",
      "McQueen and Ridley seem determined to obliterate any lingering Gone With the Wind-inspired notions that the antebellum South was a place of grace and charm, or that slavery was, in the euphemism of the day, merely a \"peculiar institution.\" -0.5\n",
      "Believe the Oscar buzz. Britain's Steve McQueen (Hunger, Shame) nails the horror of America's slavery shame but also finds humanity in one man's determination to free himself and return to his family. 0.4\n",
      "Steve McQueen's impersonal approach to his subject matter isn't solely to blame for the failure of 12 Years a Slave, a safely anecdotal mosaic closer in spirit to Edward P. Jones's The Known World than to Toni Morrison's radically constructed Beloved. 0.17916666666666664\n",
      "There are powerful moments in 12 Years a Slave, but they tend to happen on the margins of the action. 0.2\n",
      "It's not too soon to call 12 Years a Slave a great film-ruined, tremulously sad, surreal in its evil. -0.11249999999999999\n",
      "In the epic form of 12 Years a Slave, his most approachable, emotional film, McQueen escalates the tension. 0.19999999999999998\n",
      "12 Years a Slave is a movie about a life that gets taken away, and that's why it lets us touch what life is. 0.0\n",
      "A strong, involving, at times overstated telling of an extraordinary life story. 0.3833333333333333\n",
      "...refuses to take the easy road. 0.43333333333333335\n",
      "Using his signature visual composition and deafening sound design, Steve McQueen portrays the harrowing realism of Northrup's experience and the complicated relationships between master and slave, master and master, slave and slave, and so on. -0.033333333333333326\n",
      "It's the nobility of this remarkable film that pierces the soul. 0.75\n",
      "Stark, visceral and unrelenting, 12 Years a Slave is not just a great film but a necessary one. 0.20000000000000004\n",
      "An engrossing, unsentimental odyssey that finds Steve McQueen moving away from the intimate approach of his first two films for a broader canvas and a more sweeping narrative. 0.3875\n",
      "This epic account of an unbreakable soul makes even Scarlett O'Hara's struggles seem petty by comparison. 0.1\n",
      "Northup's story was a true, terrible thing, and by virtue of telling it, the burdens of all American slaves are unflinchingly realized by Ejiofor and McQueen alike. -0.21666666666666667\n",
      "...a particularly noteworthy advancement in McQueen's already impressive filmography that funnels the cerebral formalism of his earlier features into a deeply involving survival narrative. 0.2916666666666667\n",
      "Spotlight manages the seemingly impossible task of wooing journalists with authenticity while still elevating reporters to hero status, as they battle a formidable and corrupt institution with righteous determination. -0.5833333333333333\n",
      "Ruffalo gets top billing in the movie, and he brings some wonderfully lived-in behavioral details to his performance -- the quick, terrier-like movements of the head and the bitten-off sentences. 0.611111111111111\n",
      "Spotlight giving center stage to unsung warriors for truth who understood telling the story right, without embellishment, without melodramatic editorial excess, was the greatest victory of them all. 0.3952380952380952\n",
      "Ultimately, the story these journalists chased was about how institutional power degrades when it gets taken for granted. 0.0\n",
      "Spotlight is acted and directed with great urgency -- and a little bit of necessary dread. 0.2041666666666667\n",
      "What's perhaps most impressive about 'Spotlight' is how they're all complicated people, given the opportunity to gun it, to hesitate, to reach, and to claw. 0.3333333333333333\n",
      "The uniformly strong ensemble cast largely avoids any grandstanding moments, and manufactured drama is swerved, while Howard Shore's sober score is applied with restraint. 0.24920634920634918\n",
      "Spotlight is a celebration of the freedom of the press, a riveting story of investigative journalism and of the role played by The Boston Globe in bringing to public attention the terrible crimes that had been taking place in the city for decades. -0.16666666666666666\n",
      "This is the story of the Pulitzer prize-winning team of Boston Globe journalists who early in 2002 lifted the lid on a clerical abuse epidemic in the Boston archdiocese. 0.1\n",
      "How rare is this? A true story so much worth the telling that it needs no embellishment, no sideshow? 0.31666666666666665\n",
      "With McCarthy dialling it down in the director's chair, it's left to the players to provide the fireworks and they duly rise to the challenge. -0.07777777777777779\n",
      "The sense we have is of dedicated professionals getting the job done with the minimum of egotism or indulgence. 0.0\n",
      "This is a worthy film on an important subject, but it just does not fly. 0.041666666666666685\n",
      "McCarthy is dealing with grim subject matter but the film has the momentum of a well-told detective thriller. -0.5833333333333334\n",
      "As a press-exposé procedural, Spotlight has a verve often worthy of All the President's Men. 0.3333333333333333\n",
      "A grown-up film about serious people that mercifully escapes any awards-grabbing platitudes, this is more thrilling than most action movies. 0.1361111111111111\n",
      "An extraordinary paean to journalistic endeavour. 0.3333333333333333\n",
      "This might just be the best newspaper film since All the President's Men in 1976. 1.0\n",
      "The title suggests a beam of illumination but Spotlight has the dimmer switch turned low. 0.0\n",
      "It's about the rewards of hard work and a dedication to truth. Even without fireworks and firefights, it's immensely satisfying to watch. 0.10416666666666666\n",
      "Don't miss this crackling - and deeply important - film about the power of the press. 0.4\n",
      "Plunges us into the rhythms of a specific time and place: Boston around the turn of the millennium, at a time when...the extent of the cover-up culture in the Church had not yet been exposed. 0.0\n",
      "Invigorating moviemaking in every way imaginable, \"Spotlight\" is spot-on. 0.0\n",
      "\"Spotlight\" isn't quite as good as \"All The President's Men,\" the gold standard of films about journalism. But it's close. 0.35\n",
      "Spotlight is a great newspaper movie, ranking up there with All the President's Men and Citizen Kane, and it's certainly the best of its kind since The Paper in 1994. 0.6535714285714286\n",
      "This is why Spotlight's moral of humility is so powerful. There are so many things that we don't know, so many assumptions that we don't recognize as such, so many questions that we haven't even thought to ask. 0.3\n",
      "Like the story being reported within the film, Spotlight is simultaneously emotional and clear-eyed. It's an explosive yet necessary piece of journalism in and of itself. And it's easily one of the year's best. 0.35833333333333334\n",
      "This kind of meat-and-potatoes ensemble drama is rarely made so well (or at all) nowadays, and the ensemble cast is top-notch, with great, unshowy direction from Tom McCarthy. 0.675\n",
      "A touching ode to the old-fashioned notion that some things simply need reporting; never mind the effort, the expense, or the effect on circulation. 0.25\n",
      "Spotlight is a mystery, a thriller and a human interest drama, but mostly it's a love letter to investigative journalism. 0.25\n",
      "A remarkably assured and tight retelling of the Boston Globe's investigation into the Catholic Church's legacy of child abuse and cover-ups. 0.19047619047619047\n",
      "Really captures the culture of a newsroom, the stale coffee, the stale-er jokes, but the passionate curiosity that drives them all. -0.11666666666666665\n",
      "It's not a stretch to suggest that \"Spotlight\" is the finest newspaper movie of its era, joining \"Citizen Kane\" and \"All the President's Men\" in the pantheon of classics of the genre. 0.0\n",
      "Though \"Spotlight\" is definitely a reporter-as-hero story (and, along the way, a bittersweet love letter to the kind of investigative journalism that's increasingly disappearing), the film doesn't let its characters off the hook. 0.3666666666666667\n",
      "Inspiring stuff, the stuff of Hollywood all the way back to Frank Capra and before: a story of scrappy underdogs, determined to get to the truth, and toppling the mighty in the process. 0.3\n",
      "It's one of the best movies I've ever seen about the art and the science of newspaper reporting 1.0\n",
      "It's a great story about getting the story. 0.8\n",
      "The movie finds drama, not in telling the audience what it doesn't know, but in showing us people finding out the scope and dimension of what we already know, and then letting us see them react with shock, horror and a firm sense of purpose. -0.2\n",
      "At the beginning of Spotlight, a title card proclaims \"based on actual events,\" a tactic many films use to manufacture authenticity even if it's never earned. Here, it feels absolutely right. 0.2619047619047619\n",
      "Let's cut to the chase: \"Spotlight\" is a flat-out great movie. 0.8\n",
      "One of the most accurate depictions of journalism put on film, perhaps even the finest example we've seen yet. It's easily one of 2015's best films. 0.5833333333333334\n",
      "\"Spotlight\" is terrific... and certainly ranks as one of the best films of the year! 0.4047619047619047\n",
      "The film is often straightforward and hard-hitting. But it plays out all the usual tropes of the investigative-journalism genre -- the hot tips, the clandestine meetings, the hand-wringing about ethics, etc. -- without adding a jot of novelty. 0.125\n",
      "Like any good reporting job, Spotlight slowly builds momentum from nothing, gathering disparate bits of information into an emotional juggernaut of a story. 0.1333333333333333\n",
      "No need to bury the lede: Spotlight is a masterpiece. 0.0\n",
      "It's the year's best movie so far, and a rarity among countless dramatizations that claim to be based on actual events. In this one the events ring consistently-and dramatically-true. 0.275\n",
      "The movie's an ensemble piece, building up its characters slowly and carefully, giving each actor a chance to shine. More importantly, it's a movie that's invested in listening. 0.125\n",
      "\"Spotlight\" is mightily impressive not only because of the importance of the story it tells but also because of how much effort and skill went into bringing it to the screen in the best possible way. 0.44000000000000006\n",
      "McCarthy is just as shrewd at evaluating the practical morality of attorneys: white collars as well as clerical collars fall into patterns that perpetuate evil. McCarthy has cast his legal roles with actors who can sound psychological depths on the run. -0.08\n",
      "Every actor rises to the occasion. 0.0\n",
      "Spotlight is an exceptional slow burn, fueled by a consistently in-sync ensemble of actors pulling their weight on all fronts. 0.20555555555555552\n",
      "An emotional tour de force. 0.0\n",
      "Like All The President's Men, it's a muckraker movie that celebrates the power of the press by actually showing journalists doing their job, pen and notebook in hand. 0.0\n",
      "The year is not over, but I've already seen my favorite film of 2015. 0.5\n",
      "\"Spotlight\" is a gripping detective story and a superlative newsroom drama, a solid procedural that tries to confront evil without sensationalism. -0.15\n",
      "\"Spotlight\" is the kind of movie where a scene showing a group of reporters huddled over church directories, taking notes in silence, becomes a gripping sequence. 0.55\n",
      "Once in a while a good movie about journalism comes along to remind you that behind every important news story stand the men and women who researched, interviewed, and fact-checked to make it that way. 0.2333333333333333\n",
      "What we have before us is a case study on how to do shoe-leather cinema-and smart, A-list American moviemaking-right. 0.10714285714285714\n",
      "A landmark film about investigative journalism and the year's most thrilling detective story. Keaton and Ruffalo lead a cast of exceptional actors who could not be better or more fully committed. 0.4833333333333333\n",
      "The film hums as a tense shoe-leather procedural and a heartbreaking morality play that handles personal stories respectfully without losing sight of the bigger, more damning picture. 0.13333333333333336\n",
      "Tom McCarthy's movie doesn't turn its journalists into heroes. It just lets them do their jobs, as tedious and critical as those are, with a realism that grips an audience almost in spite of itself. -0.25\n",
      "Unlike an ongoing investigation, we know the outcome here already. The trick of Spotlight is making the potentially unsexy \"how they got there\" into not only one of the best movies of the year, but one of the best journalism movies of all time. 0.5\n",
      "Spotlight feels both timeless and modern, a dexterously crafted film that could have been made anytime but somehow feels perfect for right now. 0.49523809523809526\n",
      "By modeling its structure so closely after All the President's Men, Spotlight only draws closer attention to its lack of scope and ambition. 0.0\n",
      "McCarthy is tackling something more basic than paranoia-namely, pride of place, and the way in which it offers both an embrace and a choke hold. 0.19999999999999998\n",
      "At its heart, Spotlight is an argument against deference to authority, which informs so much great journalism. 0.8\n",
      "This offers a potent reminder that investigative journalism is critical to a just society, and that we need it now more than ever. 0.275\n",
      "The concept of retelling the Spotlight story was so fraught with potential to go horribly, overbearingly awry, and yet McCarthy deftly sidesteps every pitfall with skill. -0.13333333333333333\n",
      "Spotlight keeps its composure, follows every lead and delivers an important and compelling story. It may no longer land on your porch with a thud but it still hits you in the gut. 0.35\n",
      "One of the leanest, most purposeful dramas I've seen in a long time. 0.225\n",
      "As scripted by McCarthy and Josh Singer, the film succeeds first and foremost in bringing order to an extremely complex piece of team reporting. 0.21666666666666665\n",
      "What the film gets brilliantly right is how journalists can get co-opted by the institutions they cover when their interests converge. And just how much courage it takes to pursue a story that may alienate many of your readers . 0.32857142857142857\n",
      "Good old-fashioned journalism makes for great drama in Thomas McCarthy's [Spotlight]. 0.75\n",
      "Director Tom McCarthy does an impressive job of valorizing the Globe's work without glorifying the place or their profession. 1.0\n",
      "McCarthy's sharp, incisive, quietly moving drama tells a knotty story with boundless intelligence, wit, and insight. -0.10833333333333334\n",
      "Where \"Birdman\" magnified Keaton's talent, \"Spotlight\" leans on it. 0.0\n",
      "Your skin's left prickling by its deft deconstruction of the business of secret-keeping, and its perceptive setting out of the courage and diligence it takes to overturn it. 0.3\n",
      "It's that all-too-rare beast: a movie that's both important and engrossing. 0.5\n",
      "If Spotlight were merely about putting the pieces together to break a big news story, it would be interesting enough, but the film gracefully, without overplaying its hand, delves into many provocative ideas and subplots. 0.1\n",
      "The cast, tasked with delivering all this information and making it feel natural, are remarkable, investing sometimes just the tiniest glances or the shortest of lines with an acreage of personality. 0.425\n",
      "The capable main actors don't have much to do except chase leads around town and interview those willing to talk; there's no depth given to these reporters. 0.20416666666666666\n",
      "Capably and decently tells an important story. 0.2555555555555556\n",
      "Although director and co-writer Tom McCarthy can fall victim to prestige-picture preciousness and narrative conventionality, Spotlight goes a long way on the strength of superior acting and a crackling tale. 0.14375\n",
      "A superbly controlled and engrossingly detailed account of the Boston Globe's Pulitzer Prize-winning investigation into the widespread pedophilia scandals and subsequent cover-ups within the Catholic Church. 0.35\n",
      "Yet Farrelly and his cast deliver the cliches with such sincerity and good cheer that the film won me over anyway. 0.35\n",
      "An enthusiastic and well-intentioned but ultimately clichéd approach is abundantly evident in the final product. 0.15999999999999998\n",
      "Green Book is a glib, caricatured and insensitive movie that reduces an enduring, dangerous societal problem to a calculated fable with a happy ending. [Full review in Japanese] 0.06999999999999999\n",
      "Is it a feel-good charmer poised to rake in greenbacks and Oscar gold? You bet! But don't let that keep you away from this overall well balanced (and timed) look forward from the safe distance of America's motley past. 0.21250000000000002\n",
      "While Green Book is one of the lesser films to bear the Farrelly imprimatur, it can be appreciated for its role in revealing so nakedly the rules of the prestige picture sweepstakes. 0.0\n",
      "The screenplay essentially turns Shirley into a black man who thematically shapeshifts into whoever will make the story appealing to white audiences - and that's inexcusable. 0.08333333333333334\n",
      "Green Book feels like a movie lost in time, and we have to do better. We demand better. 0.26666666666666666\n",
      "[A] flawed but oddly joyful movie elevated far above its limitations by two sublime performances. -0.14166666666666666\n",
      "Mahershala Ali's performance shines through despite ill-judged moments from director Peter Farrelly. 0.0\n",
      "A bizarre fish-out-of-water comedy masquerading as a serious awards-season contender by pretending to address the deep wound of racial inequality while demonstrating its profound inability, intellectually and dramatically, to do that. 0.09\n",
      "So much fun in the moment, you almost feel bad later on for realising it doesn't add up. -0.13333333333333328\n",
      "This is a movie about insulting stereotypes and the dirigiste devices of organised racism that delivers its own, audience-insulting stereotypes, with a tonne of dramatic directionalism. -0.27777777777777773\n",
      "Where Green Book runs into trouble is if you scratch even a millimetre beneath its fuzzy, warm surface. 0.06666666666666665\n",
      "Ali and Mortensen make a tremendously engaging odd couple. Both give such nuanced and well-observed performances that most audiences will swallow the sentimental moralising as easily as Tony digests his hot dogs. 0.16666666666666669\n",
      "There are a few cheesy moments as the two men learn life lessons from each other but the acting is a joy, the co-stars coaxing complexities from their characters. -0.004999999999999982\n",
      "Well, it's a handsomely made and watchable picture and there is a real warmth in Ali and Mortensen's performances. 0.35\n",
      "Just enough (laughing) gas in the tank to merit its two-hour runtime. 0.0\n",
      "The gears engage. The motor runs smoothly. The destination is achieved. There are worse things in heaven and earth. 0.0\n",
      "A supremely likeable film. Its message might seem obvious and its template overcooked, but it boasts a warm heart, with two astoundingly good lead performances to guide it home. 0.4333333333333333\n",
      "Farrelly is seeking to entertain with Green Book, not to provoke. The performances of his actors - Mortensen, rarely better, and Ali - make it all worthwhile. 0.26666666666666666\n",
      "The performances are superb, on the back of a tight script. 0.2738095238095238\n",
      "First-rate execution can't solve all of a film's problems, but Mortensen and Ali offer a reminder that it can solve an awful lot of them. -1.0\n",
      "Call this actors' duet sentimental and simplistic at your own peril. Green Book may well move you, possibly to tears, at the thought of real social change and kindness (at a time when we need it badly). -0.14285714285714285\n",
      "Mortensen and Ali are a joy to watch, but Green Book is just a warm bath of clichés. 0.4000000000000001\n",
      "A well-meaning but glib and shallow ode to interracial healing. -0.3333333333333333\n",
      "While I can recommend the drama it isn't without some rather substantial reservations... 0.0\n",
      "The actors give it their all, but they come across as extreme caricatures. -0.125\n",
      "This is an expertly-acted, perfectly telegraphed message movie that knows the buttons it's pushing, and pushes them all, right on cue. This is not a knock against it, it's a compliment. 0.6428571428571428\n",
      "A heartfelt ode to the bond between two real-life men. 0.0\n",
      "You watch \"Green Book\" wishing it were a little better but nonetheless enjoying how very good much of it is, thanks to Mortensen and Ali, who make every moment sing. 0.2870833333333333\n",
      "Borrowing the name of such a fraught piece of history and making a feel-good comedy about it, then failing to do that piece of history justice, is at best a misstep. 0.5\n",
      "The acting is better than the dialogue, which is better than the plotting. And I have to confess that in the current, insanely divisive political climate, I enjoyed Green Book's spoon-feeding mightily. 0.07777777777777778\n",
      "M oviegoers who will leave this movie having learned for the first time that Dr. Shirley and Green Books existed but only through a white lens, deserved better than this shallow introduction to an integral part of Black history. 0.007142857142857153\n",
      "Humor... keeps the movie floating, weightlessly, above the appalling bedrock of its ponderous assumptions. -0.175\n",
      "It's not quite Racism for Dummies, but the strokes are so broad and the tone so breezy that \"I saw Green Book\" could qualify as the new \"I have a black friend.\" -0.04195075757575758\n",
      "The tone leans sentimental, if not quite sugary. But the actors' honest chemistry takes Farrelly's movie to the next level. This small tale of American goodness deserves your full attention. 0.075\n",
      "In a world that seems to get uglier every day, this movie's gentle heart and mere humanity feel like a salve. -0.15\n",
      "Witty and warm as cashmere, Green Book is a two-hander in which both stars soar with humor and heart. 0.30000000000000004\n",
      "Tony and \"Doc\" don't just learn from each other; this is heroic two-hander in which they both save each other too. 0.15\n",
      "Thanks in large part to the winning chemistry between Ali and Mortensen, and a pretty darn inspirational true-life story as its foundation, this was one of the best times I've had at the movies this year. 0.444047619047619\n",
      "Intentionally or not, it flatters the delusion that racism, in its ugliest form, is more of a past-tense problem. 0.5\n",
      "Green Book is the kind of movie that leaves you with a feeling of elation. That doesn't happen enough, and when it does, it is often accompanied by a heavy dose of sentiment. Not this time. This is pure entertainment 0.08285714285714285\n",
      "A fine setup for two strong-willed characters to have at each other... Yet Green Book wears thin, and how could it not, since it's basically an illustrative construction in which each scene has a predictable shape and a clear-cut purpose. -0.10166666666666666\n",
      "This film cuts right through your defenses. That's because the performances by the two actors, especially Mortensen, are so hugely entertaining. 0.2619047619047619\n",
      "It's easy to wish \"Green Book\" itself wasn't quite so ham-fisted at times, or on-the-nose with its dialogue. But... the movie possesses hard-to-resist warmth in its underlying theme, and welcome humor in the mismatched buddy dynamic. 0.25833333333333336\n",
      "It's glossy and zippy, gliding along the surface of deeply emotional, complex issues while dipping down into them just enough to give us a taste of some actual substance. -0.09111111111111111\n",
      "You may enjoy your time hanging out with these characters, but you may also wish they had a much better vehicle for their story. 0.45\n",
      "Before I tell you how good this movie is, let me tell you how many ways it could have gone wrong. 0.2333333333333333\n",
      "\"Green Book\" is a savvy and super effective piece of popular entertainment. 0.3333333333333333\n",
      "Peter Farrelly has fun with stereotypes but he also explodes them, especially the old canard of \"polite\" racism that is anything but. 0.13333333333333333\n",
      "There's not much here you haven't seen before, and very little that can't be described as crude, obvious and borderline offensive, even as it tries to be uplifting and affirmative. -0.09062500000000001\n",
      "\"Green Book\" fires on all cylinders, creating the kind of satisfying mainstream moviegoing experience that many observers thought Hollywood had forgotten how to make. 0.35\n",
      "It's the kind of movie that hammers on your heart even as it's tripping over its feet, hobbled by unexamined notions of race, ethnicity, and class. Don't look too closely, and you'll have a very good time. 0.7549999999999999\n",
      "There's something so deeply right about this movie, so true to the time depicted and so welcome in this moment; so light in its touch, so properly respectful of its characters, and so big in its spirit that the movie acquires a glow. 0.3892857142857143\n",
      "In fact, this film allows everyone to play against their Hollywood-prescribed \"type,\" from the actors to the director, who is perhaps the most surprising revelation of them all. 0.6\n",
      "It would be more insulting if Ali and Mortensen weren't milking the formula for all it's worth, gifting the film unearned grace with their magnetism. -0.06666666666666667\n",
      "Thanks to the dream team of Mortensen and Ali, both giving Oscar caliber performances, audiences will be rightly cheering this hilarious and heartfelt true story of a black musician and his racist driver on a 1960's tour of the Deep South. 0.16700680272108845\n",
      "It's the master class put on by Viggo Mortensen and Mahershala Ali that powers this moving and often hilarious work and gives it mass appeal. 0.5\n",
      "Green Book feels like a relic, a film snatched from the 90's... In 2018, the film shouldn't work... yet, it does \"succeed.\" -0.2\n",
      "With the quippy dialogue and stunning cinematography from Sean Porter, Green Book is a charming and shockingly uplifting feat not just about race and friendship. 0.0\n",
      "Mahershala Ali switches gears with ease from playing a hardened drug dealer in Moonlight to portraying a refined artist with great dignity and many secrets in this heart-warming crowd-pleaser. 0.65\n",
      "Peter Farrelly manages to respect the severity of the characters' social context while ensuring that Green Book never steps outside its protagonists' relationship. -0.05555555555555556\n",
      "A film that's remarkably conventional and shallow in its treatment of racism, but also an undeniable showcase for two great performers. 0.10793650793650796\n",
      "Distinctive and amusing turns by Viggo Mortensen and Mahershala Ali make Peter Farrelly's first solo feature outing a lively and likable diversion. 0.3715909090909091\n",
      "There's clearly a more nuanced drama to be made from this story but given the scale, there's still a lot here to praise. 0.5\n",
      "Mortensen's role may be the showier of the two, but Ali is a marvel to watch in his musical performances. 0.0\n",
      "A touching and meaningful look at race and class in America, the likes of which studios rarely produce anymore. 0.43333333333333335\n"
     ]
    }
   ],
   "source": [
    "from textblob import TextBlob  # Importing the TextBlob library\n",
    "\n",
    "def analyze_sentiment(frasi):\n",
    "    blob = TextBlob(frasi)  # Creating a TextBlob object from the input text\n",
    "    sentiment = blob.sentiment.polarity  # Calculating the sentiment polarity of the text\n",
    "    print(frasi, sentiment)  # Print the sentiment of each sentence\n",
    "    if sentiment > 0:  # If the sentiment polarity is positive\n",
    "        return 'Positive'\n",
    "    elif sentiment < 0:  # If the sentiment polarity is negative\n",
    "        return 'Negative'\n",
    "    else:  # If the sentiment polarity is neutral\n",
    "        return 'Neutral'\n",
    "\n",
    "\n",
    "sentiments_critica_biography = []\n",
    "for sublista in recensioni_critica_biography:\n",
    "    for recensione in sublista:\n",
    "        frase = recensione[0]  # Accessing the review text from each sublist item\n",
    "        sentiment = analyze_sentiment(frase)\n",
    "        sentiments_critica_biography.append(sentiment)\n",
    "\n",
    "# Printing the sentiments of\n"
   ]
  },
  {
   "cell_type": "code",
   "execution_count": 149,
   "id": "b29e15c5",
   "metadata": {},
   "outputs": [
    {
     "data": {
      "text/plain": [
       "462"
      ]
     },
     "execution_count": 149,
     "metadata": {},
     "output_type": "execute_result"
    }
   ],
   "source": [
    "len(sentiments_critica_biography)"
   ]
  },
  {
   "cell_type": "code",
   "execution_count": 150,
   "id": "cf22f2b3",
   "metadata": {},
   "outputs": [
    {
     "name": "stdout",
     "output_type": "stream",
     "text": [
      "File CSV 'sentiments_critica_biography.csv' creato con successo.\n"
     ]
    }
   ],
   "source": [
    "import csv\n",
    "csv_filename = \"sentiments_critica_biography.csv\"\n",
    "\n",
    "with open(csv_filename, mode='w', newline='') as file:\n",
    "    writer = csv.writer(file)\n",
    "    writer.writerow(['Sentiment'])  # Write header\n",
    "    for sentiment in sentiments_critica_biography:\n",
    "        writer.writerow([sentiment])\n",
    "\n",
    "print(f\"File CSV '{csv_filename}' creato con successo.\")"
   ]
  },
  {
   "cell_type": "code",
   "execution_count": null,
   "id": "da5dbade",
   "metadata": {},
   "outputs": [],
   "source": []
  }
 ],
 "metadata": {
  "kernelspec": {
   "display_name": "Python 3 (ipykernel)",
   "language": "python",
   "name": "python3"
  },
  "language_info": {
   "codemirror_mode": {
    "name": "ipython",
    "version": 3
   },
   "file_extension": ".py",
   "mimetype": "text/x-python",
   "name": "python",
   "nbconvert_exporter": "python",
   "pygments_lexer": "ipython3",
   "version": "3.9.19"
  }
 },
 "nbformat": 4,
 "nbformat_minor": 5
}
