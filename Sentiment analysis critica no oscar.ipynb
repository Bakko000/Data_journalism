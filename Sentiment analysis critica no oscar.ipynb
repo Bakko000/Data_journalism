{
 "cells": [
  {
   "cell_type": "code",
   "execution_count": 11,
   "id": "3a3be39d",
   "metadata": {},
   "outputs": [],
   "source": [
    "import pandas as pd"
   ]
  },
  {
   "cell_type": "code",
   "execution_count": 12,
   "id": "d3da91c7",
   "metadata": {},
   "outputs": [],
   "source": [
    "import pickle"
   ]
  },
  {
   "cell_type": "markdown",
   "id": "835d71b1",
   "metadata": {},
   "source": [
    "## Drama"
   ]
  },
  {
   "cell_type": "code",
   "execution_count": 13,
   "id": "a6131777",
   "metadata": {},
   "outputs": [
    {
     "name": "stdout",
     "output_type": "stream",
     "text": [
      "64\n"
     ]
    }
   ],
   "source": [
    "with open('recensioni_critica_gran_torino.pickle', 'rb') as f:\n",
    "    r_critica_gran_torino = pickle.load(f)\n",
    "    r_critica_gran_torino =[sottolista for sottolista in r_critica_gran_torino if sottolista!=['']]\n",
    "    print(len(r_critica_gran_torino))\n",
    "    "
   ]
  },
  {
   "cell_type": "code",
   "execution_count": 14,
   "id": "724ed544",
   "metadata": {},
   "outputs": [
    {
     "name": "stdout",
     "output_type": "stream",
     "text": [
      "48\n"
     ]
    }
   ],
   "source": [
    "with open('recensioni_critica_wonder.pickle', 'rb') as f:\n",
    "    r_critica_wonder = pickle.load(f)\n",
    "    r_critica_wonder =[sottolista for sottolista in r_critica_wonder if sottolista!=['']]\n",
    "    print(len(r_critica_wonder))\n",
    "    "
   ]
  },
  {
   "cell_type": "code",
   "execution_count": 15,
   "id": "a74641fe",
   "metadata": {},
   "outputs": [
    {
     "name": "stdout",
     "output_type": "stream",
     "text": [
      "20\n"
     ]
    }
   ],
   "source": [
    "with open('recensioni_critica_saltburn.pickle', 'rb') as f:\n",
    "    r_critica_saltburn = pickle.load(f)\n",
    "    r_critica_saltburn =[sottolista for sottolista in r_critica_saltburn if sottolista!=['']]\n",
    "    print(len(r_critica_saltburn))\n",
    "    "
   ]
  },
  {
   "cell_type": "code",
   "execution_count": 16,
   "id": "615ce1b9",
   "metadata": {},
   "outputs": [],
   "source": [
    "recensioni_critica_drama=[]\n",
    "recensioni_critica_drama=[\n",
    "    r_critica_gran_torino,\n",
    "    r_critica_wonder,\n",
    "     r_critica_saltburn\n",
    "    \n",
    "    \n",
    "    \n",
    "    \n",
    "]"
   ]
  },
  {
   "cell_type": "code",
   "execution_count": 17,
   "id": "905a38d6",
   "metadata": {},
   "outputs": [
    {
     "data": {
      "text/plain": [
       "132"
      ]
     },
     "execution_count": 17,
     "metadata": {},
     "output_type": "execute_result"
    }
   ],
   "source": [
    " sum(len(lista) for lista in recensioni_critica_drama)"
   ]
  },
  {
   "cell_type": "code",
   "execution_count": 18,
   "id": "3733196f",
   "metadata": {},
   "outputs": [
    {
     "name": "stderr",
     "output_type": "stream",
     "text": [
      "/Users/isabelsantucci/opt/anaconda3/lib/python3.9/site-packages/scipy/__init__.py:146: UserWarning: A NumPy version >=1.16.5 and <1.23.0 is required for this version of SciPy (detected version 1.24.3\n",
      "  warnings.warn(f\"A NumPy version >={np_minversion} and <{np_maxversion}\"\n"
     ]
    },
    {
     "name": "stdout",
     "output_type": "stream",
     "text": [
      "It is a flawed movie, vastly overwritten, with characters pointing things out that we've long worked out for ourselves. Still, the self-referentiality of Eastwood's performance ensures that Gran Torino isn't just absorbing, but also moving. -0.08750000000000001\n",
      "Seeing Eastwood ward off young gangsters was odd... well, but he pulled it off enough. -0.022222222222222216\n",
      "Though the film feels like a requiem, Kowalski's heart is still defiantly beating. 0.0\n",
      "Seeing the new inclusive Clint shows an old dog can learn new tricks. But like Walt himself, I can't help but prefer Dirty Harry to Caring Clint any day. -0.05681818181818182\n",
      "Although the first half feels a little devoid of direction, Eastwood takes out the jump leads and kicks it into life, giving the second half of the film a better pace, vibrancy and gentle humour that makes Gran Torino worth at least one ride. 0.032916666666666664\n",
      "This is still an enjoyably big, brash, macho melodrama, saved from absurdity by Eastwood's cracking performance. -0.16666666666666666\n",
      "In a way it's quite touching that Eastwood still believes a man is never too old to change. One only wishes that Gran Torino were a little more subtle and a little less earnest in its operations. 0.028124999999999994\n",
      "Directed by as well as starring Eastwood, this is the expected well-tooled, well-produced machine, effortlessly bringing into play big themes of age, race, religion, death, war, vengeance and cultural identity with humour, tension and pathos. 0.0\n",
      "Simply terrific, enormously watchable and an absolute must for all Eastwood fans. Gotta say it: this film will make your day. 0.06666666666666667\n",
      "The comedy-drama on release is actually a rather wise, insightful exploration of family and friendship, violence and vengeance. 0.35\n",
      "What the film aches for is a challenge worthy of the monster Eastwood effortlessly inhabits. 0.3333333333333333\n",
      "He never manages, though, to penetrate to his character's much-touted depths, and it's left to young non-professionals Vang and Her to infuse the action with a spry, casual liveliness that offsets the film's rickety set-up and pacing. -0.07500000000000002\n",
      "Game, set and match. We barely see the ball pass us before it hits the baseline, but Gran Torino has proved itself another effortless Eastwood Grand Slam victory. 0.04999999999999999\n",
      "Gran Torino is made without fuss and acted out with the kind of natural grace only a real titan of the cinema could manage. And Clint is a titan - one of the best directors in America and a performer whose range has extended mightily throughout his career 0.3833333333333333\n",
      "It's a monumentally great film and keeps you spellbound till the lights come back up again. 0.4\n",
      "Gran Torino may prove to be one be one of Eastwood's best. 1.0\n",
      "A brilliant commentary on a lot of earlier Clint Eastwood roles. 0.45\n",
      "With his shamelessly overblown ending, Eastwood reveals a taste for something he's never served up before -- corn. 0.0\n",
      "If Mt. Rushmore were to make a movie, it would probably look a lot like a Clint Eastwood movie. 0.0\n",
      "Interpreted by another director, Nick Schenk's script might have been merely a sentimental fable of a grinch redeemed. -0.25\n",
      "It is familiar, but only to a point. Suddenly, that point is past and much more serious questions come up, questions of responsibility, of vengeance, of the efficacy of blood for blood. 0.04861111111111111\n",
      "This is among his lesser recent movies, which doesn't diminish its likability. In fact, it's pleasing to see Eastwood working the middle of the emotional register for a change. 0.0\n",
      "Gran Torino is the most obvious and least interesting of the four movies [Eastwood's] directed in the last two years. 0.13999999999999999\n",
      "Ultimately, Gran Torino is not recommended for its moralizing or its scenery, but for Eastwood's compelling performance. 0.0\n",
      "Like Woody Allen, Clint Eastwood has reached the point where his movies are better when he's not in them. 0.5\n",
      "Eastwood plans to go on making more movies, but it's doubtful any will be as satisfying a career culmination as Gran Torino. 0.06666666666666665\n",
      "Gran Torino grinds through its gears in an efficient if generally graceless manner, with occasional blasts of violence interrupting a film that is content to be the cutest movie Clint's done since his days of co-starring with an orangutan. 0.02500000000000001\n",
      "Gran Torino is very much about the thing Eastwood knows most intimately -- movies. Like Unforgiven, his neo-Western classic, this film ponders the value of the yarns we spin about heroes and lawless encounters. 0.2816666666666667\n",
      "Gran Torino has much to recommend it, not least of which is Eastwood's enjoyable and slyly self-deprecating performance. And the supporting cast holds their own every step of the way. 0.34\n",
      "If you can survive the F-bombs and the near-constant ethnic invective, Gran Torino is not to be missed, if only as the gutsy, thoroughly unexpected valedictory of an icon fully willing to spend every bit of his considerable capital. 0.11249999999999999\n",
      "With Gran Torino, Eastwood has taken what might have been the likable last gasp of his iconic persona and turned it into the dullest, most heavy-handed sermon of his career. 0.255\n",
      "The film is neither elegant nor subtle. Both Eastwood's performance and his direction veer from broad melodrama to broader comedy and back again. But the film boasts crusty humor, heart and conscience. -0.01416666666666666\n",
      "It's a bit shaky in approach, execution and ending, the work of a grand master in middling mode. 0.08333333333333334\n",
      "Gran Torino is alive to the web of racial and ethnic discontent in this country, but the script by Nick Schenk and Dave Johannson has a tin ear. 0.1\n",
      "Gran Torino is an unlikely tale made plausible almost solely by the quality of Clint Eastwood's performance. 0.0\n",
      "This singular man is all of the iconic actor/director's signature roles compiled over the decades all rolled into one, the ghosts of each and every one of them hovering over the film like Marley haunting Scrooge. 0.5\n",
      "Biased critics may look at Clint's work in Gran Torino and want to see something edgy, but it's really just a caricature of things that he has done before and done better. 0.13333333333333333\n",
      "By the time it jolts to an ending, followed by Clint rasping a tune to the closing credits, you're more likely to be rolling your eyes than dabbing them. 0.25\n",
      "A ham-fisted screenplay sets down the terms of the story with the obviousness of an old-fashioned play. -0.15555555555555559\n",
      "A thoughtful work that continues the actor/director's remarkable late-career surge. 0.575\n",
      "Eastwood's foursquare directorial aesthetic tends to heighten, rather than camouflage, a screenplay's shortcomings. He may well win the gold for this one. But we'll have to assume he's winning it for richer assignments en route. 0.65\n",
      "Gran Torino is about two things, I believe. It's about the belated flowering of a man's better nature. And it's about Americans of different races growing more open to one another in the new century. 0.22727272727272724\n",
      "This is the better by far of the two movies Eastwood has made this year, a stripped-down alternative to the overupholstered Changeling. 0.3\n",
      "The movie, which Eastwood directed with his usual vigor, has plenty of violent scenes, but it's mostly a rueful comedy of enlightenment. -0.18333333333333335\n",
      "To think Gran Torino is a masterpiece, you have to accept the contrived setups and sledgehammer melodrama. -0.4\n",
      "Though you can see his character's redemption coming a mile away, Clint Eastwood's Gran Torino is still well worth the ride. 0.3\n",
      "Gran Torino is defiantly old-fashioned, and occasionally, albeit endearingly, self-indulgent. Most of all it's heartfelt, and for me the feeling was mutual. 0.25\n",
      "A very funny and touching movie that delivers its message of tolerance with a most agreeable light hand. 0.43125\n",
      "In front of the camera, the 78-year-old actor still appears able to demolish anyone who messes with him, which is why this showcase works as well as it does. 0.5\n",
      "Its preoccupation with the burden and self-destructive ramifications of violence is given acute resonance by Eastwood's presence. 0.6\n",
      "These spectral figures, totems of masculinity and mementos from a heroic cinematic age, are what make this unassuming film small in scale if not in the scope of its ideas -- more than just a vendetta flick. 0.2375\n",
      "Gran Torino, whatever its flaws are, is a movie about what America looks like now, and it posits that the work of living amicably together is sometimes hard but always worth it. 0.004166666666666652\n",
      "Eastwood directs with his usual relaxed pace and bursts of intensity, a style that's pleasing to watch -- and which, also as usual, never fully compensates for any shortcomings of the script handed to him. -0.25\n",
      "The first two-thirds play as comedy: Eastwood grumbles, curses, and insists on being a right bastard. This is Dirty Harry gone geriatric, Eastwood parodying himself. -0.021428571428571425\n",
      "Part modern-day Western, part vigilante flick, part after-school special, Clint Eastwood's oddball drama Grand Torino remains entertaining right up to the end credits, during which you can scratch your head and wonder what you've just seen. 0.32857142857142857\n",
      "Still, as movies about crusty old men whose hearts melt through their friendship with young people go, Gran Torino is mostly a hoot, thanks to Eastwood's Archie-Bunker-with-a-gun performance. 0.22499999999999998\n",
      "A lifetime in movies runs through this prime vintage Eastwood performance. You can't take your eyes off him. The no-frills, no-bull Gran Torino made my day. 0.0\n",
      "The problem, a somewhat depressing one, is that Eastwood has grown into a director who thinks he's superior to his mentors. A hint of pretension has crept into his filmmaking, and his exchanges with his young cast feel overwrought. 0.06666666666666667\n",
      "Gran Torino becomes more intriguing as the journey its takes us on evolves and grows darker, albeit with Eastwood's trademark, no-nonsense aesthetic. 0.4\n",
      "A movie at once understated and radical, deceptively unremarkable in presentation and ballsy in its earnestness. Don't let the star's overly familiar squint fool you: This is subtle, perceptive stuff. 0.020833333333333343\n",
      "Caps [Eastwood's] career as both a director and an actor with his portrayal of a heroically redeemed bigot of such humanity and luminosity as to exhaust my supply of superlatives. 0.0\n",
      "Gran Torino being a Clint showcase helmed by the Last Movie Star himself, Walt's reformation is nearly inevitable, but skirts being cloying on the strength of the 78-year-old icon's raspy brusqueness. 0.0\n",
      "An unstable affair given to overemphasized points and telegraphed punches. 0.0\n",
      "The actor-director's second release of the season is his most stripped-down, unadorned picture in many a year. 0.3333333333333333\n",
      "Wonder is a sentimental family film. While it's not devoid of clichés, these are offset by solid performances and a winsome, uplifting story told with tenderness. -0.06666666666666667\n",
      "Wonder is a well-crafted, well-intentioned movie. But it also downplays some important economic, emotional, medical, and psychological realities...it missed a chance to better represent the experiences of children who are already so widely misunderstood. 0.11875000000000001\n",
      "It sometimes over-plays its hand but, anchored by a terrific Jacob Tremblay, Wonder is a warm persuasive argument for tolerance. 0.3\n",
      "It's a little mawkish, but Chbosky, a YA institution himself, has a gift for understanding young people and the nuances of their relationships. -0.04375\n",
      "If in the end the film feels a little too tidy, a little too contrived in the way the plot elements are neatly sewn together, this is perhaps a small price to pay for a film with its heart firmly in the right place. -0.06275510204081634\n",
      "Nonetheless, Hollywood rules in the end and it's very much a soft-focus view of a family under stress. 0.26\n",
      "Director Stephen Chbosky, who previously adapted The Perks of Being a Wallflower (his own novel) for the screen has fashioned a irresistibly warm, unabashedly humanist family picture. 0.3444444444444444\n",
      "Stephen Chbosky's Wonder is sharply enough written and performed to overcome its own very schmaltzy premise. 0.26666666666666666\n",
      "OK, the script strong-arms us into surrender here and there, but more often it gently takes an elbow ... 0.39999999999999997\n",
      "[Julia Roberts] lifts every one of her scenes in Wonder to near-sublime places. 0.0\n",
      "The chapter shifts between different characters' perspectives give the narrative unexpected universal nuance, making this more than the syrupy medical weepie it might appear. 0.12\n",
      "It's based on a novel by R.J. Palacio. Don't buy it for me, please, for Christmas. 0.0\n",
      "Sensitive, and funnier than anticipated. 0.1\n",
      "Maybe this little movie about a kid with a facial disorder isn't really about a kid with a facial disorder at all, but about whatever you and I choose to see in it. And if that's not art, I don't know what is. 0.0031250000000000028\n",
      "Bullies and frenemies don't get served so much as given quiet moments to confront their own mistakes. 0.26666666666666666\n",
      "Starring a terrific Jacob Tremblay as a bullied boy with facial deformities and Julia Roberts as his mom, this drama based on the R. J. Palacio book that nearly everyone has read and wept over has surprising dimension and delicacy. 0.19999999999999998\n",
      "The slogan \"choose kind\" is not just a tagline; it's a byword for our times and I wish more movies would preach that message. Wonderis a beautiful movie. 0.65\n",
      "Perhaps I've overpraised Wonder, but as a wise man once said, \"When given a choice between being right and being kind, choose kind.\" 0.5464285714285714\n",
      "Unrecognizable under the prosthetics and the makeup, Jacob Tremblay is indeed wondrous as Auggie. 0.0\n",
      "While the movie's premise feels prone to the maudlin, it's ultimately quite poignant... 0.0\n",
      "This could have been a schmaltzy tale. Instead, it's a much-needed reminder that kindness exists in this fractured world. 0.0\n",
      "You'll shed a tear or two-especially if you're a parent-and they'll be totally earned. 0.0\n",
      "Wonder is warm and kind, and young viewers will identify with the charming protagonist who is curious about when people will stop caring about what he looks like outside. 0.31666666666666665\n",
      "Owen Wilson cries, but audiences will more likely roll their eyeballs at writer-director Stephen Chbosky's outrageous emotional manipulations. -0.125\n",
      "\"Wonder\" could easily be played for tears or easy sentimentality, but Chbosky finds the reality of the situation much more wondrous. You will, too. 0.45555555555555555\n",
      "This is a movie that might look ordinary but is a quiet gem of insight and inspiration. -0.125\n",
      "Stephen Chbosky's Wonder, despite its Hallmark Card appearance, is far from the exercise in emotional manipulation some might fear. Even the most pessimistic of us may actually find it charming and genuinely affecting. 0.28333333333333327\n",
      "The movie's biggest fantasy is a world where there are no fundamental conflicts, only misunderstandings. 0.0\n",
      "It's a film that's going to touch a lot of people in all the right ways with a life-affirming message about looking beyond the obvious differences to see the person behind the mask. -0.038095238095238106\n",
      "Wonder levels the social playing field by widening its narrative frame to focus on Jack, Julian, and Miranda, each of whom hurts as much as Auggie and his family. 0.11666666666666667\n",
      "\"Wonder\" is a family film in the best sense. 1.0\n",
      "It's more than a tad manipulative, but there's also a moral sweetness at the heart of the film that acts as a solid takeaway for kid viewers. 0.16666666666666666\n",
      "\"Wonder\" is that rare thing, a family picture that moves and amuses while never overtly pandering. 0.3\n",
      "The film has an almost pathological need to ensure that everything turns out well for every single character, while at the same time eliding any truly difficult issues. -0.19047619047619047\n",
      "Mostly it succeeds in telling not one complicated story, but many, and giving the experience of being a confused or lonely or scared youngster the space it deserves. 0.039999999999999994\n",
      "\"Wonder\" hits a few moments too hard and flirts with corniness at times, but makes something active and compelling from the spectacle of nice people trying to do right, and it's a refreshing thing to see. 0.15153061224489797\n",
      "\"Wonder\" will make you cry - that's one of the main purposes of its existence - but it'll also drive you a little crazy. -0.20694444444444446\n",
      "Auggie, bless him, stops putting on that astronaut helmet. The movie does things differently. It wears a space suit and never takes it off. 0.0\n",
      "\"Wonder\" is a movie that should be shown to young and old as a life lesson in how to deal with people who appear to be different. 0.06666666666666667\n",
      "Though its upbeat earnestness is ever-present, it has the integrity to understand that not even kindness can eliminate all problems. 0.0\n",
      "You're guaranteed to spend nearly two hours with a lump the size of a nectarine in your throat without resenting it. 0.1\n",
      "It's never mawkish or manipulative, and its characters are so well-established both in the writing and in the performances that the movie ultimately does the hard work of earning those damp Kleenexes. -0.14583333333333334\n",
      "Kids may not notice or care, but the movie, which advocates kindness, comes with an irony. It's a film about embracing differences and seeing beyond appearances, but it rarely bucks convention or gets more than skin deep. 0.26666666666666666\n",
      "Chbosky might yank us through the wringer like we're in a car wash, but it's nice to feel clean for a change. 0.48333333333333334\n",
      "It is a film with all the depth of a fridge magnet. 0.0\n",
      "Although thoughtfully rendered, this unashamedly sappy drama about a 10-year-old boy with facial differences eventually succumbs to its worst touchy-feely tendencies. -0.275\n",
      "It's a very tasteful heart-tugger - a drama of disarmingly level-headed empathy that glides along with wit, assurance, and grace, and has something touching and resonant to say about the current climate of American bullying. 0.175\n",
      "Its lessons in compassion and self-acceptance are treacle-free, and however movie-shiny the story's world of economic comfort and prep school, those lessons pack a universal punch. 0.1\n",
      "A weird, intense movie that has the courage of its convictions. -0.15\n",
      "The performances are acerbic... Pike's Elspeth is brilliantly cracked. 0.9\n",
      "The power of Barry Keoghan’s center-ring performance cannot be adequately over-praised. 0.3333333333333333\n",
      "The sexual groveling of Oliver is akin to the social groveling of anyone who worships the ultra rich simply for being rich. 0.25666666666666665\n",
      "Mr. Keoghan has an uncanny ability to come across as shifty and devious even in repose, and his performance is the key to the movie. 0.0\n",
      "But by the end of it, I just felt like I I've seen this movie before. 0.0\n",
      "There’s fertile ground for satire here, but that would require a scalpel, and Fennell wields a blunt hatchet. 0.0\n",
      "Emerald Fennell’s deliciously dark comedy sticks the knife into the English class system and gives it a proper twist. -0.049999999999999996\n",
      "Love it or loathe it, Emerald Fennell’s deliciousl takedown of the upper classes keeps you glued to Barry Keoghan as a poorboy driven to madness and worse by a rich Adonis (Jacob Elordi) and his hilariously vampiric mom (an Oscar-ready Rosamund Pike). 0.195\n",
      "It's good, but familiar. 0.5375\n",
      "One expects this development will effectively end Oliver’s time at Saltburn, but it only serves to embolden Oliver and motivate him to show his true colors. Let’s just say Saltburn and many of its denizens will never be the same. 0.29\n",
      "Certain to upset pious viewers while thrilling those who love twisted, decadent thrillers. And, oh my goodness, what an ending. 0.09285714285714286\n",
      "A character who acts without context or motivation is not compelling to me. Saltburn tries to shock us, again and again—instead, it ends up being a bit of an empty suit. -0.11666666666666665\n",
      "I've seen Keoghan in many movies but I barely recognized him in \"Saltburn.\" It's a high-wire act and, even if \"Saltburn\" isn't always sure what it's doing, Keoghan never misses a beat. 0.35000000000000003\n",
      "Visually, the movie can be quite pretty. Linus Sandgren, Damien Chazelle’s go-to cinematographer, shot it. Emotionally, it’s ugly through and through, which the prettiness makes that much uglier. -0.062499999999999986\n",
      "A risible and hollow Talented Mr. Ripley for the Euphoria generation. 0.3\n",
      "Saltburn is a summer-break journey into bourgeois excess and sociopathic tenacity that wrapped its seductive tentacles around my throat and then spent 127 glorious minutes gently tightening its slithery embrace. 0.05\n",
      "Come for the class warfare and the occasional shots-fired zingers about the rich being different than you and me. Stay for Keoghan. 0.125\n",
      "Make no mistake, the clever writing is here, as is the style, the sleek technique, and some terrific performances (Rosamund Pike is especially delicious in a supporting role). What’s missing, or muddled, is the message -- and perhaps even more, the heart. 0.28611111111111115\n",
      "\"Saltburn\" is a revenge opera that's more silly than it is serious — \"The Talented Mr. Ripley\" for the millennial crowd — and it feels like one that Fennell needed to get out of her system in able to move forward. 0.17333333333333334\n"
     ]
    }
   ],
   "source": [
    "from textblob import TextBlob  # Importing the TextBlob library\n",
    "\n",
    "def analyze_sentiment(frasi):\n",
    "    blob = TextBlob(frasi)  # Creating a TextBlob object from the input text\n",
    "    sentiment = blob.sentiment.polarity  # Calculating the sentiment polarity of the text\n",
    "    print(frasi, sentiment)  # Print the sentiment of each sentence\n",
    "    if sentiment > 0:  # If the sentiment polarity is positive\n",
    "        return 'Positive'\n",
    "    elif sentiment < 0:  # If the sentiment polarity is negative\n",
    "        return 'Negative'\n",
    "    else:  # If the sentiment polarity is neutral\n",
    "        return 'Neutral'\n",
    "\n",
    "\n",
    "sentiments_critica_drama = []\n",
    "for sublista in recensioni_critica_drama:\n",
    "    for recensione in sublista:\n",
    "        frase = recensione[0]  # Accessing the review text from each sublist item\n",
    "        sentiment = analyze_sentiment(frase)\n",
    "        sentiments_critica_drama.append(sentiment)\n",
    "\n",
    "# Printing the sentiments of\n"
   ]
  },
  {
   "cell_type": "code",
   "execution_count": 19,
   "id": "48858fc5",
   "metadata": {},
   "outputs": [
    {
     "data": {
      "text/plain": [
       "132"
      ]
     },
     "execution_count": 19,
     "metadata": {},
     "output_type": "execute_result"
    }
   ],
   "source": [
    "len( sentiments_critica_drama)"
   ]
  },
  {
   "cell_type": "code",
   "execution_count": 20,
   "id": "bd552d24",
   "metadata": {},
   "outputs": [
    {
     "name": "stdout",
     "output_type": "stream",
     "text": [
      "File CSV 'sentiments_critica_drama_no_oscar.csv' creato con successo.\n"
     ]
    }
   ],
   "source": [
    "import csv\n",
    "csv_filename = \"sentiments_critica_drama_no_oscar.csv\"\n",
    "\n",
    "with open(csv_filename, mode='w', newline='') as file:\n",
    "    writer = csv.writer(file)\n",
    "    writer.writerow(['Sentiment'])  # Write header\n",
    "    for sentiment in sentiments_critica_drama:\n",
    "        writer.writerow([sentiment])\n",
    "\n",
    "print(f\"File CSV '{csv_filename}' creato con successo.\")"
   ]
  },
  {
   "cell_type": "markdown",
   "id": "024a120e",
   "metadata": {},
   "source": [
    "## Comedy"
   ]
  },
  {
   "cell_type": "code",
   "execution_count": 21,
   "id": "333c4082",
   "metadata": {},
   "outputs": [
    {
     "name": "stdout",
     "output_type": "stream",
     "text": [
      "55\n"
     ]
    }
   ],
   "source": [
    "with open('recensioni_critica_youth.pickle', 'rb') as f:\n",
    "    r_critica_youth = pickle.load(f)\n",
    "    r_critica_youth=[sottolista for sottolista in r_critica_youth if sottolista!=['']]\n",
    "    print(len( r_critica_youth))\n",
    "    "
   ]
  },
  {
   "cell_type": "code",
   "execution_count": 22,
   "id": "b729659f",
   "metadata": {},
   "outputs": [
    {
     "name": "stdout",
     "output_type": "stream",
     "text": [
      "4\n"
     ]
    }
   ],
   "source": [
    "with open('recensioni_critica_ce_ancora_domani', 'rb') as f:\n",
    "    r_critica_ce_ancora_domani = pickle.load(f)\n",
    "    r_critica_ce_ancora_domani=[sottolista for sottolista in  r_critica_ce_ancora_domani if sottolista!=['']]\n",
    "    print(len( r_critica_ce_ancora_domani))\n",
    "    "
   ]
  },
  {
   "cell_type": "code",
   "execution_count": 23,
   "id": "f7e316d9",
   "metadata": {},
   "outputs": [],
   "source": [
    "recensioni_critica_comedy=[]\n",
    "recensioni_critica_comedy=[\n",
    "       r_critica_youth,\n",
    "    r_critica_ce_ancora_domani \n",
    "    \n",
    "    \n",
    "]"
   ]
  },
  {
   "cell_type": "code",
   "execution_count": 24,
   "id": "bbba1fb6",
   "metadata": {},
   "outputs": [
    {
     "data": {
      "text/plain": [
       "59"
      ]
     },
     "execution_count": 24,
     "metadata": {},
     "output_type": "execute_result"
    }
   ],
   "source": [
    " sum(len(lista) for lista in recensioni_critica_comedy)"
   ]
  },
  {
   "cell_type": "code",
   "execution_count": 25,
   "id": "d6cca3ee",
   "metadata": {},
   "outputs": [
    {
     "name": "stdout",
     "output_type": "stream",
     "text": [
      "Youth has nothing new to say, its Italian thematic aesthetic nothing more than a mask for an emotional schadenfreude impossible to take pleasure in. -0.005050505050505046\n",
      "Sorrentino wants to say something profound about illnesses that bury loved ones alive. But the pompous lines kill the mood. 0.2708333333333333\n",
      "Occasionally the warring elements come together, finding plaintive and heartfelt song amid the cacophony of seemingly random voices. -0.16666666666666666\n",
      "In his culminating despair, Keitel says: \"We're all just extras.\" You wouldn't want to be even that here ... 0.0\n",
      "Sorrentino has enough standing to attract stars of the calibre of Caine, Keitel and even Jane Fonda... It's just that its messages... are rather beneath them. All that effort is wasted on Youth. -0.1\n",
      "The film is far too flighty to allow its actors to bring much depth or pathos to their characters. 0.15000000000000002\n",
      "A joyous, gently moving experience anchored by a fearless central turn from Michael Caine. 0.1\n",
      "An Alpine study of ageing and creativity that's as fresh and bracing as the mountain air, although occasionally just as chilly. -0.09999999999999999\n",
      "Sumptuous, sincere and built on aging bones, \"Youth\" is a wonder of a film, a look back at life's sprawling possibilities, dark corners and aspirations. 0.11666666666666665\n",
      "Youth may not be as culturally specific as The Great Beauty or Sorrentino's other Italian-language films, but its universal story of how to deal with the passing of time and with changing circumstances is told with precision and tender serenity. 0.16875\n",
      "Youth is a meditation on aging, on friendship, on love, loss, wisdom, disillusionment, pain. 0.5\n",
      "There is little life here. Only artifice. And some howlingly awful dialogue. -0.3958333333333333\n",
      "Rumination and regret dominate the proceedings, but the exquisite visual splendor of the film is a character in its own right and lightens the tone just enough to keep it from tipping over into the maudlin. Certain perfect sequences stay with you. 0.4428571428571429\n",
      "Absolutely beautiful and sometimes maddening while never offering easy answers. 0.6416666666666666\n",
      "Writer-director Paolo Sorrentino (The Great Beauty) has made something of a crowd pleaser, a gorgeous consideration of the artistic impulse that yields up its fruits without too much of a struggle. 0.5083333333333333\n",
      "Save for a pair of profound moments, don't be surprised if your mind frequently wanders off during Youth, despite all its weighty subjects arbitrarily hammered on screen. 0.04583333333333333\n",
      "Film is a medium that consecrates memory, which makes it an especially apt metaphor in a movie about two old men. 0.55\n",
      "Michael Caine, superb as always, is back at work in this sublimely visual treatise on... 0.3333333333333333\n",
      "The two veterans play off each other splendidly; other eccentric characters weave in and out winningly as well. 0.0625\n",
      "There's real humanity here, and it may hit closer to home than you'd expect. 0.2\n",
      "'Tremendous effort with a modest result,\" says the old man to his old friend. He's talking about raising children to adulthood, but the sentiment could just as easily apply to \"Youth,\" the ambitious but lackluster new film by Italy's Paolo Sorrentino. 0.20757575757575758\n",
      "How much better is it to experience a film overflowing with so many elements than one that has to stretch its content just to get to the finish line? 0.5\n",
      "Youth is imperfect and it meanders, but Caine and Keitel bring this thing to life with gusto. 0.0\n",
      "I'm not sure the buzz of watching it is worth the headache the morning after. 0.024999999999999994\n",
      "Though often beautiful, this is an emotionally paralyzed film about emotionally paralyzed people. 0.2833333333333333\n",
      "Sorrentino's magic is all smoke and mirrors. People calling this movie a visual feast must be awfully famished. -0.16666666666666666\n",
      "The film mostly plays like an extended spa stay, and, like with any superior vacation, what you find in it, and what you take away from it, is probably your own. Here's the rare film that refreshes. 0.5249999999999999\n",
      "Each imagistic sequence in \"Youth\" is like an island that happens to be united to other free-standing islands. Each scene has a life of its own. 0.2375\n",
      "The film's greatest strength is its major team-up. Caine and Keitel have an electric chemistry when they're onscreen together ... 0.53125\n",
      "Good as it looks, the film starts to feel like an airline magazine collaboratively produced by the editorial staffs of Playboy and Modern Maturity. 0.44999999999999996\n",
      "The impermanence of life, the fragility of love, the persistence of desire: These are the issues that swirl around a Swiss spa and its luxuriating inhabitants in Youth. 0.5\n",
      "Original and unpredictable, Youth trusts its audience's curiosity and powers of perception. 0.10416666666666667\n",
      "Quixotic, idiosyncratic, effortlessly moving, it's as much a cinematic essay as anything else, a meditation on the wonders and complications of life, an examination of what lasts, of what matters to people no matter their age. 0.1\n",
      "From early on my strong desire was for this horribly pretentious phantasmagoria to be over. 0.07777777777777778\n",
      "What bonds the movie's many, sometimes clashing elements is Caine's embodiment of the rueful yet accepting Fred. 0.5\n",
      "Fasten your seat belts for Jane Fonda, who gives a seismic jolt to Paolo Sorrentino's exquisite meditation on art and aging. 1.0\n",
      "It's music for the eyes. 0.0\n",
      "It's hard to imagine a universe in which Caine and Keitel are best friends, yet they have a frisky, undeniable chemistry. Their scenes are magic. 0.40277777777777773\n",
      "The movie is gorgeous, as you would expect from Sorrentino, but beauty this great can lead to suffocation. The plot goes round and round and nowhere ... 0.275\n",
      "Paolo Sorrentino's tendency to make characters mouthpieces for his petty grievances manifests most strongly, as usual, in resolutely two-dimensional women. 0.049999999999999996\n",
      "Youth is a voluptuary's feast, a full-body immersion in the sensory pleasures of the cinema. 0.0\n",
      "An emotionally rich contemplation of life's wisdom gained, lost and remembered -- with cynicism harping from the sidelines, but as a wearied chord rather than a major motif. 0.21875\n",
      "There are elements of Fellini and Bill Forsyth's Local Hero in the mix of nostalgia, musings on contemporary life and anecdotes. The story is told so far in the abstract that it never feels trite. 0.08888888888888889\n",
      "Sorrentino packs the film with entrancing images. 0.0\n",
      "It's a visual banquet of a film, which meditates on ageing with wit and tenderness. 0.0\n",
      "Paolo Sorrentino's new movie set in a Swiss sanatorium is a diverting, minor work, tweaked up with funny ideas and images and visually as stylish as ever. 0.2090909090909091\n",
      "Everything is ramped-up, hyper, effortful and constructed. Very rarely are things just allowed to be, a silence allowed to reign, or a real human moment allowed to bloom. 0.195\n",
      "There are lightning-flashes of pure, ornamental brilliance throughout Paolo Sorrentino's Youth, although there's not much happening on the landscape they illuminate. 0.057142857142857134\n",
      "Not all the best cinema works on unfiltered sensation, but Sorrentino's definitely does. 0.5\n",
      "With each new twist, Sorrentino is always one step ahead of his audience, building a narrative that skips along at an enthralling pace. 0.13636363636363635\n",
      "Nobody else is making such operatic films half so well as Sorrentino. -0.08333333333333333\n",
      "It diverts more than it delights. 0.5\n",
      "Every shot is a thing of beauty. For most of this film I had the impulse to hoist my camera and take a snapshot of it. It is just one dizzying image after another. 0.5\n",
      "This flawed, lovely, odd film both displeases and delights. -0.05555555555555555\n",
      "Michael Caine and Harvey Keitel make beautiful music together in a witty, wise and swooningly beautiful dramatic comedy. 0.49333333333333335\n",
      "It doesn’t always work – positioning spousal violence for lols is a fairly bold directorial gamble – but Cortellesi’s charisma and the message of empowerment carry the film. 0.3333333333333333\n",
      "A diverting and unusual movie, then, but not quite the classic it's being billed as. 0.18333333333333335\n",
      "With meticulous design, and Davide Leone’s pitch-perfect camerawork, this is a thoughtful, emotionally satisfying, immensely entertaining one-off, with an ending that smartly dynamites our expectations. 0.4035714285714285\n",
      "This is storytelling with terrific confidence and panache. 0.0\n"
     ]
    }
   ],
   "source": [
    "from textblob import TextBlob  # Importing the TextBlob library\n",
    "\n",
    "def analyze_sentiment(frasi):\n",
    "    blob = TextBlob(frasi)  # Creating a TextBlob object from the input text\n",
    "    sentiment = blob.sentiment.polarity  # Calculating the sentiment polarity of the text\n",
    "    print(frasi, sentiment)  # Print the sentiment of each sentence\n",
    "    if sentiment > 0:  # If the sentiment polarity is positive\n",
    "        return 'Positive'\n",
    "    elif sentiment < 0:  # If the sentiment polarity is negative\n",
    "        return 'Negative'\n",
    "    else:  # If the sentiment polarity is neutral\n",
    "        return 'Neutral'\n",
    "\n",
    "\n",
    "sentiments_critica_comedy = []\n",
    "for sublista in recensioni_critica_comedy:\n",
    "    for recensione in sublista:\n",
    "        frase = recensione[0]  # Accessing the review text from each sublist item\n",
    "        sentiment = analyze_sentiment(frase)\n",
    "        sentiments_critica_comedy.append(sentiment)\n",
    "\n",
    "# Printing the sentiments of\n"
   ]
  },
  {
   "cell_type": "code",
   "execution_count": 26,
   "id": "fa920712",
   "metadata": {},
   "outputs": [
    {
     "data": {
      "text/plain": [
       "59"
      ]
     },
     "execution_count": 26,
     "metadata": {},
     "output_type": "execute_result"
    }
   ],
   "source": [
    "len( sentiments_critica_comedy)"
   ]
  },
  {
   "cell_type": "code",
   "execution_count": 27,
   "id": "0f65a0b8",
   "metadata": {},
   "outputs": [
    {
     "name": "stdout",
     "output_type": "stream",
     "text": [
      "File CSV 'sentiments_critica_comedy_no_oscar.csv' creato con successo.\n"
     ]
    }
   ],
   "source": [
    "import csv\n",
    "csv_filename = \"sentiments_critica_comedy_no_oscar.csv\"\n",
    "\n",
    "with open(csv_filename, mode='w', newline='') as file:\n",
    "    writer = csv.writer(file)\n",
    "    writer.writerow(['Sentiment'])  # Write header\n",
    "    for sentiment in sentiments_critica_comedy:\n",
    "        writer.writerow([sentiment])\n",
    "\n",
    "print(f\"File CSV '{csv_filename}' creato con successo.\")"
   ]
  },
  {
   "cell_type": "markdown",
   "id": "fc43b9eb",
   "metadata": {},
   "source": [
    "## Biography"
   ]
  },
  {
   "cell_type": "code",
   "execution_count": 28,
   "id": "7f0eaea4",
   "metadata": {},
   "outputs": [
    {
     "name": "stdout",
     "output_type": "stream",
     "text": [
      "34\n"
     ]
    }
   ],
   "source": [
    "with open('recensioni_critica_erin_brock.pickle', 'rb') as f:\n",
    "    r_critica_erin_brock= pickle.load(f)\n",
    "    r_critica_erin_brock=[sottolista for sottolista in  r_critica_erin_brock if sottolista!=['']]\n",
    "    print(len(r_critica_erin_brock))\n",
    "    "
   ]
  },
  {
   "cell_type": "code",
   "execution_count": 29,
   "id": "e868e0a8",
   "metadata": {},
   "outputs": [
    {
     "name": "stdout",
     "output_type": "stream",
     "text": [
      "46\n"
     ]
    }
   ],
   "source": [
    "with open('recensioni_critica_hotel_rwanda.pickle', 'rb') as f:\n",
    "    r_critica_hotel_rwanda = pickle.load(f)\n",
    "    r_critica_hotel_rwanda=[sottolista for sottolista in r_critica_hotel_rwanda if sottolista!=['']]\n",
    "    print(len(r_critica_hotel_rwanda))\n",
    "    "
   ]
  },
  {
   "cell_type": "code",
   "execution_count": 30,
   "id": "89c9d6a7",
   "metadata": {},
   "outputs": [],
   "source": [
    "recensioni_critica_biography=[]\n",
    "recensioni_critica_biography=[\n",
    "    r_critica_erin_brock,\n",
    "    r_critica_hotel_rwanda\n",
    "    \n",
    "    \n",
    "]"
   ]
  },
  {
   "cell_type": "code",
   "execution_count": 31,
   "id": "cc01a3d9",
   "metadata": {},
   "outputs": [
    {
     "data": {
      "text/plain": [
       "80"
      ]
     },
     "execution_count": 31,
     "metadata": {},
     "output_type": "execute_result"
    }
   ],
   "source": [
    " sum(len(lista) for lista in recensioni_critica_biography)"
   ]
  },
  {
   "cell_type": "code",
   "execution_count": 32,
   "id": "d958467b",
   "metadata": {},
   "outputs": [
    {
     "name": "stdout",
     "output_type": "stream",
     "text": [
      "In the title role, Roberts carries the film in the best sense, by taking us on a human journey of genuine discovery and growth. 0.4666666666666666\n",
      "Julia Roberts winner. R mostly for language. 0.5\n",
      "Erin is far and away her own worst enemy — and a good thing too, because she needed at least one. 0.019999999999999983\n",
      "The film lacks focus and energy, the character development is facile and thin, and what about those necklines? -0.4\n",
      "Roberts shines. 0.0\n",
      "An exhilarating tale. 0.7\n",
      "One of the gutsiest, most exciting, and most satisfying courtroom docudramas ever, one that genuinely lifts the spirits as you watch it. 0.44000000000000006\n",
      "Atop all the talk about this being Roberts' career performance so far (and it is), it would be unjust to overlook that this is also the best screen role Finney has had in years. 0.55\n",
      "It's easy to forget you're watching a performance. 0.43333333333333335\n",
      "[Roberts looks] spectacularly and movingly human even at the expense of her established persona. 0.3\n",
      "Just watch [Finney's] reactions to see a great supporting actor at work. 0.525\n",
      "It's a prime Julia Roberts movie, and it is beguiling at just that. 0.0\n",
      "Demonstrates how good Soderbergh is with actors. 0.7\n",
      "With this script, Grant becomes Hollywood's foremost writer of strong, smart women's roles, and Lachmann works the same wonders with the atomizing light of Southern California that he did in Soderbergh's The Limey. 0.2095238095238095\n",
      "Soderbergh demands a lot from his star here, and she delivers, perhaps more than even he expected. 0.2\n",
      "The arc of the tale may be conventional, but Roberts, in her most forceful dramatic performance, allows us to take in every moment through fresh, impassioned eyes. 0.05595238095238096\n",
      "The best \"message movie\" in recent memory, it is also, so far, the best film of the new millennium. 0.44727272727272727\n",
      "Susannah Grant's script gets to the engrossing bare bones of Erin's search for justice. 0.325\n",
      "Roberts has never been better as she glares and swears her way through the movie. 0.5\n",
      "What Soderbergh can do as well as anyone is bring restraint, intelligence and subtlety to mainstream material, and what a difference that makes. 0.0\n",
      "[Soderbergh's] knack for getting career-defining turns from actors is intact. 0.0\n",
      "It's not that this is lousy entertainment, it's just that it's a Serious Topic given unnecessary Celebrity Sheen. -0.41111111111111115\n",
      "Involving and entertaining. 0.5\n",
      "It's a victory for Julia Roberts, co-star Albert Finney and director Steven Soderbergh. It's also a victory for the audience. 0.0\n",
      "Roberts does what the best movie stars do. She makes you believe in Erin Brockovich as a living, breathing human being even as you're also constantly aware that you're watching Julia Roberts on screen. 0.4166666666666667\n",
      "I found myself surprisingly engaged. 0.7\n",
      "From the opening to the perfect final shot, Roberts is in nearly every scene of Erin Brockovich, and there isn't a second when we're not on her side. 0.275\n",
      "Even if Erin Brockovich leaves us contemplating its many loopholes, the verdict remains: some sellouts are worth the price of admission. 0.4\n",
      "Not only is every plot development signaled far in advance, but nearly every scene in the film's long second section rings a variation of one of two themes: 1) Julia Roberts tells somebody off, or 2) Julia Roberts feels somebody's pain. 0.030000000000000006\n",
      "Entertaining, instructive, emotional, expertly directed and funny. 0.25\n",
      "A completly involving movie that will grab you from the first frame of film to the closing credits. 0.25\n",
      "A rousing, hugely entertaining movie. 0.5\n",
      "There is never a dull moment. 0.14583333333333334\n",
      "A stand-up-and-cheer crowd pleaser. 0.0\n",
      "Cheadle, in his richest role since Devil in a Blue Dress, burrows deep inside this complex man, who discovers in himself a strength he never knew he possessed as he faces the disillusion of all the \"civilized\" notions he believes in. 0.02500000000000001\n",
      "There's a tidiness and sense of convenience in the film's stock characterisations and button-pushing plotting that detracts from its impact. The film doesn't just contrive to contain the slaughter, but also its own anger. -0.04999999999999999\n",
      "Who cares about overdone orchestral blasts or signpost-waving lines of dialogue when such raw, naked, painful humanity is displayed by Don Cheadle in the central role? -0.18615384615384617\n",
      "Cheadle has an Oscar nomination for best actor. But this isn't a grandstanding portrayal: it is a performance at the service of the work. 1.0\n",
      "Showing traces of the well-meaning paternalism that dogs many Western films about Africa, Hotel Rwanda doesn't go far enough in indicting Europeans and Americans for protecting their own while failing to intervene in time to stop the mass killings. 0.24\n",
      "Incapable of honestly confronting its ugly subject matter. -0.08888888888888886\n",
      "Here, now, is the true face of human barbarity, and the true face of human heroism. Not in the now-distant mythology of World War II… 0.175\n",
      "The emotion comes from Don Cheadle's thrilling portrait of ordinary heroism, a performance that's matched only by the magnificent Sophie Okonedo as his wife Tatiana. 0.25\n",
      "Scrappy, powerful, and shocking. -0.35\n",
      "Move past the big picture, of race hatred, arbitrary maps and guilt over what the UN and the West can't or won't do, and find the human story within the inhumanity of war. -0.0875\n",
      "The great strength of Hotel Rwanda is that it's not about superhuman heroism but simply about human decency. 0.26666666666666666\n",
      "The almost forgotten but all too real African genocide documented in Hotel Rwanda hits us as suddenly and as hard as it does Paul Rusesabagina, the accidental hero played so masterfully by Don Cheadle. 0.17708333333333331\n",
      "It has a genuine power: the ability of film to beam light onto dark days of history, making it impossible for us to look away, reminding us of what we should never forget. -0.004166666666666652\n",
      "What makes the film not just harrowing but transcendent is Cheadle. He does nothing traditionally heroic. He just presents a picture of basic decency, showing how, when combined with courage, decency can result in an awe- inspiring moral steadfastness. 0.3\n",
      "A film that uses the comfort of the predictable to make horror palatable to a wider audience. -0.2\n",
      "Because of the subject matter, this feels like one of those films you see because it's good for you. But it also is an extraordinarily moving drama. 0.2888888888888889\n",
      "There is much to respect in Hotel Rwanda, not least Cheadle's subtly crafted performance, which allows the audience a direct connection to his ethical growth. 0.06333333333333332\n",
      "If Hotel Rwanda does nothing more than provoke the obvious questions of 'How did this happen?' and 'How can we prevent it from happening again?' it has, like the hotelier who refuses to consider himself a hero, done its job. 0.25\n",
      "The film serves as reminder and educator for those who've forgotten or never knew about the situation in Rwanda. 0.0\n",
      "The world stayed out of Rwanda for fear of doing an imperfect job. Bold filmmakers are at their best when they mature beyond that kind of paralysis. 0.5083333333333333\n",
      "Cheadle gives one of the best performances (if not the best) of last year -- an Oscar-worthy portrait of a man who kept his head clear and his humanity intact in the midst of a man-made hell. 0.525\n",
      "The twofold agenda in Hotel Rwanda is to commemorate what Paul Rusesabagina did and to shame each and every Westerner who sees the movie. On both of those counts it is successful. 0.75\n",
      "[The movie] sweeps over you with blunt, unequivocal conviction. 0.0\n",
      "[A] flat, cramped staging which, combined with d.p. Robert Fraisse's harsh overlighting, gives the film the feel of a cheap backlot production, even though it was shot on location. 0.05833333333333334\n",
      "If [Schindler's List] had never been made, Hotel Rwanda might seem better than it does, and probably better than it is. 0.5\n",
      "A gut-punch of a drama. 0.0\n",
      "A must-see for teens (and adults, for that matter) who know the Rwanda massacre as but a distant headline. -0.1\n",
      "A horrifying yet compelling story of man's inhumanity to man. -0.30000000000000004\n",
      "It's simultaneously haunting and inspiring. 0.5\n",
      "Hotel Rwanda is a strange history lesson that leaves us more overlectured than properly overwhelmed. 0.15\n",
      "The film defines how, using cunning and courage, a person can change the course of history -- and stand up to the inhumanity in our midst. 0.0\n",
      "By turns harrowing and stirring, it's a shame-inducing history lesson that never feels like a lecture. 0.0\n",
      "Don Cheadle takes his rightful place among America's greatest actors in Hotel Rwanda. 1.0\n",
      "It's a great story. But it's Cheadle who makes the movie really special, delivering a memorable and utterly convincing portrayal of a truly good man. 0.5714285714285715\n",
      "The most truly inspiring movie of the year. 0.5\n",
      "One of the year's most moving and powerful films, anchored by a magnificent performance by Don Cheadle. 0.6\n",
      "Cheadle affects a flawless Rwandan accent and gives a performance that should shame every UN member who voted to ignore the Rwandan Tutsis' pleas. 1.0\n",
      "The film works not because the screen is filled with meaningless special effects, formless action and vast digital armies, but because Cheadle, Nolte and the filmmakers are interested in how two men choose to function in an impossible situation. -0.007440476190476178\n",
      "Hotel Rwanda is a political thriller based on fact that hammers every button on the emotional console. 0.0\n",
      "Cheadle, whose Rusesabagina is both heroic and psychologically complex, is never less than utterly believable. 0.24583333333333332\n",
      "It's a gut-twisting story handled, largely and predictably, with asbestos mitts. 0.007142857142857131\n",
      "Perhaps the best movie of the year, worthy of multiple Academy Award nominations. 0.4444444444444444\n",
      "Despite flaws in execution, this is a film of rare courage and imperishable heart. 0.3\n",
      "I can hardly think of another movie in which sheer intelligence and decency have been made to seem so attractive or effective. 0.27708333333333335\n",
      "Terry George's Hotel Rwanda takes a cue less from history than it does from Schindler's List. -0.16666666666666666\n",
      "Both tough and tender, the movingly rendered production often strikes a devastating chord without resorting to any of the manipulative string-pulling known to accompany movies about 'men who made a difference.' -0.6944444444444444\n"
     ]
    }
   ],
   "source": [
    "from textblob import TextBlob  # Importing the TextBlob library\n",
    "\n",
    "def analyze_sentiment(frasi):\n",
    "    blob = TextBlob(frasi)  # Creating a TextBlob object from the input text\n",
    "    sentiment = blob.sentiment.polarity  # Calculating the sentiment polarity of the text\n",
    "    print(frasi, sentiment)  # Print the sentiment of each sentence\n",
    "    if sentiment > 0:  # If the sentiment polarity is positive\n",
    "        return 'Positive'\n",
    "    elif sentiment < 0:  # If the sentiment polarity is negative\n",
    "        return 'Negative'\n",
    "    else:  # If the sentiment polarity is neutral\n",
    "        return 'Neutral'\n",
    "\n",
    "\n",
    "sentiments_critica_biography = []\n",
    "for sublista in recensioni_critica_biography:\n",
    "    for recensione in sublista:\n",
    "        frase = recensione[0]  # Accessing the review text from each sublist item\n",
    "        sentiment = analyze_sentiment(frase)\n",
    "        sentiments_critica_biography.append(sentiment)\n",
    "\n",
    "# Printing the sentiments of\n"
   ]
  },
  {
   "cell_type": "code",
   "execution_count": 33,
   "id": "3de5f1cf",
   "metadata": {},
   "outputs": [
    {
     "data": {
      "text/plain": [
       "80"
      ]
     },
     "execution_count": 33,
     "metadata": {},
     "output_type": "execute_result"
    }
   ],
   "source": [
    "len(sentiments_critica_biography)"
   ]
  },
  {
   "cell_type": "code",
   "execution_count": 34,
   "id": "ac228fc1",
   "metadata": {},
   "outputs": [
    {
     "name": "stdout",
     "output_type": "stream",
     "text": [
      "File CSV 'sentiments_critica_biography_no_oscar.csv' creato con successo.\n"
     ]
    }
   ],
   "source": [
    "import csv\n",
    "csv_filename = \"sentiments_critica_biography_no_oscar.csv\"\n",
    "\n",
    "with open(csv_filename, mode='w', newline='') as file:\n",
    "    writer = csv.writer(file)\n",
    "    writer.writerow(['Sentiment'])  # Write header\n",
    "    for sentiment in sentiments_critica_biography:\n",
    "        writer.writerow([sentiment])\n",
    "\n",
    "print(f\"File CSV '{csv_filename}' creato con successo.\")"
   ]
  },
  {
   "cell_type": "code",
   "execution_count": null,
   "id": "baffe44a",
   "metadata": {},
   "outputs": [],
   "source": []
  }
 ],
 "metadata": {
  "kernelspec": {
   "display_name": "Python 3 (ipykernel)",
   "language": "python",
   "name": "python3"
  },
  "language_info": {
   "codemirror_mode": {
    "name": "ipython",
    "version": 3
   },
   "file_extension": ".py",
   "mimetype": "text/x-python",
   "name": "python",
   "nbconvert_exporter": "python",
   "pygments_lexer": "ipython3",
   "version": "3.9.19"
  }
 },
 "nbformat": 4,
 "nbformat_minor": 5
}
